{
 "cells": [
  {
   "cell_type": "markdown",
   "metadata": {},
   "source": [
    "### Observed Patterns Probability Adjustments\n",
    "#### Daniel Fay"
   ]
  },
  {
   "cell_type": "code",
   "execution_count": 1,
   "metadata": {
    "collapsed": true
   },
   "outputs": [],
   "source": [
    "# Import necessary packages\n",
    "import pandas as pd\n",
    "import numpy as np\n",
    "import pickle\n",
    "import itertools\n",
    "from sklearn.metrics import confusion_matrix, f1_score\n",
    "from sklearn.preprocessing import normalize\n",
    "from sklearn.externals import joblib\n",
    "import plotly.plotly as py\n",
    "import plotly\n",
    "import plotly.graph_objs as go\n",
    "from plotly.offline import download_plotlyjs, init_notebook_mode, plot, iplot\n",
    "import matplotlib.pyplot as plt\n",
    "import random\n",
    "%matplotlib inline\n",
    "\n",
    "pd.set_option('display.max_columns', 70)"
   ]
  },
  {
   "cell_type": "code",
   "execution_count": 2,
   "metadata": {
    "collapsed": true
   },
   "outputs": [],
   "source": [
    "# Load Data\n",
    "idap = pd.read_csv('processed_data/IDAP_processed.csv', index_col=0)\n",
    "rfc_model = joblib.load('processed_data/rfc_model.pkl')"
   ]
  },
  {
   "cell_type": "markdown",
   "metadata": {},
   "source": [
    "### Define Observed Pattern Adjustment Algorithm"
   ]
  },
  {
   "cell_type": "code",
   "execution_count": 3,
   "metadata": {},
   "outputs": [
    {
     "data": {
      "text/html": [
       "<div>\n",
       "<style>\n",
       "    .dataframe thead tr:only-child th {\n",
       "        text-align: right;\n",
       "    }\n",
       "\n",
       "    .dataframe thead th {\n",
       "        text-align: left;\n",
       "    }\n",
       "\n",
       "    .dataframe tbody tr th {\n",
       "        vertical-align: top;\n",
       "    }\n",
       "</style>\n",
       "<table border=\"1\" class=\"dataframe\">\n",
       "  <thead>\n",
       "    <tr style=\"text-align: right;\">\n",
       "      <th></th>\n",
       "      <th>PERNO</th>\n",
       "      <th>GENDER</th>\n",
       "      <th>PERTYPE</th>\n",
       "      <th>AGE</th>\n",
       "      <th>IDAP</th>\n",
       "      <th>CAR_SUFF</th>\n",
       "      <th>HINCCAT1</th>\n",
       "      <th>EDUCA</th>\n",
       "      <th>JOBS</th>\n",
       "      <th>JOBTYPE</th>\n",
       "      <th>ACCESSIBILITY</th>\n",
       "      <th>DIST</th>\n",
       "      <th>Retiree_NM</th>\n",
       "      <th>Retiree_M</th>\n",
       "      <th>Retiree_H</th>\n",
       "      <th>FT_Worker_NM</th>\n",
       "      <th>FT_Worker_M</th>\n",
       "      <th>FT_Worker_H</th>\n",
       "      <th>PT_Worker_NM</th>\n",
       "      <th>PT_Worker_M</th>\n",
       "      <th>PT_Worker_H</th>\n",
       "      <th>DA_Stud_NM</th>\n",
       "      <th>DA_Stud_M</th>\n",
       "      <th>DA_Stud_H</th>\n",
       "      <th>PreSch_Child_NM</th>\n",
       "      <th>PreSch_Child_M</th>\n",
       "      <th>PreSch_Child_H</th>\n",
       "      <th>PDA_Stud_NM</th>\n",
       "      <th>PDA_Stud_M</th>\n",
       "      <th>PDA_Stud_H</th>\n",
       "      <th>Non_Worker_NM</th>\n",
       "      <th>Non_Worker_M</th>\n",
       "      <th>Non_Worker_H</th>\n",
       "      <th>Univ_Stud_NM</th>\n",
       "      <th>Univ_Stud_M</th>\n",
       "      <th>Univ_Stud_H</th>\n",
       "      <th>H</th>\n",
       "      <th>M</th>\n",
       "      <th>NM</th>\n",
       "      <th>PREDICTION</th>\n",
       "    </tr>\n",
       "    <tr>\n",
       "      <th>SAMPN</th>\n",
       "      <th></th>\n",
       "      <th></th>\n",
       "      <th></th>\n",
       "      <th></th>\n",
       "      <th></th>\n",
       "      <th></th>\n",
       "      <th></th>\n",
       "      <th></th>\n",
       "      <th></th>\n",
       "      <th></th>\n",
       "      <th></th>\n",
       "      <th></th>\n",
       "      <th></th>\n",
       "      <th></th>\n",
       "      <th></th>\n",
       "      <th></th>\n",
       "      <th></th>\n",
       "      <th></th>\n",
       "      <th></th>\n",
       "      <th></th>\n",
       "      <th></th>\n",
       "      <th></th>\n",
       "      <th></th>\n",
       "      <th></th>\n",
       "      <th></th>\n",
       "      <th></th>\n",
       "      <th></th>\n",
       "      <th></th>\n",
       "      <th></th>\n",
       "      <th></th>\n",
       "      <th></th>\n",
       "      <th></th>\n",
       "      <th></th>\n",
       "      <th></th>\n",
       "      <th></th>\n",
       "      <th></th>\n",
       "      <th></th>\n",
       "      <th></th>\n",
       "      <th></th>\n",
       "      <th></th>\n",
       "    </tr>\n",
       "  </thead>\n",
       "  <tbody>\n",
       "    <tr>\n",
       "      <th>11002042</th>\n",
       "      <td>1</td>\n",
       "      <td>Female</td>\n",
       "      <td>Retiree</td>\n",
       "      <td>71</td>\n",
       "      <td>NM</td>\n",
       "      <td>More Cars than Workers</td>\n",
       "      <td>$49,999 or less</td>\n",
       "      <td>Bachelors or Higher Degree</td>\n",
       "      <td>No Job</td>\n",
       "      <td>No Job Type</td>\n",
       "      <td>13.659632</td>\n",
       "      <td>0.00</td>\n",
       "      <td>0.0</td>\n",
       "      <td>0.0</td>\n",
       "      <td>0.0</td>\n",
       "      <td>0.0</td>\n",
       "      <td>0.0</td>\n",
       "      <td>0.0</td>\n",
       "      <td>0.0</td>\n",
       "      <td>0.0</td>\n",
       "      <td>0.0</td>\n",
       "      <td>0.0</td>\n",
       "      <td>0.0</td>\n",
       "      <td>0.0</td>\n",
       "      <td>0.0</td>\n",
       "      <td>0.0</td>\n",
       "      <td>0.0</td>\n",
       "      <td>0.0</td>\n",
       "      <td>0.0</td>\n",
       "      <td>0.0</td>\n",
       "      <td>0.0</td>\n",
       "      <td>0.0</td>\n",
       "      <td>0.0</td>\n",
       "      <td>0.0</td>\n",
       "      <td>0.0</td>\n",
       "      <td>0.0</td>\n",
       "      <td>0.04</td>\n",
       "      <td>0.00</td>\n",
       "      <td>0.96</td>\n",
       "      <td>NM</td>\n",
       "    </tr>\n",
       "    <tr>\n",
       "      <th>11003319</th>\n",
       "      <td>1</td>\n",
       "      <td>Male</td>\n",
       "      <td>FT_Worker</td>\n",
       "      <td>57</td>\n",
       "      <td>M</td>\n",
       "      <td>More Cars than Workers</td>\n",
       "      <td>$75,000 or more</td>\n",
       "      <td>Bachelors or Higher Degree</td>\n",
       "      <td>One Job</td>\n",
       "      <td>Public Admin</td>\n",
       "      <td>13.652378</td>\n",
       "      <td>3.99</td>\n",
       "      <td>0.0</td>\n",
       "      <td>0.0</td>\n",
       "      <td>0.0</td>\n",
       "      <td>0.0</td>\n",
       "      <td>0.0</td>\n",
       "      <td>0.0</td>\n",
       "      <td>0.0</td>\n",
       "      <td>1.0</td>\n",
       "      <td>0.0</td>\n",
       "      <td>0.0</td>\n",
       "      <td>1.0</td>\n",
       "      <td>0.0</td>\n",
       "      <td>0.0</td>\n",
       "      <td>0.0</td>\n",
       "      <td>0.0</td>\n",
       "      <td>0.0</td>\n",
       "      <td>0.0</td>\n",
       "      <td>0.0</td>\n",
       "      <td>0.0</td>\n",
       "      <td>0.0</td>\n",
       "      <td>0.0</td>\n",
       "      <td>0.0</td>\n",
       "      <td>0.0</td>\n",
       "      <td>0.0</td>\n",
       "      <td>0.02</td>\n",
       "      <td>0.96</td>\n",
       "      <td>0.02</td>\n",
       "      <td>M</td>\n",
       "    </tr>\n",
       "    <tr>\n",
       "      <th>11003319</th>\n",
       "      <td>2</td>\n",
       "      <td>Female</td>\n",
       "      <td>PT_Worker</td>\n",
       "      <td>54</td>\n",
       "      <td>M</td>\n",
       "      <td>More Cars than Workers</td>\n",
       "      <td>$75,000 or more</td>\n",
       "      <td>Less than Bachelors</td>\n",
       "      <td>One Job</td>\n",
       "      <td>Education</td>\n",
       "      <td>13.652378</td>\n",
       "      <td>1.65</td>\n",
       "      <td>0.0</td>\n",
       "      <td>0.0</td>\n",
       "      <td>0.0</td>\n",
       "      <td>0.0</td>\n",
       "      <td>1.0</td>\n",
       "      <td>0.0</td>\n",
       "      <td>0.0</td>\n",
       "      <td>0.0</td>\n",
       "      <td>0.0</td>\n",
       "      <td>0.0</td>\n",
       "      <td>1.0</td>\n",
       "      <td>0.0</td>\n",
       "      <td>0.0</td>\n",
       "      <td>0.0</td>\n",
       "      <td>0.0</td>\n",
       "      <td>0.0</td>\n",
       "      <td>0.0</td>\n",
       "      <td>0.0</td>\n",
       "      <td>0.0</td>\n",
       "      <td>0.0</td>\n",
       "      <td>0.0</td>\n",
       "      <td>0.0</td>\n",
       "      <td>0.0</td>\n",
       "      <td>0.0</td>\n",
       "      <td>0.00</td>\n",
       "      <td>0.90</td>\n",
       "      <td>0.10</td>\n",
       "      <td>M</td>\n",
       "    </tr>\n",
       "    <tr>\n",
       "      <th>11003319</th>\n",
       "      <td>3</td>\n",
       "      <td>Male</td>\n",
       "      <td>DA_Stud</td>\n",
       "      <td>19</td>\n",
       "      <td>M</td>\n",
       "      <td>More Cars than Workers</td>\n",
       "      <td>$75,000 or more</td>\n",
       "      <td>Less than Bachelors</td>\n",
       "      <td>More than One Job</td>\n",
       "      <td>Retail</td>\n",
       "      <td>13.652378</td>\n",
       "      <td>1.36</td>\n",
       "      <td>0.0</td>\n",
       "      <td>0.0</td>\n",
       "      <td>0.0</td>\n",
       "      <td>0.0</td>\n",
       "      <td>1.0</td>\n",
       "      <td>0.0</td>\n",
       "      <td>0.0</td>\n",
       "      <td>1.0</td>\n",
       "      <td>0.0</td>\n",
       "      <td>0.0</td>\n",
       "      <td>0.0</td>\n",
       "      <td>0.0</td>\n",
       "      <td>0.0</td>\n",
       "      <td>0.0</td>\n",
       "      <td>0.0</td>\n",
       "      <td>0.0</td>\n",
       "      <td>0.0</td>\n",
       "      <td>0.0</td>\n",
       "      <td>0.0</td>\n",
       "      <td>0.0</td>\n",
       "      <td>0.0</td>\n",
       "      <td>0.0</td>\n",
       "      <td>0.0</td>\n",
       "      <td>0.0</td>\n",
       "      <td>0.02</td>\n",
       "      <td>0.96</td>\n",
       "      <td>0.02</td>\n",
       "      <td>M</td>\n",
       "    </tr>\n",
       "    <tr>\n",
       "      <th>11003959</th>\n",
       "      <td>1</td>\n",
       "      <td>Male</td>\n",
       "      <td>FT_Worker</td>\n",
       "      <td>40</td>\n",
       "      <td>M</td>\n",
       "      <td>Cars Equals to Workers</td>\n",
       "      <td>$49,999 or less</td>\n",
       "      <td>Bachelors or Higher Degree</td>\n",
       "      <td>One Job</td>\n",
       "      <td>Retail</td>\n",
       "      <td>13.562480</td>\n",
       "      <td>16.54</td>\n",
       "      <td>0.0</td>\n",
       "      <td>0.0</td>\n",
       "      <td>0.0</td>\n",
       "      <td>0.0</td>\n",
       "      <td>0.0</td>\n",
       "      <td>0.0</td>\n",
       "      <td>0.0</td>\n",
       "      <td>0.0</td>\n",
       "      <td>0.0</td>\n",
       "      <td>0.0</td>\n",
       "      <td>0.0</td>\n",
       "      <td>0.0</td>\n",
       "      <td>0.0</td>\n",
       "      <td>0.0</td>\n",
       "      <td>0.0</td>\n",
       "      <td>0.0</td>\n",
       "      <td>0.0</td>\n",
       "      <td>0.0</td>\n",
       "      <td>0.0</td>\n",
       "      <td>0.0</td>\n",
       "      <td>0.0</td>\n",
       "      <td>0.0</td>\n",
       "      <td>0.0</td>\n",
       "      <td>0.0</td>\n",
       "      <td>0.04</td>\n",
       "      <td>0.88</td>\n",
       "      <td>0.08</td>\n",
       "      <td>M</td>\n",
       "    </tr>\n",
       "  </tbody>\n",
       "</table>\n",
       "</div>"
      ],
      "text/plain": [
       "          PERNO  GENDER    PERTYPE  AGE IDAP                CAR_SUFF  \\\n",
       "SAMPN                                                                  \n",
       "11002042      1  Female    Retiree   71   NM  More Cars than Workers   \n",
       "11003319      1    Male  FT_Worker   57    M  More Cars than Workers   \n",
       "11003319      2  Female  PT_Worker   54    M  More Cars than Workers   \n",
       "11003319      3    Male    DA_Stud   19    M  More Cars than Workers   \n",
       "11003959      1    Male  FT_Worker   40    M  Cars Equals to Workers   \n",
       "\n",
       "                 HINCCAT1                       EDUCA               JOBS  \\\n",
       "SAMPN                                                                      \n",
       "11002042  $49,999 or less  Bachelors or Higher Degree             No Job   \n",
       "11003319  $75,000 or more  Bachelors or Higher Degree            One Job   \n",
       "11003319  $75,000 or more         Less than Bachelors            One Job   \n",
       "11003319  $75,000 or more         Less than Bachelors  More than One Job   \n",
       "11003959  $49,999 or less  Bachelors or Higher Degree            One Job   \n",
       "\n",
       "               JOBTYPE  ACCESSIBILITY   DIST  Retiree_NM  Retiree_M  \\\n",
       "SAMPN                                                                 \n",
       "11002042   No Job Type      13.659632   0.00         0.0        0.0   \n",
       "11003319  Public Admin      13.652378   3.99         0.0        0.0   \n",
       "11003319     Education      13.652378   1.65         0.0        0.0   \n",
       "11003319        Retail      13.652378   1.36         0.0        0.0   \n",
       "11003959        Retail      13.562480  16.54         0.0        0.0   \n",
       "\n",
       "          Retiree_H  FT_Worker_NM  FT_Worker_M  FT_Worker_H  PT_Worker_NM  \\\n",
       "SAMPN                                                                       \n",
       "11002042        0.0           0.0          0.0          0.0           0.0   \n",
       "11003319        0.0           0.0          0.0          0.0           0.0   \n",
       "11003319        0.0           0.0          1.0          0.0           0.0   \n",
       "11003319        0.0           0.0          1.0          0.0           0.0   \n",
       "11003959        0.0           0.0          0.0          0.0           0.0   \n",
       "\n",
       "          PT_Worker_M  PT_Worker_H  DA_Stud_NM  DA_Stud_M  DA_Stud_H  \\\n",
       "SAMPN                                                                  \n",
       "11002042          0.0          0.0         0.0        0.0        0.0   \n",
       "11003319          1.0          0.0         0.0        1.0        0.0   \n",
       "11003319          0.0          0.0         0.0        1.0        0.0   \n",
       "11003319          1.0          0.0         0.0        0.0        0.0   \n",
       "11003959          0.0          0.0         0.0        0.0        0.0   \n",
       "\n",
       "          PreSch_Child_NM  PreSch_Child_M  PreSch_Child_H  PDA_Stud_NM  \\\n",
       "SAMPN                                                                    \n",
       "11002042              0.0             0.0             0.0          0.0   \n",
       "11003319              0.0             0.0             0.0          0.0   \n",
       "11003319              0.0             0.0             0.0          0.0   \n",
       "11003319              0.0             0.0             0.0          0.0   \n",
       "11003959              0.0             0.0             0.0          0.0   \n",
       "\n",
       "          PDA_Stud_M  PDA_Stud_H  Non_Worker_NM  Non_Worker_M  Non_Worker_H  \\\n",
       "SAMPN                                                                         \n",
       "11002042         0.0         0.0            0.0           0.0           0.0   \n",
       "11003319         0.0         0.0            0.0           0.0           0.0   \n",
       "11003319         0.0         0.0            0.0           0.0           0.0   \n",
       "11003319         0.0         0.0            0.0           0.0           0.0   \n",
       "11003959         0.0         0.0            0.0           0.0           0.0   \n",
       "\n",
       "          Univ_Stud_NM  Univ_Stud_M  Univ_Stud_H     H     M    NM PREDICTION  \n",
       "SAMPN                                                                          \n",
       "11002042           0.0          0.0          0.0  0.04  0.00  0.96         NM  \n",
       "11003319           0.0          0.0          0.0  0.02  0.96  0.02          M  \n",
       "11003319           0.0          0.0          0.0  0.00  0.90  0.10          M  \n",
       "11003319           0.0          0.0          0.0  0.02  0.96  0.02          M  \n",
       "11003959           0.0          0.0          0.0  0.04  0.88  0.08          M  "
      ]
     },
     "execution_count": 3,
     "metadata": {},
     "output_type": "execute_result"
    }
   ],
   "source": [
    "hh_interactions_columns = ['Retiree_NM', 'Retiree_M', 'Retiree_H', 'FT_Worker_NM', 'FT_Worker_M', 'FT_Worker_H', \\\n",
    "                           'PT_Worker_NM', 'PT_Worker_M', 'PT_Worker_H', 'DA_Stud_NM', 'DA_Stud_M', 'DA_Stud_H', \\\n",
    "                           'PreSch_Child_NM', 'PreSch_Child_M', 'PreSch_Child_H', 'PDA_Stud_NM', 'PDA_Stud_M', 'PDA_Stud_H', \\\n",
    "                           'Non_Worker_NM', 'Non_Worker_M', 'Non_Worker_H', 'Univ_Stud_NM', 'Univ_Stud_M', 'Univ_Stud_H']\n",
    "\n",
    "\n",
    "#idap.drop(hh_interactions_columns, axis=1, inplace=True)\n",
    "idap.head()"
   ]
  },
  {
   "cell_type": "code",
   "execution_count": 4,
   "metadata": {},
   "outputs": [],
   "source": [
    "iteration = 1\n",
    "hh_interactions = pd.DataFrame(index=[list(itertools.product(idap.PERTYPE.unique(), idap.IDAP.unique()))])\n",
    "hh_interactions.reset_index(inplace=True)\n",
    "hh_interactions.columns = ['PERTYPE', 'PREDICTION']\n",
    "\n",
    "while iteration < 11:\n",
    "    idap.drop(hh_interactions_columns, axis=1, inplace=True)\n",
    "    hh_interactions_final = pd.DataFrame()\n",
    "    adjusted_probs = []\n",
    "    \n",
    "    for ix, row in idap.iterrows():\n",
    "        df = pd.DataFrame(idap.loc[ix])\n",
    "        if len(df.T) == 1:\n",
    "            temp = [0]*24\n",
    "            hh_interactions_final = hh_interactions_final.append(pd.Series(temp), ignore_index=True)\n",
    "        else:\n",
    "            if iteration == 1:\n",
    "                df = df.groupby(['PERTYPE', 'PREDICTION']).count()\n",
    "                df = df[['PERNO']]\n",
    "                df.columns = ['COUNT']\n",
    "                df.reset_index(inplace=True)\n",
    "                hh_interactions_temp = pd.merge(hh_interactions, df, how='left', on=['PERTYPE', 'PREDICTION'])\n",
    "                hh_interactions_temp.loc[(hh_interactions_temp.PERTYPE == row['PERTYPE']) & \\\n",
    "                                         (hh_interactions_temp.PREDICTION == row['PREDICTION']), 'COUNT'] = hh_interactions_temp.loc[(hh_interactions_temp.PERTYPE == row['PERTYPE']) & \\\n",
    "                                                                                                                 (hh_interactions_temp.PREDICTION == row['PREDICTION']), 'COUNT'] - 1\n",
    "                hh_interactions_final = hh_interactions_final.append(hh_interactions_temp['COUNT'].T)\n",
    "            else:\n",
    "                df = df.groupby(['PERTYPE', 'PREDICTION_ADJ_{}'.format(iteration-1)]).count()\n",
    "                df = df[['PERNO']]\n",
    "                df.columns = ['COUNT']\n",
    "                df.reset_index(inplace=True)\n",
    "                hh_interactions_temp = pd.merge(hh_interactions, df, how='left', on=['PERTYPE', 'PREDICTION_ADJ_{}'.format(iteration-1)])\n",
    "                hh_interactions_temp.loc[(hh_interactions_temp.PERTYPE == row['PERTYPE']) & \\\n",
    "                                         (hh_interactions_temp['PREDICTION_ADJ_{}'.format(iteration-1)] == row['PREDICTION_ADJ_{}'.format(iteration-1)]), 'COUNT'] = hh_interactions_temp.loc[(hh_interactions_temp.PERTYPE == row['PERTYPE']) & \\\n",
    "                                                                                                                 (hh_interactions_temp['PREDICTION_ADJ_{}'.format(iteration-1)] == row['PREDICTION_ADJ_{}'.format(iteration-1)]), 'COUNT'] - 1\n",
    "                hh_interactions_final = hh_interactions_final.append(hh_interactions_temp['COUNT'].T)                \n",
    "\n",
    "    hh_interactions_final.fillna(0, inplace=True)\n",
    "    hh_interactions_final.columns = hh_interactions_columns\n",
    "    idap.reset_index(inplace=True)\n",
    "    idap = pd.concat([idap, hh_interactions_final], axis=1)        \n",
    "\n",
    "    X = idap[[ 'GENDER', 'PERTYPE', 'AGE', 'CAR_SUFF',\n",
    "       'HINCCAT1', 'EDUCA', 'JOBS', 'JOBTYPE', 'ACCESSIBILITY', 'DIST',\n",
    "       'Retiree_NM', 'Retiree_M', 'Retiree_H',\n",
    "       'FT_Worker_NM', 'FT_Worker_M', 'FT_Worker_H', 'PT_Worker_NM',\n",
    "       'PT_Worker_M', 'PT_Worker_H', 'DA_Stud_NM', 'DA_Stud_M', 'DA_Stud_H',\n",
    "       'PreSch_Child_NM', 'PreSch_Child_M', 'PreSch_Child_H', 'PDA_Stud_NM',\n",
    "       'PDA_Stud_M', 'PDA_Stud_H', 'Non_Worker_NM', 'Non_Worker_M',\n",
    "       'Non_Worker_H', 'Univ_Stud_NM', 'Univ_Stud_M', 'Univ_Stud_H']]\n",
    "    \n",
    "    X = pd.get_dummies(X)\n",
    "\n",
    "    adjusted_probs = rfc_model.predict_proba(X)\n",
    "\n",
    "    idap['H_ADJ_{}'.format(iteration)] = [i[0] for i in adjusted_probs]\n",
    "    idap['M_ADJ_{}'.format(iteration)] = [i[1] for i in adjusted_probs]\n",
    "    idap['NM_ADJ_{}'.format(iteration)] = [i[2] for i in adjusted_probs]       \n",
    "\n",
    "    idap['PREDICTION_ADJ_{}'.format(iteration)] = rfc_model.predict(X)\n",
    "    hh_interactions = hh_interactions.rename(columns={'PREDICTION': 'PREDICTION_ADJ_{}'.format(iteration)})\n",
    "    hh_interactions = hh_interactions.rename(columns={'PREDICTION_ADJ_{}'.format(iteration-1): 'PREDICTION_ADJ_{}'.format(iteration)})\n",
    "    idap.set_index('SAMPN', inplace=True)\n",
    "    iteration += 1"
   ]
  },
  {
   "cell_type": "code",
   "execution_count": 5,
   "metadata": {},
   "outputs": [
    {
     "data": {
      "text/plain": [
       "93"
      ]
     },
     "execution_count": 5,
     "metadata": {},
     "output_type": "execute_result"
    }
   ],
   "source": [
    "counter = 0\n",
    "for ix, row in idap.iterrows():\n",
    "    if row['PREDICTION_ADJ_2'] != row['PREDICTION_ADJ_3']:\n",
    "        counter += 1\n",
    "counter"
   ]
  },
  {
   "cell_type": "code",
   "execution_count": 6,
   "metadata": {},
   "outputs": [
    {
     "data": {
      "text/html": [
       "<script>requirejs.config({paths: { 'plotly': ['https://cdn.plot.ly/plotly-latest.min']},});if(!window.Plotly) {{require(['plotly'],function(plotly) {window.Plotly=plotly;});}}</script>"
      ],
      "text/vnd.plotly.v1+html": [
       "<script>requirejs.config({paths: { 'plotly': ['https://cdn.plot.ly/plotly-latest.min']},});if(!window.Plotly) {{require(['plotly'],function(plotly) {window.Plotly=plotly;});}}</script>"
      ]
     },
     "metadata": {},
     "output_type": "display_data"
    },
    {
     "data": {
      "application/vnd.plotly.v1+json": {
       "data": [
        {
         "type": "bar",
         "x": [
          "Initial to Adj 1",
          "Adj 1 to Adj 2",
          "Adj 2 to Adj 3",
          "Adj 3 to Adj 4",
          "Adj 4 to Adj 5"
         ],
         "y": [
          0.023960116080065482,
          0.009301287298162066,
          0.006920157749832577,
          0.006176054765979612,
          0.006101644467594315
         ]
        }
       ],
       "layout": {
        "title": "Percentage of Changed Daily Activity Patterns"
       }
      },
      "text/html": [
       "<div id=\"1d0bc09f-ad13-4ba7-9630-83a07b2f9141\" style=\"height: 525px; width: 100%;\" class=\"plotly-graph-div\"></div><script type=\"text/javascript\">require([\"plotly\"], function(Plotly) { window.PLOTLYENV=window.PLOTLYENV || {};window.PLOTLYENV.BASE_URL=\"https://plot.ly\";Plotly.newPlot(\"1d0bc09f-ad13-4ba7-9630-83a07b2f9141\", [{\"type\": \"bar\", \"x\": [\"Initial to Adj 1\", \"Adj 1 to Adj 2\", \"Adj 2 to Adj 3\", \"Adj 3 to Adj 4\", \"Adj 4 to Adj 5\"], \"y\": [0.023960116080065482, 0.009301287298162066, 0.006920157749832577, 0.006176054765979612, 0.006101644467594315]}], {\"title\": \"Percentage of Changed Daily Activity Patterns\"}, {\"showLink\": true, \"linkText\": \"Export to plot.ly\"})});</script>"
      ],
      "text/vnd.plotly.v1+html": [
       "<div id=\"1d0bc09f-ad13-4ba7-9630-83a07b2f9141\" style=\"height: 525px; width: 100%;\" class=\"plotly-graph-div\"></div><script type=\"text/javascript\">require([\"plotly\"], function(Plotly) { window.PLOTLYENV=window.PLOTLYENV || {};window.PLOTLYENV.BASE_URL=\"https://plot.ly\";Plotly.newPlot(\"1d0bc09f-ad13-4ba7-9630-83a07b2f9141\", [{\"type\": \"bar\", \"x\": [\"Initial to Adj 1\", \"Adj 1 to Adj 2\", \"Adj 2 to Adj 3\", \"Adj 3 to Adj 4\", \"Adj 4 to Adj 5\"], \"y\": [0.023960116080065482, 0.009301287298162066, 0.006920157749832577, 0.006176054765979612, 0.006101644467594315]}], {\"title\": \"Percentage of Changed Daily Activity Patterns\"}, {\"showLink\": true, \"linkText\": \"Export to plot.ly\"})});</script>"
      ]
     },
     "metadata": {},
     "output_type": "display_data"
    }
   ],
   "source": [
    "dap_changes = pd.DataFrame()\n",
    "total = len(idap)\n",
    "counter = 0\n",
    "for ix, row in idap.iterrows():\n",
    "    if row['PREDICTION'] != row['PREDICTION_ADJ_1']:\n",
    "        counter += 1\n",
    "dap_changes = dap_changes.append(pd.DataFrame(['Initial to Adj 1', counter/total]).T)\n",
    "\n",
    "counter = 0\n",
    "for ix, row in idap.iterrows():\n",
    "    if row['PREDICTION_ADJ_1'] != row['PREDICTION_ADJ_2']:\n",
    "        counter += 1\n",
    "dap_changes = dap_changes.append(pd.DataFrame(['Adj 1 to Adj 2', counter/total]).T)\n",
    "\n",
    "counter = 0\n",
    "for ix, row in idap.iterrows():\n",
    "    if row['PREDICTION_ADJ_2'] != row['PREDICTION_ADJ_3']:\n",
    "        counter += 1\n",
    "dap_changes = dap_changes.append(pd.DataFrame(['Adj 2 to Adj 3', counter/total]).T)\n",
    "\n",
    "counter = 0\n",
    "for ix, row in idap.iterrows():\n",
    "    if row['PREDICTION_ADJ_3'] != row['PREDICTION_ADJ_4']:\n",
    "        counter += 1\n",
    "dap_changes = dap_changes.append(pd.DataFrame(['Adj 3 to Adj 4', counter/total]).T)\n",
    "\n",
    "counter = 0\n",
    "for ix, row in idap.iterrows():\n",
    "    if row['PREDICTION_ADJ_4'] != row['PREDICTION_ADJ_5']:\n",
    "        counter += 1\n",
    "dap_changes = dap_changes.append(pd.DataFrame(['Adj 4 to Adj 5', counter/total]).T)\n",
    "\n",
    "dap_changes.columns = ['Phase', 'Change Count']\n",
    "dap_changes.reset_index(inplace=True)\n",
    "init_notebook_mode(connected=True)\n",
    "trace1 = go.Bar(\n",
    "            x=dap_changes['Phase'],\n",
    "            y=dap_changes['Change Count']\n",
    ") \n",
    "\n",
    "data = [trace1]\n",
    "layout = go.Layout(\n",
    "    title='Percentage of Changed Daily Activity Patterns'\n",
    ")\n",
    "\n",
    "fig = go.Figure(data=data, layout=layout)\n",
    "iplot(fig)"
   ]
  },
  {
   "cell_type": "code",
   "execution_count": 141,
   "metadata": {},
   "outputs": [
    {
     "data": {
      "image/png": "[encoded data removed]",
      "text/plain": [
       "<matplotlib.figure.Figure at 0x29088df0ac8>"
      ]
     },
     "metadata": {},
     "output_type": "display_data"
    }
   ],
   "source": [
    "fig, axes = plt.subplots(nrows=2, ncols=3, figsize=(13,13))\n",
    "ax0, ax1, ax2, ax3, ax4, ax5 = axes.flatten()\n",
    "cmap = plt.cm.Blues\n",
    "classes = ['H', 'M', 'NM']\n",
    "cm1 = confusion_matrix(idap['IDAP'], idap['PREDICTION'])\n",
    "cm2 = confusion_matrix(idap['IDAP'], idap['PREDICTION_ADJ_1'])\n",
    "cm3 = confusion_matrix(idap['IDAP'], idap['PREDICTION_ADJ_2'])\n",
    "cm4 = confusion_matrix(idap['IDAP'], idap['PREDICTION_ADJ_3'])\n",
    "cm5 = confusion_matrix(idap['IDAP'], idap['PREDICTION_ADJ_4'])\n",
    "cm6 = confusion_matrix(idap['IDAP'], idap['PREDICTION_ADJ_5'])\n",
    "cm7 = confusion_matrix(idap['IDAP'], idap['PREDICTION_ADJ_6'])\n",
    "cm8 = confusion_matrix(idap['IDAP'], idap['PREDICTION_ADJ_7'])\n",
    "cm9 = confusion_matrix(idap['IDAP'], idap['PREDICTION_ADJ_8'])\n",
    "cms = [cm1, cm2, cm3, cm4, cm5, cm6]\n",
    "axes = [ax0, ax1, ax2, ax3, ax4, ax5]\n",
    "names = ['Initial Model', 'Adjustment 1', 'Adjustment 2', 'Adjustment 3', 'Adjustment 4', 'Adjustment 5']\n",
    "predictions = [idap['PREDICTION'], idap['PREDICTION_ADJ_1'], idap['PREDICTION_ADJ_2'], \\\n",
    "               idap['PREDICTION_ADJ_3'], idap['PREDICTION_ADJ_4'], idap['PREDICTION_ADJ_5']]\n",
    "\n",
    "for ax, cm, name, prediction in zip(axes, cms, names, predictions):\n",
    "    np.set_printoptions(precision=2)\n",
    "\n",
    "    cm = cm.astype('float') / cm.sum(axis=1)[:, np.newaxis]\n",
    "    ax.imshow(cm, interpolation='nearest', cmap=cmap)\n",
    "    ax.set_title(name + ' - {0}'.format(\"F1 Score: {0:.4g}%\".format(f1_score(idap['IDAP'], prediction, average='weighted')*100)))\n",
    "    tick_marks = np.arange(len(classes))\n",
    "    ax.set_xticks(tick_marks)\n",
    "    ax.set_yticks(tick_marks)\n",
    "    ax.set_xticklabels(classes)\n",
    "    ax.set_yticklabels(classes)\n",
    "\n",
    "    thresh = cm.max() / 1.5\n",
    "    for i, j in itertools.product(range(cm.shape[0]), range(cm.shape[1])):\n",
    "        ax.text(j, i, round(cm[i, j],2),\n",
    "                 horizontalalignment=\"center\",\n",
    "                 color=\"white\" if cm[i, j] > thresh else \"black\")\n",
    "\n",
    "    plt.tight_layout()\n",
    "    ax.set_ylabel('True label')\n",
    "    ax.set_xlabel('Predicted label')\n"
   ]
  },
  {
   "cell_type": "code",
   "execution_count": 134,
   "metadata": {
    "collapsed": true
   },
   "outputs": [],
   "source": [
    "prediction_adj_count_raw = idap.groupby(['PERTYPE', 'PREDICTION']).count()\n",
    "prediction_adj_count_raw.reset_index(inplace=True)\n",
    "prediction_adj_count_raw = prediction_adj_count_raw[['PERTYPE', 'PREDICTION', 'PERNO']]\n",
    "prediction_adj_count_raw.columns = ['PERTYPE', 'PREDICTION', 'COUNT']\n",
    "\n",
    "prediction_adj_count = idap.groupby(['PERTYPE', 'PREDICTION_ADJ_1']).count()\n",
    "prediction_adj_count.reset_index(inplace=True)\n",
    "prediction_adj_count = prediction_adj_count[['PERTYPE', 'PREDICTION_ADJ_1', 'PERNO']]\n",
    "prediction_adj_count.columns = ['PERTYPE', 'PREDICTION_ADJ_1', 'COUNT']\n",
    "\n",
    "prediction_adj_count_2 = idap.groupby(['PERTYPE', 'PREDICTION_ADJ_2']).count()\n",
    "prediction_adj_count_2.reset_index(inplace=True)\n",
    "prediction_adj_count_2 = prediction_adj_count_2[['PERTYPE', 'PREDICTION_ADJ_2', 'PERNO']]\n",
    "prediction_adj_count_2.columns = ['PERTYPE', 'PREDICTION_ADJ_2', 'COUNT']\n",
    "\n",
    "prediction_adj_count_3 = idap.groupby(['PERTYPE', 'PREDICTION_ADJ_3']).count()\n",
    "prediction_adj_count_3.reset_index(inplace=True)\n",
    "prediction_adj_count_3 = prediction_adj_count_3[['PERTYPE', 'PREDICTION_ADJ_3', 'PERNO']]\n",
    "prediction_adj_count_3.columns = ['PERTYPE', 'PREDICTION_ADJ_3', 'COUNT']\n",
    "\n",
    "prediction_adj_count_4 = idap.groupby(['PERTYPE', 'PREDICTION_ADJ_4']).count()\n",
    "prediction_adj_count_4.reset_index(inplace=True)\n",
    "prediction_adj_count_4 = prediction_adj_count_4[['PERTYPE', 'PREDICTION_ADJ_4', 'PERNO']]\n",
    "prediction_adj_count_4.columns = ['PERTYPE', 'PREDICTION_ADJ_4', 'COUNT']\n",
    "\n",
    "prediction_adj_count_5 = idap.groupby(['PERTYPE', 'PREDICTION_ADJ_5']).count()\n",
    "prediction_adj_count_5.reset_index(inplace=True)\n",
    "prediction_adj_count_5 = prediction_adj_count_5[['PERTYPE', 'PREDICTION_ADJ_5', 'PERNO']]\n",
    "prediction_adj_count_5.columns = ['PERTYPE', 'PREDICTION_ADJ_5', 'COUNT']\n",
    "\n",
    "prediction_adj_count_6 = idap.groupby(['PERTYPE', 'PREDICTION_ADJ_6']).count()\n",
    "prediction_adj_count_6.reset_index(inplace=True)\n",
    "prediction_adj_count_6 = prediction_adj_count_6[['PERTYPE', 'PREDICTION_ADJ_6', 'PERNO']]\n",
    "prediction_adj_count_6.columns = ['PERTYPE', 'PREDICTION_ADJ_6', 'COUNT']\n",
    "\n",
    "prediction_adj_count_7 = idap.groupby(['PERTYPE', 'PREDICTION_ADJ_7']).count()\n",
    "prediction_adj_count_7.reset_index(inplace=True)\n",
    "prediction_adj_count_7 = prediction_adj_count_7[['PERTYPE', 'PREDICTION_ADJ_7', 'PERNO']]\n",
    "prediction_adj_count_7.columns = ['PERTYPE', 'PREDICTION_ADJ_7', 'COUNT']"
   ]
  },
  {
   "cell_type": "code",
   "execution_count": 135,
   "metadata": {
    "collapsed": true
   },
   "outputs": [],
   "source": [
    "survey_count = idap.groupby(['PERTYPE', 'IDAP']).count()\n",
    "survey_count.reset_index(inplace=True)\n",
    "survey_count = survey_count[['PERTYPE', 'IDAP', 'PERNO']]\n",
    "survey_count.columns = ['PERTYPE', 'IDAP', 'COUNT']"
   ]
  },
  {
   "cell_type": "code",
   "execution_count": 137,
   "metadata": {
    "scrolled": false
   },
   "outputs": [
    {
     "data": {
      "text/html": [
       "<script>requirejs.config({paths: { 'plotly': ['https://cdn.plot.ly/plotly-latest.min']},});if(!window.Plotly) {{require(['plotly'],function(plotly) {window.Plotly=plotly;});}}</script>"
      ],
      "text/vnd.plotly.v1+html": [
       "<script>requirejs.config({paths: { 'plotly': ['https://cdn.plot.ly/plotly-latest.min']},});if(!window.Plotly) {{require(['plotly'],function(plotly) {window.Plotly=plotly;});}}</script>"
      ]
     },
     "metadata": {},
     "output_type": "display_data"
    },
    {
     "data": {
      "application/vnd.plotly.v1+json": {
       "data": [
        {
         "name": "Survey",
         "type": "bar",
         "x": [
          "H",
          "M",
          "NM"
         ],
         "y": [
          38,
          293,
          33
         ]
        },
        {
         "name": "Initial Model",
         "type": "bar",
         "x": [
          "H",
          "M",
          "NM"
         ],
         "y": [
          31,
          303,
          30
         ]
        },
        {
         "name": "Adjustment 1",
         "type": "bar",
         "x": [
          "H",
          "M",
          "NM"
         ],
         "y": [
          26,
          306,
          32
         ]
        },
        {
         "name": "Adjustment 2",
         "type": "bar",
         "x": [
          "H",
          "M",
          "NM"
         ],
         "y": [
          25,
          313,
          26
         ]
        },
        {
         "name": "Adjustment 3",
         "type": "bar",
         "x": [
          "H",
          "M",
          "NM"
         ],
         "y": [
          26,
          311,
          27
         ]
        },
        {
         "name": "Adjustment 4",
         "type": "bar",
         "x": [
          "H",
          "M",
          "NM"
         ],
         "y": [
          26,
          313,
          25
         ]
        },
        {
         "name": "Adjustment 5",
         "type": "bar",
         "x": [
          "H",
          "M",
          "NM"
         ],
         "y": [
          25,
          312,
          27
         ]
        }
       ],
       "layout": {
        "barmode": "group",
        "title": "DA_Stud"
       }
      },
      "text/html": [
       "<div id=\"6abd1c4c-be6c-4663-b532-f91e59f87c21\" style=\"height: 525px; width: 100%;\" class=\"plotly-graph-div\"></div><script type=\"text/javascript\">require([\"plotly\"], function(Plotly) { window.PLOTLYENV=window.PLOTLYENV || {};window.PLOTLYENV.BASE_URL=\"https://plot.ly\";Plotly.newPlot(\"6abd1c4c-be6c-4663-b532-f91e59f87c21\", [{\"type\": \"bar\", \"x\": [\"H\", \"M\", \"NM\"], \"y\": [38, 293, 33], \"name\": \"Survey\"}, {\"type\": \"bar\", \"x\": [\"H\", \"M\", \"NM\"], \"y\": [31, 303, 30], \"name\": \"Initial Model\"}, {\"type\": \"bar\", \"x\": [\"H\", \"M\", \"NM\"], \"y\": [26, 306, 32], \"name\": \"Adjustment 1\"}, {\"type\": \"bar\", \"x\": [\"H\", \"M\", \"NM\"], \"y\": [25, 313, 26], \"name\": \"Adjustment 2\"}, {\"type\": \"bar\", \"x\": [\"H\", \"M\", \"NM\"], \"y\": [26, 311, 27], \"name\": \"Adjustment 3\"}, {\"type\": \"bar\", \"x\": [\"H\", \"M\", \"NM\"], \"y\": [26, 313, 25], \"name\": \"Adjustment 4\"}, {\"type\": \"bar\", \"x\": [\"H\", \"M\", \"NM\"], \"y\": [25, 312, 27], \"name\": \"Adjustment 5\"}], {\"barmode\": \"group\", \"title\": \"DA_Stud\"}, {\"showLink\": true, \"linkText\": \"Export to plot.ly\"})});</script>"
      ],
      "text/vnd.plotly.v1+html": [
       "<div id=\"6abd1c4c-be6c-4663-b532-f91e59f87c21\" style=\"height: 525px; width: 100%;\" class=\"plotly-graph-div\"></div><script type=\"text/javascript\">require([\"plotly\"], function(Plotly) { window.PLOTLYENV=window.PLOTLYENV || {};window.PLOTLYENV.BASE_URL=\"https://plot.ly\";Plotly.newPlot(\"6abd1c4c-be6c-4663-b532-f91e59f87c21\", [{\"type\": \"bar\", \"x\": [\"H\", \"M\", \"NM\"], \"y\": [38, 293, 33], \"name\": \"Survey\"}, {\"type\": \"bar\", \"x\": [\"H\", \"M\", \"NM\"], \"y\": [31, 303, 30], \"name\": \"Initial Model\"}, {\"type\": \"bar\", \"x\": [\"H\", \"M\", \"NM\"], \"y\": [26, 306, 32], \"name\": \"Adjustment 1\"}, {\"type\": \"bar\", \"x\": [\"H\", \"M\", \"NM\"], \"y\": [25, 313, 26], \"name\": \"Adjustment 2\"}, {\"type\": \"bar\", \"x\": [\"H\", \"M\", \"NM\"], \"y\": [26, 311, 27], \"name\": \"Adjustment 3\"}, {\"type\": \"bar\", \"x\": [\"H\", \"M\", \"NM\"], \"y\": [26, 313, 25], \"name\": \"Adjustment 4\"}, {\"type\": \"bar\", \"x\": [\"H\", \"M\", \"NM\"], \"y\": [25, 312, 27], \"name\": \"Adjustment 5\"}], {\"barmode\": \"group\", \"title\": \"DA_Stud\"}, {\"showLink\": true, \"linkText\": \"Export to plot.ly\"})});</script>"
      ]
     },
     "metadata": {},
     "output_type": "display_data"
    },
    {
     "data": {
      "application/vnd.plotly.v1+json": {
       "data": [
        {
         "name": "Survey",
         "type": "bar",
         "x": [
          "H",
          "M",
          "NM"
         ],
         "y": [
          497,
          4413,
          451
         ]
        },
        {
         "name": "Initial Model",
         "type": "bar",
         "x": [
          "H",
          "M",
          "NM"
         ],
         "y": [
          417,
          4639,
          305
         ]
        },
        {
         "name": "Adjustment 1",
         "type": "bar",
         "x": [
          "H",
          "M",
          "NM"
         ],
         "y": [
          381,
          4714,
          266
         ]
        },
        {
         "name": "Adjustment 2",
         "type": "bar",
         "x": [
          "H",
          "M",
          "NM"
         ],
         "y": [
          376,
          4722,
          263
         ]
        },
        {
         "name": "Adjustment 3",
         "type": "bar",
         "x": [
          "H",
          "M",
          "NM"
         ],
         "y": [
          382,
          4713,
          266
         ]
        },
        {
         "name": "Adjustment 4",
         "type": "bar",
         "x": [
          "H",
          "M",
          "NM"
         ],
         "y": [
          388,
          4707,
          266
         ]
        },
        {
         "name": "Adjustment 5",
         "type": "bar",
         "x": [
          "H",
          "M",
          "NM"
         ],
         "y": [
          380,
          4718,
          263
         ]
        }
       ],
       "layout": {
        "barmode": "group",
        "title": "FT_Worker"
       }
      },
      "text/html": [
       "<div id=\"82d9dafd-9ba6-40fd-906f-978bb2759180\" style=\"height: 525px; width: 100%;\" class=\"plotly-graph-div\"></div><script type=\"text/javascript\">require([\"plotly\"], function(Plotly) { window.PLOTLYENV=window.PLOTLYENV || {};window.PLOTLYENV.BASE_URL=\"https://plot.ly\";Plotly.newPlot(\"82d9dafd-9ba6-40fd-906f-978bb2759180\", [{\"type\": \"bar\", \"x\": [\"H\", \"M\", \"NM\"], \"y\": [497, 4413, 451], \"name\": \"Survey\"}, {\"type\": \"bar\", \"x\": [\"H\", \"M\", \"NM\"], \"y\": [417, 4639, 305], \"name\": \"Initial Model\"}, {\"type\": \"bar\", \"x\": [\"H\", \"M\", \"NM\"], \"y\": [381, 4714, 266], \"name\": \"Adjustment 1\"}, {\"type\": \"bar\", \"x\": [\"H\", \"M\", \"NM\"], \"y\": [376, 4722, 263], \"name\": \"Adjustment 2\"}, {\"type\": \"bar\", \"x\": [\"H\", \"M\", \"NM\"], \"y\": [382, 4713, 266], \"name\": \"Adjustment 3\"}, {\"type\": \"bar\", \"x\": [\"H\", \"M\", \"NM\"], \"y\": [388, 4707, 266], \"name\": \"Adjustment 4\"}, {\"type\": \"bar\", \"x\": [\"H\", \"M\", \"NM\"], \"y\": [380, 4718, 263], \"name\": \"Adjustment 5\"}], {\"barmode\": \"group\", \"title\": \"FT_Worker\"}, {\"showLink\": true, \"linkText\": \"Export to plot.ly\"})});</script>"
      ],
      "text/vnd.plotly.v1+html": [
       "<div id=\"82d9dafd-9ba6-40fd-906f-978bb2759180\" style=\"height: 525px; width: 100%;\" class=\"plotly-graph-div\"></div><script type=\"text/javascript\">require([\"plotly\"], function(Plotly) { window.PLOTLYENV=window.PLOTLYENV || {};window.PLOTLYENV.BASE_URL=\"https://plot.ly\";Plotly.newPlot(\"82d9dafd-9ba6-40fd-906f-978bb2759180\", [{\"type\": \"bar\", \"x\": [\"H\", \"M\", \"NM\"], \"y\": [497, 4413, 451], \"name\": \"Survey\"}, {\"type\": \"bar\", \"x\": [\"H\", \"M\", \"NM\"], \"y\": [417, 4639, 305], \"name\": \"Initial Model\"}, {\"type\": \"bar\", \"x\": [\"H\", \"M\", \"NM\"], \"y\": [381, 4714, 266], \"name\": \"Adjustment 1\"}, {\"type\": \"bar\", \"x\": [\"H\", \"M\", \"NM\"], \"y\": [376, 4722, 263], \"name\": \"Adjustment 2\"}, {\"type\": \"bar\", \"x\": [\"H\", \"M\", \"NM\"], \"y\": [382, 4713, 266], \"name\": \"Adjustment 3\"}, {\"type\": \"bar\", \"x\": [\"H\", \"M\", \"NM\"], \"y\": [388, 4707, 266], \"name\": \"Adjustment 4\"}, {\"type\": \"bar\", \"x\": [\"H\", \"M\", \"NM\"], \"y\": [380, 4718, 263], \"name\": \"Adjustment 5\"}], {\"barmode\": \"group\", \"title\": \"FT_Worker\"}, {\"showLink\": true, \"linkText\": \"Export to plot.ly\"})});</script>"
      ]
     },
     "metadata": {},
     "output_type": "display_data"
    },
    {
     "data": {
      "application/vnd.plotly.v1+json": {
       "data": [
        {
         "name": "Survey",
         "type": "bar",
         "x": [
          "H",
          "M",
          "NM"
         ],
         "y": [
          499,
          56,
          991
         ]
        },
        {
         "name": "Initial Model",
         "type": "bar",
         "x": [
          "H",
          "M",
          "NM"
         ],
         "y": [
          491,
          32,
          1023
         ]
        },
        {
         "name": "Adjustment 1",
         "type": "bar",
         "x": [
          "H",
          "M",
          "NM"
         ],
         "y": [
          489,
          28,
          1029
         ]
        },
        {
         "name": "Adjustment 2",
         "type": "bar",
         "x": [
          "H",
          "M",
          "NM"
         ],
         "y": [
          488,
          28,
          1030
         ]
        },
        {
         "name": "Adjustment 3",
         "type": "bar",
         "x": [
          "H",
          "M",
          "NM"
         ],
         "y": [
          482,
          28,
          1036
         ]
        },
        {
         "name": "Adjustment 4",
         "type": "bar",
         "x": [
          "H",
          "M",
          "NM"
         ],
         "y": [
          489,
          28,
          1029
         ]
        },
        {
         "name": "Adjustment 5",
         "type": "bar",
         "x": [
          "H",
          "M",
          "NM"
         ],
         "y": [
          486,
          28,
          1032
         ]
        }
       ],
       "layout": {
        "barmode": "group",
        "title": "Non_Worker"
       }
      },
      "text/html": [
       "<div id=\"c1dfff54-091a-426c-ba56-1acd99262c96\" style=\"height: 525px; width: 100%;\" class=\"plotly-graph-div\"></div><script type=\"text/javascript\">require([\"plotly\"], function(Plotly) { window.PLOTLYENV=window.PLOTLYENV || {};window.PLOTLYENV.BASE_URL=\"https://plot.ly\";Plotly.newPlot(\"c1dfff54-091a-426c-ba56-1acd99262c96\", [{\"type\": \"bar\", \"x\": [\"H\", \"M\", \"NM\"], \"y\": [499, 56, 991], \"name\": \"Survey\"}, {\"type\": \"bar\", \"x\": [\"H\", \"M\", \"NM\"], \"y\": [491, 32, 1023], \"name\": \"Initial Model\"}, {\"type\": \"bar\", \"x\": [\"H\", \"M\", \"NM\"], \"y\": [489, 28, 1029], \"name\": \"Adjustment 1\"}, {\"type\": \"bar\", \"x\": [\"H\", \"M\", \"NM\"], \"y\": [488, 28, 1030], \"name\": \"Adjustment 2\"}, {\"type\": \"bar\", \"x\": [\"H\", \"M\", \"NM\"], \"y\": [482, 28, 1036], \"name\": \"Adjustment 3\"}, {\"type\": \"bar\", \"x\": [\"H\", \"M\", \"NM\"], \"y\": [489, 28, 1029], \"name\": \"Adjustment 4\"}, {\"type\": \"bar\", \"x\": [\"H\", \"M\", \"NM\"], \"y\": [486, 28, 1032], \"name\": \"Adjustment 5\"}], {\"barmode\": \"group\", \"title\": \"Non_Worker\"}, {\"showLink\": true, \"linkText\": \"Export to plot.ly\"})});</script>"
      ],
      "text/vnd.plotly.v1+html": [
       "<div id=\"c1dfff54-091a-426c-ba56-1acd99262c96\" style=\"height: 525px; width: 100%;\" class=\"plotly-graph-div\"></div><script type=\"text/javascript\">require([\"plotly\"], function(Plotly) { window.PLOTLYENV=window.PLOTLYENV || {};window.PLOTLYENV.BASE_URL=\"https://plot.ly\";Plotly.newPlot(\"c1dfff54-091a-426c-ba56-1acd99262c96\", [{\"type\": \"bar\", \"x\": [\"H\", \"M\", \"NM\"], \"y\": [499, 56, 991], \"name\": \"Survey\"}, {\"type\": \"bar\", \"x\": [\"H\", \"M\", \"NM\"], \"y\": [491, 32, 1023], \"name\": \"Initial Model\"}, {\"type\": \"bar\", \"x\": [\"H\", \"M\", \"NM\"], \"y\": [489, 28, 1029], \"name\": \"Adjustment 1\"}, {\"type\": \"bar\", \"x\": [\"H\", \"M\", \"NM\"], \"y\": [488, 28, 1030], \"name\": \"Adjustment 2\"}, {\"type\": \"bar\", \"x\": [\"H\", \"M\", \"NM\"], \"y\": [482, 28, 1036], \"name\": \"Adjustment 3\"}, {\"type\": \"bar\", \"x\": [\"H\", \"M\", \"NM\"], \"y\": [489, 28, 1029], \"name\": \"Adjustment 4\"}, {\"type\": \"bar\", \"x\": [\"H\", \"M\", \"NM\"], \"y\": [486, 28, 1032], \"name\": \"Adjustment 5\"}], {\"barmode\": \"group\", \"title\": \"Non_Worker\"}, {\"showLink\": true, \"linkText\": \"Export to plot.ly\"})});</script>"
      ]
     },
     "metadata": {},
     "output_type": "display_data"
    },
    {
     "data": {
      "application/vnd.plotly.v1+json": {
       "data": [
        {
         "name": "Survey",
         "type": "bar",
         "x": [
          "H",
          "M",
          "NM"
         ],
         "y": [
          161,
          1584,
          217
         ]
        },
        {
         "name": "Initial Model",
         "type": "bar",
         "x": [
          "H",
          "M",
          "NM"
         ],
         "y": [
          142,
          1621,
          199
         ]
        },
        {
         "name": "Adjustment 1",
         "type": "bar",
         "x": [
          "H",
          "M",
          "NM"
         ],
         "y": [
          132,
          1640,
          190
         ]
        },
        {
         "name": "Adjustment 2",
         "type": "bar",
         "x": [
          "H",
          "M",
          "NM"
         ],
         "y": [
          129,
          1641,
          192
         ]
        },
        {
         "name": "Adjustment 3",
         "type": "bar",
         "x": [
          "H",
          "M",
          "NM"
         ],
         "y": [
          126,
          1645,
          191
         ]
        },
        {
         "name": "Adjustment 4",
         "type": "bar",
         "x": [
          "H",
          "M",
          "NM"
         ],
         "y": [
          127,
          1644,
          191
         ]
        },
        {
         "name": "Adjustment 5",
         "type": "bar",
         "x": [
          "H",
          "M",
          "NM"
         ],
         "y": [
          126,
          1646,
          190
         ]
        }
       ],
       "layout": {
        "barmode": "group",
        "title": "PDA_Stud"
       }
      },
      "text/html": [
       "<div id=\"f44d1f94-f7de-40dc-9767-874f4049c1d4\" style=\"height: 525px; width: 100%;\" class=\"plotly-graph-div\"></div><script type=\"text/javascript\">require([\"plotly\"], function(Plotly) { window.PLOTLYENV=window.PLOTLYENV || {};window.PLOTLYENV.BASE_URL=\"https://plot.ly\";Plotly.newPlot(\"f44d1f94-f7de-40dc-9767-874f4049c1d4\", [{\"type\": \"bar\", \"x\": [\"H\", \"M\", \"NM\"], \"y\": [161, 1584, 217], \"name\": \"Survey\"}, {\"type\": \"bar\", \"x\": [\"H\", \"M\", \"NM\"], \"y\": [142, 1621, 199], \"name\": \"Initial Model\"}, {\"type\": \"bar\", \"x\": [\"H\", \"M\", \"NM\"], \"y\": [132, 1640, 190], \"name\": \"Adjustment 1\"}, {\"type\": \"bar\", \"x\": [\"H\", \"M\", \"NM\"], \"y\": [129, 1641, 192], \"name\": \"Adjustment 2\"}, {\"type\": \"bar\", \"x\": [\"H\", \"M\", \"NM\"], \"y\": [126, 1645, 191], \"name\": \"Adjustment 3\"}, {\"type\": \"bar\", \"x\": [\"H\", \"M\", \"NM\"], \"y\": [127, 1644, 191], \"name\": \"Adjustment 4\"}, {\"type\": \"bar\", \"x\": [\"H\", \"M\", \"NM\"], \"y\": [126, 1646, 190], \"name\": \"Adjustment 5\"}], {\"barmode\": \"group\", \"title\": \"PDA_Stud\"}, {\"showLink\": true, \"linkText\": \"Export to plot.ly\"})});</script>"
      ],
      "text/vnd.plotly.v1+html": [
       "<div id=\"f44d1f94-f7de-40dc-9767-874f4049c1d4\" style=\"height: 525px; width: 100%;\" class=\"plotly-graph-div\"></div><script type=\"text/javascript\">require([\"plotly\"], function(Plotly) { window.PLOTLYENV=window.PLOTLYENV || {};window.PLOTLYENV.BASE_URL=\"https://plot.ly\";Plotly.newPlot(\"f44d1f94-f7de-40dc-9767-874f4049c1d4\", [{\"type\": \"bar\", \"x\": [\"H\", \"M\", \"NM\"], \"y\": [161, 1584, 217], \"name\": \"Survey\"}, {\"type\": \"bar\", \"x\": [\"H\", \"M\", \"NM\"], \"y\": [142, 1621, 199], \"name\": \"Initial Model\"}, {\"type\": \"bar\", \"x\": [\"H\", \"M\", \"NM\"], \"y\": [132, 1640, 190], \"name\": \"Adjustment 1\"}, {\"type\": \"bar\", \"x\": [\"H\", \"M\", \"NM\"], \"y\": [129, 1641, 192], \"name\": \"Adjustment 2\"}, {\"type\": \"bar\", \"x\": [\"H\", \"M\", \"NM\"], \"y\": [126, 1645, 191], \"name\": \"Adjustment 3\"}, {\"type\": \"bar\", \"x\": [\"H\", \"M\", \"NM\"], \"y\": [127, 1644, 191], \"name\": \"Adjustment 4\"}, {\"type\": \"bar\", \"x\": [\"H\", \"M\", \"NM\"], \"y\": [126, 1646, 190], \"name\": \"Adjustment 5\"}], {\"barmode\": \"group\", \"title\": \"PDA_Stud\"}, {\"showLink\": true, \"linkText\": \"Export to plot.ly\"})});</script>"
      ]
     },
     "metadata": {},
     "output_type": "display_data"
    },
    {
     "data": {
      "application/vnd.plotly.v1+json": {
       "data": [
        {
         "name": "Survey",
         "type": "bar",
         "x": [
          "H",
          "M",
          "NM"
         ],
         "y": [
          169,
          872,
          261
         ]
        },
        {
         "name": "Initial Model",
         "type": "bar",
         "x": [
          "H",
          "M",
          "NM"
         ],
         "y": [
          123,
          993,
          186
         ]
        },
        {
         "name": "Adjustment 1",
         "type": "bar",
         "x": [
          "H",
          "M",
          "NM"
         ],
         "y": [
          112,
          1018,
          172
         ]
        },
        {
         "name": "Adjustment 2",
         "type": "bar",
         "x": [
          "H",
          "M",
          "NM"
         ],
         "y": [
          110,
          1022,
          170
         ]
        },
        {
         "name": "Adjustment 3",
         "type": "bar",
         "x": [
          "H",
          "M",
          "NM"
         ],
         "y": [
          109,
          1024,
          169
         ]
        },
        {
         "name": "Adjustment 4",
         "type": "bar",
         "x": [
          "H",
          "M",
          "NM"
         ],
         "y": [
          110,
          1021,
          171
         ]
        },
        {
         "name": "Adjustment 5",
         "type": "bar",
         "x": [
          "H",
          "M",
          "NM"
         ],
         "y": [
          110,
          1022,
          170
         ]
        }
       ],
       "layout": {
        "barmode": "group",
        "title": "PT_Worker"
       }
      },
      "text/html": [
       "<div id=\"7acbda71-20ff-473e-8bd1-7f0949cde345\" style=\"height: 525px; width: 100%;\" class=\"plotly-graph-div\"></div><script type=\"text/javascript\">require([\"plotly\"], function(Plotly) { window.PLOTLYENV=window.PLOTLYENV || {};window.PLOTLYENV.BASE_URL=\"https://plot.ly\";Plotly.newPlot(\"7acbda71-20ff-473e-8bd1-7f0949cde345\", [{\"type\": \"bar\", \"x\": [\"H\", \"M\", \"NM\"], \"y\": [169, 872, 261], \"name\": \"Survey\"}, {\"type\": \"bar\", \"x\": [\"H\", \"M\", \"NM\"], \"y\": [123, 993, 186], \"name\": \"Initial Model\"}, {\"type\": \"bar\", \"x\": [\"H\", \"M\", \"NM\"], \"y\": [112, 1018, 172], \"name\": \"Adjustment 1\"}, {\"type\": \"bar\", \"x\": [\"H\", \"M\", \"NM\"], \"y\": [110, 1022, 170], \"name\": \"Adjustment 2\"}, {\"type\": \"bar\", \"x\": [\"H\", \"M\", \"NM\"], \"y\": [109, 1024, 169], \"name\": \"Adjustment 3\"}, {\"type\": \"bar\", \"x\": [\"H\", \"M\", \"NM\"], \"y\": [110, 1021, 171], \"name\": \"Adjustment 4\"}, {\"type\": \"bar\", \"x\": [\"H\", \"M\", \"NM\"], \"y\": [110, 1022, 170], \"name\": \"Adjustment 5\"}], {\"barmode\": \"group\", \"title\": \"PT_Worker\"}, {\"showLink\": true, \"linkText\": \"Export to plot.ly\"})});</script>"
      ],
      "text/vnd.plotly.v1+html": [
       "<div id=\"7acbda71-20ff-473e-8bd1-7f0949cde345\" style=\"height: 525px; width: 100%;\" class=\"plotly-graph-div\"></div><script type=\"text/javascript\">require([\"plotly\"], function(Plotly) { window.PLOTLYENV=window.PLOTLYENV || {};window.PLOTLYENV.BASE_URL=\"https://plot.ly\";Plotly.newPlot(\"7acbda71-20ff-473e-8bd1-7f0949cde345\", [{\"type\": \"bar\", \"x\": [\"H\", \"M\", \"NM\"], \"y\": [169, 872, 261], \"name\": \"Survey\"}, {\"type\": \"bar\", \"x\": [\"H\", \"M\", \"NM\"], \"y\": [123, 993, 186], \"name\": \"Initial Model\"}, {\"type\": \"bar\", \"x\": [\"H\", \"M\", \"NM\"], \"y\": [112, 1018, 172], \"name\": \"Adjustment 1\"}, {\"type\": \"bar\", \"x\": [\"H\", \"M\", \"NM\"], \"y\": [110, 1022, 170], \"name\": \"Adjustment 2\"}, {\"type\": \"bar\", \"x\": [\"H\", \"M\", \"NM\"], \"y\": [109, 1024, 169], \"name\": \"Adjustment 3\"}, {\"type\": \"bar\", \"x\": [\"H\", \"M\", \"NM\"], \"y\": [110, 1021, 171], \"name\": \"Adjustment 4\"}, {\"type\": \"bar\", \"x\": [\"H\", \"M\", \"NM\"], \"y\": [110, 1022, 170], \"name\": \"Adjustment 5\"}], {\"barmode\": \"group\", \"title\": \"PT_Worker\"}, {\"showLink\": true, \"linkText\": \"Export to plot.ly\"})});</script>"
      ]
     },
     "metadata": {},
     "output_type": "display_data"
    },
    {
     "data": {
      "application/vnd.plotly.v1+json": {
       "data": [
        {
         "name": "Survey",
         "type": "bar",
         "x": [
          "H",
          "M",
          "NM"
         ],
         "y": [
          314,
          349,
          423
         ]
        },
        {
         "name": "Initial Model",
         "type": "bar",
         "x": [
          "H",
          "M",
          "NM"
         ],
         "y": [
          320,
          341,
          425
         ]
        },
        {
         "name": "Adjustment 1",
         "type": "bar",
         "x": [
          "H",
          "M",
          "NM"
         ],
         "y": [
          316,
          341,
          429
         ]
        },
        {
         "name": "Adjustment 2",
         "type": "bar",
         "x": [
          "H",
          "M",
          "NM"
         ],
         "y": [
          309,
          344,
          433
         ]
        },
        {
         "name": "Adjustment 3",
         "type": "bar",
         "x": [
          "H",
          "M",
          "NM"
         ],
         "y": [
          310,
          345,
          431
         ]
        },
        {
         "name": "Adjustment 4",
         "type": "bar",
         "x": [
          "H",
          "M",
          "NM"
         ],
         "y": [
          308,
          346,
          432
         ]
        },
        {
         "name": "Adjustment 5",
         "type": "bar",
         "x": [
          "H",
          "M",
          "NM"
         ],
         "y": [
          311,
          344,
          431
         ]
        }
       ],
       "layout": {
        "barmode": "group",
        "title": "PreSch_Child"
       }
      },
      "text/html": [
       "<div id=\"691541a2-94a9-4e5d-95ee-09ec225ecc1b\" style=\"height: 525px; width: 100%;\" class=\"plotly-graph-div\"></div><script type=\"text/javascript\">require([\"plotly\"], function(Plotly) { window.PLOTLYENV=window.PLOTLYENV || {};window.PLOTLYENV.BASE_URL=\"https://plot.ly\";Plotly.newPlot(\"691541a2-94a9-4e5d-95ee-09ec225ecc1b\", [{\"type\": \"bar\", \"x\": [\"H\", \"M\", \"NM\"], \"y\": [314, 349, 423], \"name\": \"Survey\"}, {\"type\": \"bar\", \"x\": [\"H\", \"M\", \"NM\"], \"y\": [320, 341, 425], \"name\": \"Initial Model\"}, {\"type\": \"bar\", \"x\": [\"H\", \"M\", \"NM\"], \"y\": [316, 341, 429], \"name\": \"Adjustment 1\"}, {\"type\": \"bar\", \"x\": [\"H\", \"M\", \"NM\"], \"y\": [309, 344, 433], \"name\": \"Adjustment 2\"}, {\"type\": \"bar\", \"x\": [\"H\", \"M\", \"NM\"], \"y\": [310, 345, 431], \"name\": \"Adjustment 3\"}, {\"type\": \"bar\", \"x\": [\"H\", \"M\", \"NM\"], \"y\": [308, 346, 432], \"name\": \"Adjustment 4\"}, {\"type\": \"bar\", \"x\": [\"H\", \"M\", \"NM\"], \"y\": [311, 344, 431], \"name\": \"Adjustment 5\"}], {\"barmode\": \"group\", \"title\": \"PreSch_Child\"}, {\"showLink\": true, \"linkText\": \"Export to plot.ly\"})});</script>"
      ],
      "text/vnd.plotly.v1+html": [
       "<div id=\"691541a2-94a9-4e5d-95ee-09ec225ecc1b\" style=\"height: 525px; width: 100%;\" class=\"plotly-graph-div\"></div><script type=\"text/javascript\">require([\"plotly\"], function(Plotly) { window.PLOTLYENV=window.PLOTLYENV || {};window.PLOTLYENV.BASE_URL=\"https://plot.ly\";Plotly.newPlot(\"691541a2-94a9-4e5d-95ee-09ec225ecc1b\", [{\"type\": \"bar\", \"x\": [\"H\", \"M\", \"NM\"], \"y\": [314, 349, 423], \"name\": \"Survey\"}, {\"type\": \"bar\", \"x\": [\"H\", \"M\", \"NM\"], \"y\": [320, 341, 425], \"name\": \"Initial Model\"}, {\"type\": \"bar\", \"x\": [\"H\", \"M\", \"NM\"], \"y\": [316, 341, 429], \"name\": \"Adjustment 1\"}, {\"type\": \"bar\", \"x\": [\"H\", \"M\", \"NM\"], \"y\": [309, 344, 433], \"name\": \"Adjustment 2\"}, {\"type\": \"bar\", \"x\": [\"H\", \"M\", \"NM\"], \"y\": [310, 345, 431], \"name\": \"Adjustment 3\"}, {\"type\": \"bar\", \"x\": [\"H\", \"M\", \"NM\"], \"y\": [308, 346, 432], \"name\": \"Adjustment 4\"}, {\"type\": \"bar\", \"x\": [\"H\", \"M\", \"NM\"], \"y\": [311, 344, 431], \"name\": \"Adjustment 5\"}], {\"barmode\": \"group\", \"title\": \"PreSch_Child\"}, {\"showLink\": true, \"linkText\": \"Export to plot.ly\"})});</script>"
      ]
     },
     "metadata": {},
     "output_type": "display_data"
    },
    {
     "data": {
      "application/vnd.plotly.v1+json": {
       "data": [
        {
         "name": "Survey",
         "type": "bar",
         "x": [
          "H",
          "M",
          "NM"
         ],
         "y": [
          520,
          23,
          842
         ]
        },
        {
         "name": "Initial Model",
         "type": "bar",
         "x": [
          "H",
          "M",
          "NM"
         ],
         "y": [
          492,
          14,
          879
         ]
        },
        {
         "name": "Adjustment 1",
         "type": "bar",
         "x": [
          "H",
          "M",
          "NM"
         ],
         "y": [
          485,
          12,
          888
         ]
        },
        {
         "name": "Adjustment 2",
         "type": "bar",
         "x": [
          "H",
          "M",
          "NM"
         ],
         "y": [
          481,
          11,
          893
         ]
        },
        {
         "name": "Adjustment 3",
         "type": "bar",
         "x": [
          "H",
          "M",
          "NM"
         ],
         "y": [
          484,
          11,
          890
         ]
        },
        {
         "name": "Adjustment 4",
         "type": "bar",
         "x": [
          "H",
          "M",
          "NM"
         ],
         "y": [
          482,
          12,
          891
         ]
        },
        {
         "name": "Adjustment 5",
         "type": "bar",
         "x": [
          "H",
          "M",
          "NM"
         ],
         "y": [
          482,
          12,
          891
         ]
        }
       ],
       "layout": {
        "barmode": "group",
        "title": "Retiree"
       }
      },
      "text/html": [
       "<div id=\"186e8cfb-60d2-42b5-87f8-9432cd11463b\" style=\"height: 525px; width: 100%;\" class=\"plotly-graph-div\"></div><script type=\"text/javascript\">require([\"plotly\"], function(Plotly) { window.PLOTLYENV=window.PLOTLYENV || {};window.PLOTLYENV.BASE_URL=\"https://plot.ly\";Plotly.newPlot(\"186e8cfb-60d2-42b5-87f8-9432cd11463b\", [{\"type\": \"bar\", \"x\": [\"H\", \"M\", \"NM\"], \"y\": [520, 23, 842], \"name\": \"Survey\"}, {\"type\": \"bar\", \"x\": [\"H\", \"M\", \"NM\"], \"y\": [492, 14, 879], \"name\": \"Initial Model\"}, {\"type\": \"bar\", \"x\": [\"H\", \"M\", \"NM\"], \"y\": [485, 12, 888], \"name\": \"Adjustment 1\"}, {\"type\": \"bar\", \"x\": [\"H\", \"M\", \"NM\"], \"y\": [481, 11, 893], \"name\": \"Adjustment 2\"}, {\"type\": \"bar\", \"x\": [\"H\", \"M\", \"NM\"], \"y\": [484, 11, 890], \"name\": \"Adjustment 3\"}, {\"type\": \"bar\", \"x\": [\"H\", \"M\", \"NM\"], \"y\": [482, 12, 891], \"name\": \"Adjustment 4\"}, {\"type\": \"bar\", \"x\": [\"H\", \"M\", \"NM\"], \"y\": [482, 12, 891], \"name\": \"Adjustment 5\"}], {\"barmode\": \"group\", \"title\": \"Retiree\"}, {\"showLink\": true, \"linkText\": \"Export to plot.ly\"})});</script>"
      ],
      "text/vnd.plotly.v1+html": [
       "<div id=\"186e8cfb-60d2-42b5-87f8-9432cd11463b\" style=\"height: 525px; width: 100%;\" class=\"plotly-graph-div\"></div><script type=\"text/javascript\">require([\"plotly\"], function(Plotly) { window.PLOTLYENV=window.PLOTLYENV || {};window.PLOTLYENV.BASE_URL=\"https://plot.ly\";Plotly.newPlot(\"186e8cfb-60d2-42b5-87f8-9432cd11463b\", [{\"type\": \"bar\", \"x\": [\"H\", \"M\", \"NM\"], \"y\": [520, 23, 842], \"name\": \"Survey\"}, {\"type\": \"bar\", \"x\": [\"H\", \"M\", \"NM\"], \"y\": [492, 14, 879], \"name\": \"Initial Model\"}, {\"type\": \"bar\", \"x\": [\"H\", \"M\", \"NM\"], \"y\": [485, 12, 888], \"name\": \"Adjustment 1\"}, {\"type\": \"bar\", \"x\": [\"H\", \"M\", \"NM\"], \"y\": [481, 11, 893], \"name\": \"Adjustment 2\"}, {\"type\": \"bar\", \"x\": [\"H\", \"M\", \"NM\"], \"y\": [484, 11, 890], \"name\": \"Adjustment 3\"}, {\"type\": \"bar\", \"x\": [\"H\", \"M\", \"NM\"], \"y\": [482, 12, 891], \"name\": \"Adjustment 4\"}, {\"type\": \"bar\", \"x\": [\"H\", \"M\", \"NM\"], \"y\": [482, 12, 891], \"name\": \"Adjustment 5\"}], {\"barmode\": \"group\", \"title\": \"Retiree\"}, {\"showLink\": true, \"linkText\": \"Export to plot.ly\"})});</script>"
      ]
     },
     "metadata": {},
     "output_type": "display_data"
    },
    {
     "data": {
      "application/vnd.plotly.v1+json": {
       "data": [
        {
         "name": "Survey",
         "type": "bar",
         "x": [
          "H",
          "M",
          "NM"
         ],
         "y": [
          73,
          273,
          87
         ]
        },
        {
         "name": "Initial Model",
         "type": "bar",
         "x": [
          "H",
          "M",
          "NM"
         ],
         "y": [
          63,
          303,
          67
         ]
        },
        {
         "name": "Adjustment 1",
         "type": "bar",
         "x": [
          "H",
          "M",
          "NM"
         ],
         "y": [
          64,
          305,
          64
         ]
        },
        {
         "name": "Adjustment 2",
         "type": "bar",
         "x": [
          "H",
          "M",
          "NM"
         ],
         "y": [
          61,
          305,
          67
         ]
        },
        {
         "name": "Adjustment 3",
         "type": "bar",
         "x": [
          "H",
          "M",
          "NM"
         ],
         "y": [
          61,
          306,
          66
         ]
        },
        {
         "name": "Adjustment 4",
         "type": "bar",
         "x": [
          "H",
          "M",
          "NM"
         ],
         "y": [
          61,
          306,
          66
         ]
        },
        {
         "name": "Adjustment 5",
         "type": "bar",
         "x": [
          "H",
          "M",
          "NM"
         ],
         "y": [
          61,
          307,
          65
         ]
        }
       ],
       "layout": {
        "barmode": "group",
        "title": "Univ_Stud"
       }
      },
      "text/html": [
       "<div id=\"350e9ad3-f6a1-4874-9851-16850358a0a2\" style=\"height: 525px; width: 100%;\" class=\"plotly-graph-div\"></div><script type=\"text/javascript\">require([\"plotly\"], function(Plotly) { window.PLOTLYENV=window.PLOTLYENV || {};window.PLOTLYENV.BASE_URL=\"https://plot.ly\";Plotly.newPlot(\"350e9ad3-f6a1-4874-9851-16850358a0a2\", [{\"type\": \"bar\", \"x\": [\"H\", \"M\", \"NM\"], \"y\": [73, 273, 87], \"name\": \"Survey\"}, {\"type\": \"bar\", \"x\": [\"H\", \"M\", \"NM\"], \"y\": [63, 303, 67], \"name\": \"Initial Model\"}, {\"type\": \"bar\", \"x\": [\"H\", \"M\", \"NM\"], \"y\": [64, 305, 64], \"name\": \"Adjustment 1\"}, {\"type\": \"bar\", \"x\": [\"H\", \"M\", \"NM\"], \"y\": [61, 305, 67], \"name\": \"Adjustment 2\"}, {\"type\": \"bar\", \"x\": [\"H\", \"M\", \"NM\"], \"y\": [61, 306, 66], \"name\": \"Adjustment 3\"}, {\"type\": \"bar\", \"x\": [\"H\", \"M\", \"NM\"], \"y\": [61, 306, 66], \"name\": \"Adjustment 4\"}, {\"type\": \"bar\", \"x\": [\"H\", \"M\", \"NM\"], \"y\": [61, 307, 65], \"name\": \"Adjustment 5\"}], {\"barmode\": \"group\", \"title\": \"Univ_Stud\"}, {\"showLink\": true, \"linkText\": \"Export to plot.ly\"})});</script>"
      ],
      "text/vnd.plotly.v1+html": [
       "<div id=\"350e9ad3-f6a1-4874-9851-16850358a0a2\" style=\"height: 525px; width: 100%;\" class=\"plotly-graph-div\"></div><script type=\"text/javascript\">require([\"plotly\"], function(Plotly) { window.PLOTLYENV=window.PLOTLYENV || {};window.PLOTLYENV.BASE_URL=\"https://plot.ly\";Plotly.newPlot(\"350e9ad3-f6a1-4874-9851-16850358a0a2\", [{\"type\": \"bar\", \"x\": [\"H\", \"M\", \"NM\"], \"y\": [73, 273, 87], \"name\": \"Survey\"}, {\"type\": \"bar\", \"x\": [\"H\", \"M\", \"NM\"], \"y\": [63, 303, 67], \"name\": \"Initial Model\"}, {\"type\": \"bar\", \"x\": [\"H\", \"M\", \"NM\"], \"y\": [64, 305, 64], \"name\": \"Adjustment 1\"}, {\"type\": \"bar\", \"x\": [\"H\", \"M\", \"NM\"], \"y\": [61, 305, 67], \"name\": \"Adjustment 2\"}, {\"type\": \"bar\", \"x\": [\"H\", \"M\", \"NM\"], \"y\": [61, 306, 66], \"name\": \"Adjustment 3\"}, {\"type\": \"bar\", \"x\": [\"H\", \"M\", \"NM\"], \"y\": [61, 306, 66], \"name\": \"Adjustment 4\"}, {\"type\": \"bar\", \"x\": [\"H\", \"M\", \"NM\"], \"y\": [61, 307, 65], \"name\": \"Adjustment 5\"}], {\"barmode\": \"group\", \"title\": \"Univ_Stud\"}, {\"showLink\": true, \"linkText\": \"Export to plot.ly\"})});</script>"
      ]
     },
     "metadata": {},
     "output_type": "display_data"
    }
   ],
   "source": [
    "init_notebook_mode(connected=True)\n",
    "for pertype in survey_count.PERTYPE.unique():\n",
    "    predictions_raw = prediction_adj_count_raw[prediction_adj_count_raw['PERTYPE'] == pertype]\n",
    "    predictions = prediction_adj_count[prediction_adj_count['PERTYPE'] == pertype]\n",
    "    predictions_2 = prediction_adj_count_2[prediction_adj_count_2['PERTYPE'] == pertype]\n",
    "    predictions_3 = prediction_adj_count_3[prediction_adj_count_3['PERTYPE'] == pertype]\n",
    "    predictions_4 = prediction_adj_count_4[prediction_adj_count_4['PERTYPE'] == pertype]\n",
    "    predictions_5 = prediction_adj_count_5[prediction_adj_count_5['PERTYPE'] == pertype]\n",
    "    survey = survey_count[survey_count['PERTYPE'] == pertype]\n",
    "    trace1 = go.Bar(\n",
    "        x=survey['IDAP'],\n",
    "        y=survey['COUNT'],\n",
    "        name='Survey'\n",
    "    ) \n",
    "    trace2 = go.Bar(\n",
    "        x=predictions_raw['PREDICTION'],\n",
    "        y=predictions_raw['COUNT'],\n",
    "        name='Initial Model'\n",
    "    )\n",
    "    trace3 = go.Bar(\n",
    "        x=predictions['PREDICTION_ADJ_1'],\n",
    "        y=predictions['COUNT'],\n",
    "        name='Adjustment 1'\n",
    "    )\n",
    "    trace4 = go.Bar(\n",
    "        x=predictions_2['PREDICTION_ADJ_2'],\n",
    "        y=predictions_2['COUNT'],\n",
    "        name='Adjustment 2'\n",
    "    )\n",
    "    trace5 = go.Bar(\n",
    "        x=predictions_3['PREDICTION_ADJ_3'],\n",
    "        y=predictions_3['COUNT'],\n",
    "        name='Adjustment 3'\n",
    "    )\n",
    "    trace6 = go.Bar(\n",
    "        x=predictions_4['PREDICTION_ADJ_4'],\n",
    "        y=predictions_4['COUNT'],\n",
    "        name='Adjustment 4'\n",
    "    )\n",
    "    trace7 = go.Bar(\n",
    "        x=predictions_5['PREDICTION_ADJ_5'],\n",
    "        y=predictions_5['COUNT'],\n",
    "        name='Adjustment 5'\n",
    "    )\n",
    "    data = [trace1, trace2, trace3, trace4, trace5, trace6, trace7]\n",
    "    layout = go.Layout(\n",
    "        barmode='group',\n",
    "        title=pertype\n",
    "    )\n",
    "\n",
    "    fig = go.Figure(data=data, layout=layout)\n",
    "    iplot(fig)"
   ]
  },
  {
   "cell_type": "code",
   "execution_count": null,
   "metadata": {
    "collapsed": true
   },
   "outputs": [],
   "source": []
  },
  {
   "cell_type": "code",
   "execution_count": null,
   "metadata": {
    "collapsed": true
   },
   "outputs": [],
   "source": []
  },
  {
   "cell_type": "code",
   "execution_count": null,
   "metadata": {
    "collapsed": true
   },
   "outputs": [],
   "source": []
  },
  {
   "cell_type": "code",
   "execution_count": null,
   "metadata": {
    "collapsed": true
   },
   "outputs": [],
   "source": []
  },
  {
   "cell_type": "code",
   "execution_count": null,
   "metadata": {
    "collapsed": true
   },
   "outputs": [],
   "source": []
  }
 ],
 "metadata": {
  "kernelspec": {
   "display_name": "Python 3",
   "language": "python",
   "name": "python3"
  },
  "language_info": {
   "codemirror_mode": {
    "name": "ipython",
    "version": 3
   },
   "file_extension": ".py",
   "mimetype": "text/x-python",
   "name": "python",
   "nbconvert_exporter": "python",
   "pygments_lexer": "ipython3",
   "version": "3.6.3"
  }
 },
 "nbformat": 4,
 "nbformat_minor": 2
}
