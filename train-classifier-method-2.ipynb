{
 "cells": [
  {
   "cell_type": "markdown",
   "metadata": {},
   "source": [
    "### Train Classifier\n",
    "#### Daniel Fay"
   ]
  },
  {
   "cell_type": "code",
   "execution_count": 1,
   "metadata": {
    "collapsed": true
   },
   "outputs": [],
   "source": [
    "# Import necessary packages\n",
    "import pandas as pd\n",
    "import numpy as np\n",
    "import pickle\n",
    "\n",
    "from collections import Counter\n",
    "import itertools\n",
    "from dbfread import DBF\n",
    "import matplotlib.pyplot as plt\n",
    "%matplotlib inline\n",
    "\n",
    "from sklearn.metrics import classification_report, confusion_matrix, accuracy_score, f1_score, make_scorer\n",
    "from sklearn.model_selection import train_test_split\n",
    "from sklearn.externals import joblib\n",
    "from sklearn.tree import DecisionTreeClassifier as DTC\n",
    "from sklearn.ensemble import RandomForestClassifier as RFC\n",
    "from sklearn.ensemble import GradientBoostingClassifier as GBC\n",
    "from sklearn.neural_network import MLPClassifier\n",
    "from sklearn.svm import SVC\n",
    "from sklearn import linear_model\n",
    "#from xgboost.sklearn import XGBClassifier\n",
    "\n",
    "from sklearn.model_selection import GridSearchCV\n",
    "from sklearn import preprocessing\n",
    "from sklearn import tree\n",
    "from imblearn.over_sampling import SMOTE\n",
    "from tabulate import tabulate\n",
    "import warnings\n",
    "warnings.filterwarnings('ignore')\n",
    "pd.set_option('display.max_columns', 50)"
   ]
  },
  {
   "cell_type": "markdown",
   "metadata": {},
   "source": [
    "### Clean and Process Data"
   ]
  },
  {
   "cell_type": "markdown",
   "metadata": {},
   "source": [
    "##### Needed Features:\n",
    "* Age\n",
    "    * Continuous\n",
    "* Household Income  \n",
    "    * 49,999 or less\n",
    "    * 50,000 to 74,999\n",
    "    * 75,000\n",
    "    * Don't Know / Refused\n",
    "* Gender\n",
    "    * Male\n",
    "    * Female\n",
    "* Car Sufficiency\n",
    "    * Zero Cars\n",
    "    * Fewer Cars than Workers\n",
    "    * Cars Equal to Workers\n",
    "    * More Cars than Workers\n",
    "* Education Level\n",
    "    * Bachelors or Higher\n",
    "    * Less than Bachelors\n",
    "    * Don't Know / Refused\n",
    "* Job Industry\n",
    "    * Agriculture and Mining\n",
    "    * Transportation, Utilities and Warehousing\n",
    "    * Manufacturing and Wholesale Trade\n",
    "    * Information, Professor/Scientist, Management, Admin\n",
    "    * Education\n",
    "    * Finance & Real Estate\n",
    "    * Arts/Entertainment\n",
    "    * Public Admin\n",
    "    * Health\n",
    "    * Other\n",
    "    * MORPC INDUS=80\n",
    "    * Retail\n",
    "* Multiple Jobs\n",
    "    * One Job\n",
    "    * More than One Job\n",
    "    * No Job\n",
    "    * Don't Know / Refused\n",
    "* Accesibility\n",
    "    * Zero Cars\n",
    "    * Fewer Cars than Workers\n",
    "    * Equal or More Cars than Workers\n",
    "* Distance to Work/School"
   ]
  },
  {
   "cell_type": "code",
   "execution_count": 2,
   "metadata": {},
   "outputs": [],
   "source": [
    "# Import data\n",
    "idap_dbf = DBF('R:/Projects/20713A_Ohio3C/HIS/IDAP.dbf')\n",
    "idap = pd.DataFrame(iter(idap_dbf))\n",
    "\n",
    "hhtype_dbf = DBF('R:/Projects/20713A_Ohio3C/HIS/hhtype.dbf')\n",
    "hhtype = pd.DataFrame(iter(hhtype_dbf))\n",
    "\n",
    "pertype_dbf = DBF('R:/Projects/20713A_Ohio3C/HIS/PERTYPE.dbf')\n",
    "pertype = pd.DataFrame(iter(pertype_dbf))\n",
    "\n",
    "accessibility_dbf = DBF('R:/Projects/20713A_Ohio3C/Accessibility/ACCESSIBILITY_MEASURES.dbf')\n",
    "accessibility = pd.DataFrame(iter(accessibility_dbf))\n"
   ]
  },
  {
   "cell_type": "code",
   "execution_count": 4,
   "metadata": {
    "collapsed": true
   },
   "outputs": [],
   "source": [
    "# Process IDAP Data\n",
    "idap = idap[idap['MPO'] == 1]\n",
    "    \n",
    "genders = {1:'Male', 2:'Female'}\n",
    "pertypes = {1:'FT_Worker', 2:'PT_Worker', 3:'Univ_Stud', 4:'Non_Worker', 5:'Retiree', 6:'DA_Stud', 7:'PDA_Stud', 8:'PreSch_Child'}\n",
    "idaps = {1:'M', 2:'NM', 3:'H'}\n",
    "\n",
    "idap['GENDER'] = idap.GENDER.map(genders)\n",
    "idap['PERTYPE'] = idap.PERTYPE.map(pertypes)\n",
    "idap['IDAP'] = idap.IDAP.map(idaps)\n",
    "idap.age = idap.AGE.astype(int)\n",
    "\n",
    "idap = idap[['SAMPN', 'PERNO', 'GENDER', 'PERTYPE', 'AGE', 'IDAP']]\n",
    "idap.dropna(inplace=True)\n"
   ]
  },
  {
   "cell_type": "code",
   "execution_count": 5,
   "metadata": {
    "collapsed": true
   },
   "outputs": [],
   "source": [
    "# Process household type data\n",
    "hhtype = hhtype[hhtype['MPO'] == 1]\n",
    "\n",
    "incomes = {1: '$49,999 or less', 2: '$49,999 or less', 3: '$50,000 to $74,999', 4: '$75,000 or more', \\\n",
    "           5: '$75,000 or more', 9: 'DK/RF'}\n",
    "hhtype['HINCCAT1'] = hhtype.HINCCAT1.map(incomes)\n",
    "hhtype['HWORK_F'] = hhtype['HWORK_F'].fillna(0)\n",
    "hhtype['HWORK_P'] = hhtype['HWORK_P'].fillna(0)\n",
    "hhtype['WORKERS'] = hhtype['HWORK_F'] + hhtype['HWORK_P']\n",
    "           \n",
    "    \n",
    "# Calculate car sufficiency\n",
    "car_sufficiency = []\n",
    "for ix, row in hhtype.iterrows():\n",
    "    if row['HHVEH'] == 0:\n",
    "        car_sufficiency.append('Zero Cars')\n",
    "    elif row['HHVEH'] < row['WORKERS']:\n",
    "        car_sufficiency.append('Fewer Cars than Workers')\n",
    "    elif row['HHVEH'] == row['WORKERS']:\n",
    "        car_sufficiency.append('Cars Equals to Workers')\n",
    "    elif row['HHVEH'] > row['WORKERS']:\n",
    "        car_sufficiency.append('More Cars than Workers')\n",
    "        \n",
    "hhtype['CAR_SUFF'] = car_sufficiency\n",
    "\n",
    "\n",
    "hh_features = hhtype[['SAMPN', 'CAR_SUFF', 'HINCCAT1', 'HHTAZ']]"
   ]
  },
  {
   "cell_type": "code",
   "execution_count": 6,
   "metadata": {
    "collapsed": true
   },
   "outputs": [],
   "source": [
    "# Process person type data\n",
    "pertype = pertype[pertype['MPO'] == 1]\n",
    "educations = {1: 'Less than Bachelors', 2: 'Less than Bachelors', 3: 'Less than Bachelors', \\\n",
    "              4: 'Less than Bachelors', 5: 'Bachelors or Higher Degree', 6: 'Bachelors or Higher Degree', \\\n",
    "              7: 'Less than Bachelors', 99: 'DK/RF'}\n",
    "\n",
    "numjobs = {0: 'No Job', 1: 'More than One Job', 2: 'One Job', 99: 'DK/RF'}\n",
    "jobtypes = {1: 'Agriculture and Mining', 2: 'Transportation, Utilities and Warehousing', \\\n",
    "            3: 'Manufacturing and Wholesale Trade', 5: 'Information, Professor/Scientist, Management, Admin', \\\n",
    "            6: 'Education', 7: 'Finance & Real Estate', 8: 'Arts/Entertainment', 9: 'Public Admin', \\\n",
    "            10: 'Health', 11: 'Other', 12: 'MORPC INDUS=80', 13: 'Retail'}\n",
    "\n",
    "\n",
    "pertype.EDUCA = pertype.EDUCA.map(educations)\n",
    "pertype.JOBS = pertype.JOBS.map(numjobs)\n",
    "pertype.JOBTYPE = pertype.JOBTYPE.map(jobtypes)\n",
    "pertype.JOBTYPE = pertype.JOBTYPE.fillna('No Job Type')\n",
    "per_features = pertype[['SAMPN', 'PERNO', 'EDUCA', 'JOBS', 'JOBTYPE', 'WU_DIST', 'SU_DIST']]"
   ]
  },
  {
   "cell_type": "code",
   "execution_count": 7,
   "metadata": {
    "collapsed": true
   },
   "outputs": [],
   "source": [
    "# Process accessibility data\n",
    "accessibility = accessibility[accessibility['MPO'] == 1]\n",
    "access_features = accessibility[['TAZ', 'ACCESS7', 'ACCESS8', 'ACCESS9']]"
   ]
  },
  {
   "cell_type": "code",
   "execution_count": 8,
   "metadata": {
    "collapsed": true
   },
   "outputs": [],
   "source": [
    "idap.reset_index(inplace=True)\n",
    "idap['PERID'] = idap['SAMPN'].astype(str) + idap['PERNO'].astype(str)\n",
    "per_features['PERID'] = per_features['SAMPN'].astype(str) + per_features['PERNO'].astype(str)"
   ]
  },
  {
   "cell_type": "code",
   "execution_count": 9,
   "metadata": {
    "collapsed": true,
    "scrolled": true
   },
   "outputs": [],
   "source": [
    "# Merge household data\n",
    "features = pd.merge(idap, hh_features, on='SAMPN', how='inner')\n",
    "features = pd.merge(features, per_features, on='PERID', how='inner')\n",
    "features = pd.merge(features, access_features, left_on='HHTAZ', right_on='TAZ', how='left')\n",
    "features.drop(['PERNO_y', 'TAZ', 'SAMPN_y', 'HHTAZ', 'index'], axis=1, inplace=True)"
   ]
  },
  {
   "cell_type": "code",
   "execution_count": 10,
   "metadata": {
    "collapsed": true
   },
   "outputs": [],
   "source": [
    "# Assign accessibilities\n",
    "accessibility = []\n",
    "for ix, row in features.iterrows():\n",
    "    if row['CAR_SUFF'] == 'Zero Cars':\n",
    "        accessibility.append(row['ACCESS7'] + 1)\n",
    "    elif row['CAR_SUFF'] == 'Fewer Cars Than Workers':\n",
    "        accessibility.append(row['ACCESS8'] + 1)\n",
    "    else:\n",
    "        accessibility.append(row['ACCESS9'] + 1)\n",
    "features['ACCESSIBILITY'] = np.log(accessibility)\n",
    "features.drop(['ACCESS7', 'ACCESS8', 'ACCESS9'], axis=1, inplace=True)"
   ]
  },
  {
   "cell_type": "code",
   "execution_count": 11,
   "metadata": {},
   "outputs": [
    {
     "data": {
      "text/html": [
       "<div>\n",
       "<style>\n",
       "    .dataframe thead tr:only-child th {\n",
       "        text-align: right;\n",
       "    }\n",
       "\n",
       "    .dataframe thead th {\n",
       "        text-align: left;\n",
       "    }\n",
       "\n",
       "    .dataframe tbody tr th {\n",
       "        vertical-align: top;\n",
       "    }\n",
       "</style>\n",
       "<table border=\"1\" class=\"dataframe\">\n",
       "  <thead>\n",
       "    <tr style=\"text-align: right;\">\n",
       "      <th></th>\n",
       "      <th>PERNO_x</th>\n",
       "      <th>GENDER</th>\n",
       "      <th>PERTYPE</th>\n",
       "      <th>AGE</th>\n",
       "      <th>IDAP</th>\n",
       "      <th>CAR_SUFF</th>\n",
       "      <th>HINCCAT1</th>\n",
       "      <th>EDUCA</th>\n",
       "      <th>JOBS</th>\n",
       "      <th>JOBTYPE</th>\n",
       "      <th>ACCESSIBILITY</th>\n",
       "      <th>DIST</th>\n",
       "    </tr>\n",
       "    <tr>\n",
       "      <th>SAMPN_x</th>\n",
       "      <th></th>\n",
       "      <th></th>\n",
       "      <th></th>\n",
       "      <th></th>\n",
       "      <th></th>\n",
       "      <th></th>\n",
       "      <th></th>\n",
       "      <th></th>\n",
       "      <th></th>\n",
       "      <th></th>\n",
       "      <th></th>\n",
       "      <th></th>\n",
       "    </tr>\n",
       "  </thead>\n",
       "  <tbody>\n",
       "    <tr>\n",
       "      <th>11002042</th>\n",
       "      <td>1</td>\n",
       "      <td>Female</td>\n",
       "      <td>Retiree</td>\n",
       "      <td>71</td>\n",
       "      <td>NM</td>\n",
       "      <td>More Cars than Workers</td>\n",
       "      <td>$49,999 or less</td>\n",
       "      <td>Bachelors or Higher Degree</td>\n",
       "      <td>No Job</td>\n",
       "      <td>No Job Type</td>\n",
       "      <td>13.659632</td>\n",
       "      <td>0.00</td>\n",
       "    </tr>\n",
       "    <tr>\n",
       "      <th>11003319</th>\n",
       "      <td>1</td>\n",
       "      <td>Male</td>\n",
       "      <td>FT_Worker</td>\n",
       "      <td>57</td>\n",
       "      <td>M</td>\n",
       "      <td>More Cars than Workers</td>\n",
       "      <td>$75,000 or more</td>\n",
       "      <td>Bachelors or Higher Degree</td>\n",
       "      <td>One Job</td>\n",
       "      <td>Public Admin</td>\n",
       "      <td>13.652378</td>\n",
       "      <td>3.99</td>\n",
       "    </tr>\n",
       "    <tr>\n",
       "      <th>11003319</th>\n",
       "      <td>2</td>\n",
       "      <td>Female</td>\n",
       "      <td>PT_Worker</td>\n",
       "      <td>54</td>\n",
       "      <td>M</td>\n",
       "      <td>More Cars than Workers</td>\n",
       "      <td>$75,000 or more</td>\n",
       "      <td>Less than Bachelors</td>\n",
       "      <td>One Job</td>\n",
       "      <td>Education</td>\n",
       "      <td>13.652378</td>\n",
       "      <td>1.65</td>\n",
       "    </tr>\n",
       "    <tr>\n",
       "      <th>11003319</th>\n",
       "      <td>3</td>\n",
       "      <td>Male</td>\n",
       "      <td>DA_Stud</td>\n",
       "      <td>19</td>\n",
       "      <td>M</td>\n",
       "      <td>More Cars than Workers</td>\n",
       "      <td>$75,000 or more</td>\n",
       "      <td>Less than Bachelors</td>\n",
       "      <td>More than One Job</td>\n",
       "      <td>Retail</td>\n",
       "      <td>13.652378</td>\n",
       "      <td>1.36</td>\n",
       "    </tr>\n",
       "    <tr>\n",
       "      <th>11003959</th>\n",
       "      <td>1</td>\n",
       "      <td>Male</td>\n",
       "      <td>FT_Worker</td>\n",
       "      <td>40</td>\n",
       "      <td>M</td>\n",
       "      <td>Cars Equals to Workers</td>\n",
       "      <td>$49,999 or less</td>\n",
       "      <td>Bachelors or Higher Degree</td>\n",
       "      <td>One Job</td>\n",
       "      <td>Retail</td>\n",
       "      <td>13.562480</td>\n",
       "      <td>16.54</td>\n",
       "    </tr>\n",
       "  </tbody>\n",
       "</table>\n",
       "</div>"
      ],
      "text/plain": [
       "          PERNO_x  GENDER    PERTYPE  AGE IDAP                CAR_SUFF  \\\n",
       "SAMPN_x                                                                  \n",
       "11002042        1  Female    Retiree   71   NM  More Cars than Workers   \n",
       "11003319        1    Male  FT_Worker   57    M  More Cars than Workers   \n",
       "11003319        2  Female  PT_Worker   54    M  More Cars than Workers   \n",
       "11003319        3    Male    DA_Stud   19    M  More Cars than Workers   \n",
       "11003959        1    Male  FT_Worker   40    M  Cars Equals to Workers   \n",
       "\n",
       "                 HINCCAT1                       EDUCA               JOBS  \\\n",
       "SAMPN_x                                                                    \n",
       "11002042  $49,999 or less  Bachelors or Higher Degree             No Job   \n",
       "11003319  $75,000 or more  Bachelors or Higher Degree            One Job   \n",
       "11003319  $75,000 or more         Less than Bachelors            One Job   \n",
       "11003319  $75,000 or more         Less than Bachelors  More than One Job   \n",
       "11003959  $49,999 or less  Bachelors or Higher Degree            One Job   \n",
       "\n",
       "               JOBTYPE  ACCESSIBILITY   DIST  \n",
       "SAMPN_x                                       \n",
       "11002042   No Job Type      13.659632   0.00  \n",
       "11003319  Public Admin      13.652378   3.99  \n",
       "11003319     Education      13.652378   1.65  \n",
       "11003319        Retail      13.652378   1.36  \n",
       "11003959        Retail      13.562480  16.54  "
      ]
     },
     "execution_count": 11,
     "metadata": {},
     "output_type": "execute_result"
    }
   ],
   "source": [
    "# Assign work or school distance based on person type\n",
    "distances = []\n",
    "for ix, row in features.iterrows():\n",
    "    if row['PERTYPE'] == 'FT_Worker' or row['PERTYPE'] == 'PT_Worker':\n",
    "        distances.append(row['WU_DIST'])\n",
    "    else:\n",
    "        distances.append(row['SU_DIST'])\n",
    "        \n",
    "features['DIST'] = distances\n",
    "features.drop(['WU_DIST', 'SU_DIST', 'PERID'], axis=1, inplace=True)\n",
    "features.set_index('SAMPN_x', inplace=True)\n",
    "features.head()"
   ]
  },
  {
   "cell_type": "code",
   "execution_count": 12,
   "metadata": {
    "collapsed": true
   },
   "outputs": [],
   "source": [
    "hh_interactions_columns = ['Retiree_NM', 'Retiree_M', 'Retiree_H', 'FT_Worker_NM', 'FT_Worker_M', 'FT_Worker_H', \\\n",
    "                           'PT_Worker_NM', 'PT_Worker_M', 'PT_Worker_H', 'DA_Stud_NM', 'DA_Stud_M', 'DA_Stud_H', \\\n",
    "                           'PreSch_Child_NM', 'PreSch_Child_M', 'PreSch_Child_H', 'PDA_Stud_NM', 'PDA_Stud_M', 'PDA_Stud_H', \\\n",
    "                           'Non_Worker_NM', 'Non_Worker_M', 'Non_Worker_H', 'Univ_Stud_NM', 'Univ_Stud_M', 'Univ_Stud_H']\n",
    "\n",
    "hh_interactions = pd.DataFrame(index=[list(itertools.product(features.PERTYPE.unique(), features.IDAP.unique()))])\n",
    "hh_interactions.reset_index(inplace=True)\n",
    "hh_interactions.columns = ['PERTYPE', 'IDAP']\n",
    "hh_interactions_final = pd.DataFrame()\n",
    "for ix, row in features.iterrows():\n",
    "    df = pd.DataFrame(features.loc[ix])\n",
    "    if len(df.T) == 1:\n",
    "        temp = [0]*24\n",
    "        hh_interactions_final = hh_interactions_final.append(pd.Series(temp), ignore_index=True)\n",
    "    else:\n",
    "        df = df.groupby(['PERTYPE', 'IDAP']).count()\n",
    "        df = df[['PERNO_x']]\n",
    "        df.columns = ['COUNT']\n",
    "        df.reset_index(inplace=True)\n",
    "        hh_interactions_temp = pd.merge(hh_interactions, df, how='left', on=['PERTYPE', 'IDAP'])\n",
    "        hh_interactions_temp.loc[(hh_interactions_temp.PERTYPE == row['PERTYPE']) & \\\n",
    "                                 (hh_interactions_temp.IDAP == row['IDAP']), 'COUNT'] = hh_interactions_temp.loc[(hh_interactions_temp.PERTYPE == row['PERTYPE']) & \\\n",
    "                                                                                                         (hh_interactions_temp.IDAP == row['IDAP']), 'COUNT'] - 1\n",
    "        hh_interactions_final = hh_interactions_final.append(hh_interactions_temp['COUNT'].T)\n",
    "hh_interactions_final.fillna(0, inplace=True)\n",
    "hh_interactions_final.columns = hh_interactions_columns\n",
    "features.reset_index(inplace=True)\n",
    "features = pd.concat([features, hh_interactions_final], axis=1)"
   ]
  },
  {
   "cell_type": "code",
   "execution_count": 13,
   "metadata": {
    "collapsed": true
   },
   "outputs": [],
   "source": [
    "# Split into X and Y\n",
    "X = features.drop(['SAMPN_x', 'PERNO_x', 'IDAP'], axis=1)\n",
    "X = pd.get_dummies(X)\n",
    "Y = features['IDAP']"
   ]
  },
  {
   "cell_type": "code",
   "execution_count": 14,
   "metadata": {
    "collapsed": true
   },
   "outputs": [],
   "source": [
    "# Split data into train and test\n",
    "X_train, X_test, Y_train, Y_test = train_test_split(X, Y, test_size=1/3, stratify=Y, random_state=234)"
   ]
  },
  {
   "cell_type": "code",
   "execution_count": 15,
   "metadata": {
    "collapsed": true
   },
   "outputs": [],
   "source": [
    "# Upsample to balance out classes\n",
    "sm = SMOTE(random_state=12, ratio = 1.0)\n",
    "X_train_res, Y_train_res = sm.fit_sample(X_train, Y_train)\n",
    "X_train_res = pd.DataFrame(X_train_res, columns=X_train.columns)\n",
    "### NEED TO FIX CATEGORICAL FEATURES TO INT ###"
   ]
  },
  {
   "cell_type": "code",
   "execution_count": 16,
   "metadata": {
    "collapsed": true
   },
   "outputs": [],
   "source": [
    "# Define confusion matrix plot function\n",
    "class_names = ['H', 'M', 'NM']\n",
    "def plot_confusion_matrix(cm, classes,\n",
    "                          normalize=False,\n",
    "                          title='Confusion matrix',\n",
    "                          cmap=plt.cm.Blues):\n",
    "    if normalize:\n",
    "        cm = cm.astype('float') / cm.sum(axis=1)[:, np.newaxis]\n",
    "    else:\n",
    "        pass\n",
    "    print ()\n",
    "    plt.imshow(cm, interpolation='nearest', cmap=cmap)\n",
    "    plt.title(title)\n",
    "    plt.colorbar()\n",
    "    tick_marks = np.arange(len(classes))\n",
    "    plt.xticks(tick_marks, classes, rotation=45)\n",
    "    plt.yticks(tick_marks, classes)\n",
    "\n",
    "\n",
    "\n",
    "    thresh = cm.max() / 1.5\n",
    "    for i, j in itertools.product(range(cm.shape[0]), range(cm.shape[1])):\n",
    "        plt.text(j, i, round(cm[i, j],2),\n",
    "                 horizontalalignment=\"center\",\n",
    "                 color=\"white\" if cm[i, j] > thresh else \"black\")\n",
    "\n",
    "    plt.tight_layout()\n",
    "    plt.ylabel('True label')\n",
    "    plt.xlabel('Predicted label')"
   ]
  },
  {
   "cell_type": "markdown",
   "metadata": {},
   "source": [
    "#### Evaluate Machine Learning Models"
   ]
  },
  {
   "cell_type": "markdown",
   "metadata": {},
   "source": [
    "##### Decision Tree"
   ]
  },
  {
   "cell_type": "code",
   "execution_count": 143,
   "metadata": {
    "collapsed": true
   },
   "outputs": [],
   "source": [
    "# Define scoring metric to optmize model parameters\n",
    "f1_scorer = make_scorer(f1_score, average='weighted')"
   ]
  },
  {
   "cell_type": "code",
   "execution_count": 144,
   "metadata": {
    "scrolled": true
   },
   "outputs": [
    {
     "name": "stdout",
     "output_type": "stream",
     "text": [
      "{'max_depth': 22.137931034482762}\n"
     ]
    }
   ],
   "source": [
    "# Find optimal max depth parameter\n",
    "param_grid = {'max_depth': np.linspace(3,40,30)}\n",
    "dtc = DTC(random_state=123)\n",
    "dt_model = GridSearchCV(dtc, param_grid, scoring=f1_scorer)\n",
    "dt_model.fit(X_train_res, Y_train_res)\n",
    "print (dt_model.best_params_)"
   ]
  },
  {
   "cell_type": "code",
   "execution_count": 147,
   "metadata": {},
   "outputs": [
    {
     "name": "stdout",
     "output_type": "stream",
     "text": [
      "F1 Score: 87.34846227187661%\n"
     ]
    }
   ],
   "source": [
    "# Cross validate using best parameters\n",
    "avg_acc = []\n",
    "for i in range(100,125):\n",
    "    X_train1, X_test1, Y_train1, Y_test1 = train_test_split(X, Y, test_size=1/3, random_state=i, stratify=Y)\n",
    "    Y_pred = dt_model.predict(X_test1)\n",
    "    avg_acc.append(f1_score(Y_test1, Y_pred, average='weighted'))\n",
    "print (\"F1 Score: {}%\".format(np.mean(avg_acc)*100))"
   ]
  },
  {
   "cell_type": "code",
   "execution_count": 148,
   "metadata": {},
   "outputs": [
    {
     "name": "stdout",
     "output_type": "stream",
     "text": [
      "F1 Score:  0.71572261173\n",
      "\n"
     ]
    },
    {
     "data": {
      "image/png": "[encoded data removed]",
      "text/plain": [
       "<matplotlib.figure.Figure at 0x21ce6868b70>"
      ]
     },
     "metadata": {},
     "output_type": "display_data"
    }
   ],
   "source": [
    "Y_pred = dt_model.predict(X_test)\n",
    "cnf_matrix = confusion_matrix(Y_test, Y_pred)\n",
    "classes = ['H', 'M', 'NM']\n",
    "print ('F1 Score: ',f1_score(Y_test, Y_pred, average='weighted'))\n",
    "plot_confusion_matrix(cnf_matrix, classes, normalize=True, title='Test Dataset')"
   ]
  },
  {
   "cell_type": "markdown",
   "metadata": {},
   "source": [
    "##### Random Forest"
   ]
  },
  {
   "cell_type": "code",
   "execution_count": 149,
   "metadata": {},
   "outputs": [
    {
     "name": "stdout",
     "output_type": "stream",
     "text": [
      "{'criterion': 'gini', 'max_depth': 40.0}\n"
     ]
    }
   ],
   "source": [
    "# Find optimal max depth and criterion parameter\n",
    "param_grid = {'max_depth': np.linspace(5,40,15), 'criterion': ['gini', 'entropy']}\n",
    "rfc = RFC(random_state=123, n_jobs=-1, n_estimators=50)\n",
    "rfc_model = GridSearchCV(rfc, param_grid, scoring=f1_scorer)\n",
    "rfc_model.fit(X_train_res, Y_train_res)\n",
    "print (rfc_model.best_params_)"
   ]
  },
  {
   "cell_type": "code",
   "execution_count": 150,
   "metadata": {},
   "outputs": [
    {
     "name": "stdout",
     "output_type": "stream",
     "text": [
      "F1 Score: 92.26585841823514%\n"
     ]
    }
   ],
   "source": [
    "# Cross validate using best parameters\n",
    "avg_acc = []\n",
    "for i in range(100,125):\n",
    "    X_train1, X_test1, Y_train1, Y_test1 = train_test_split(X, Y, test_size=1/3, random_state=i, stratify=Y)\n",
    "    Y_pred = rfc_model.predict(X_test1)\n",
    "    avg_acc.append(f1_score(Y_test1, Y_pred, average='weighted'))\n",
    "print (\"F1 Score: {}%\".format(np.mean(avg_acc)*100))"
   ]
  },
  {
   "cell_type": "code",
   "execution_count": 151,
   "metadata": {},
   "outputs": [
    {
     "name": "stdout",
     "output_type": "stream",
     "text": [
      "F1 Score:  0.763649324178\n",
      "\n"
     ]
    },
    {
     "data": {
      "image/png": "[encoded data removed]",
      "text/plain": [
       "<matplotlib.figure.Figure at 0x21ce9b1c630>"
      ]
     },
     "metadata": {},
     "output_type": "display_data"
    }
   ],
   "source": [
    "Y_pred = rfc_model.predict(X_test)\n",
    "cnf_matrix = confusion_matrix(Y_test, Y_pred)\n",
    "classes = ['H', 'M', 'NM']\n",
    "print ('F1 Score: ',f1_score(Y_test, Y_pred, average='weighted'))\n",
    "plot_confusion_matrix(cnf_matrix, classes, normalize=True, title='Test Dataset')"
   ]
  },
  {
   "cell_type": "markdown",
   "metadata": {},
   "source": [
    "##### Artificial Neural Network"
   ]
  },
  {
   "cell_type": "code",
   "execution_count": 152,
   "metadata": {},
   "outputs": [
    {
     "name": "stdout",
     "output_type": "stream",
     "text": [
      "{'activation': 'tanh', 'hidden_layer_sizes': (21, 14)}\n"
     ]
    }
   ],
   "source": [
    "# Find optimal hidden layers and activation parameters\n",
    "param_grid = {'hidden_layer_sizes': [(14), (21), (14,7), (21,14), (14,28,21), (14,21,14)], \\\n",
    "              'activation': ['identity', 'logistic', 'tanh', 'relu']}\n",
    "mlp = MLPClassifier(random_state=123)\n",
    "mlp_model = GridSearchCV(mlp, param_grid, scoring=f1_scorer)\n",
    "mlp_model.fit(X_train_res, Y_train_res)\n",
    "print (mlp_model.best_params_)"
   ]
  },
  {
   "cell_type": "code",
   "execution_count": 153,
   "metadata": {},
   "outputs": [
    {
     "name": "stdout",
     "output_type": "stream",
     "text": [
      "F1 Score: 77.47242672237502%\n"
     ]
    }
   ],
   "source": [
    "# Cross validate using best parameters\n",
    "avg_acc = []\n",
    "for i in range(100,125):\n",
    "    X_train1, X_test1, Y_train1, Y_test1 = train_test_split(X, Y, test_size=1/3, random_state=i, stratify=Y)\n",
    "    Y_pred = mlp_model.predict(X_test1)\n",
    "    avg_acc.append(f1_score(Y_test1, Y_pred, average='weighted'))\n",
    "print (\"F1 Score: {}%\".format(np.mean(avg_acc)*100))"
   ]
  },
  {
   "cell_type": "code",
   "execution_count": 154,
   "metadata": {},
   "outputs": [
    {
     "name": "stdout",
     "output_type": "stream",
     "text": [
      "F1 Score:  0.737764171694\n",
      "\n"
     ]
    },
    {
     "data": {
      "image/png": "[encoded data removed]",
      "text/plain": [
       "<matplotlib.figure.Figure at 0x21ce6b4dc88>"
      ]
     },
     "metadata": {},
     "output_type": "display_data"
    }
   ],
   "source": [
    "Y_pred = mlp_model.predict(X_test)\n",
    "cnf_matrix = confusion_matrix(Y_test, Y_pred)\n",
    "classes = ['H', 'M', 'NM']\n",
    "print ('F1 Score: ',f1_score(Y_test, Y_pred, average='weighted'))\n",
    "plot_confusion_matrix(cnf_matrix, classes, normalize=True, title='Test Dataset')"
   ]
  },
  {
   "cell_type": "markdown",
   "metadata": {},
   "source": [
    "##### Gradient Boosting"
   ]
  },
  {
   "cell_type": "code",
   "execution_count": 155,
   "metadata": {},
   "outputs": [
    {
     "name": "stdout",
     "output_type": "stream",
     "text": [
      "{'max_depth': 17.5}\n"
     ]
    }
   ],
   "source": [
    "# Find optimal max depth parameter\n",
    "param_grid = {'max_depth': np.linspace(5,30,15)}\n",
    "gbc = GBC(random_state=123, n_estimators=10)\n",
    "gbc_model = GridSearchCV(gbc, param_grid, scoring=f1_scorer)\n",
    "gbc_model.fit(X_train_res, Y_train_res)\n",
    "print (gbc_model.best_params_)"
   ]
  },
  {
   "cell_type": "code",
   "execution_count": 156,
   "metadata": {},
   "outputs": [
    {
     "name": "stdout",
     "output_type": "stream",
     "text": [
      "F1 Score: 88.26731804354117%\n"
     ]
    }
   ],
   "source": [
    "# Cross validate using best parameters\n",
    "avg_acc = []\n",
    "for i in range(100,125):\n",
    "    X_train1, X_test1, Y_train1, Y_test1 = train_test_split(X, Y, test_size=1/3, random_state=i, stratify=Y)\n",
    "    Y_pred = gbc_model.predict(X_test1)\n",
    "    avg_acc.append(f1_score(Y_test1, Y_pred, average='weighted'))\n",
    "print (\"F1 Score: {}%\".format(np.mean(avg_acc)*100))"
   ]
  },
  {
   "cell_type": "code",
   "execution_count": 157,
   "metadata": {},
   "outputs": [
    {
     "name": "stdout",
     "output_type": "stream",
     "text": [
      "F1 Score:  0.735241035026\n",
      "\n"
     ]
    },
    {
     "data": {
      "image/png": "[encoded data removed]",
      "text/plain": [
       "<matplotlib.figure.Figure at 0x21ce677b1d0>"
      ]
     },
     "metadata": {},
     "output_type": "display_data"
    }
   ],
   "source": [
    "Y_pred = gbc_model.predict(X_test)\n",
    "cnf_matrix = confusion_matrix(Y_test, Y_pred)\n",
    "classes = ['H', 'M', 'NM']\n",
    "print ('F1 Score: ',f1_score(Y_test, Y_pred, average='weighted'))\n",
    "plot_confusion_matrix(cnf_matrix, classes, normalize=True, title='Test Dataset')"
   ]
  },
  {
   "cell_type": "markdown",
   "metadata": {},
   "source": [
    "##### Support Vector Machine"
   ]
  },
  {
   "cell_type": "code",
   "execution_count": 158,
   "metadata": {},
   "outputs": [
    {
     "name": "stdout",
     "output_type": "stream",
     "text": [
      "{'C': 10, 'gamma': 1}\n"
     ]
    }
   ],
   "source": [
    "# Find optimal max depth parameter\n",
    "param_grid = {'C': [.01, .1, 1, 10, 100], 'gamma': [.01, .1, 1, 10]}\n",
    "svc = SVC(random_state=123)\n",
    "svc_model = GridSearchCV(svc, param_grid, scoring=f1_scorer)\n",
    "svc_model.fit(X_train_res, Y_train_res)\n",
    "print (svc_model.best_params_)"
   ]
  },
  {
   "cell_type": "code",
   "execution_count": 159,
   "metadata": {},
   "outputs": [
    {
     "name": "stdout",
     "output_type": "stream",
     "text": [
      "F1 Score: 88.22784948034321%\n"
     ]
    }
   ],
   "source": [
    "# Cross validate using best parameters\n",
    "avg_acc = []\n",
    "for i in range(100,125):\n",
    "    X_train1, X_test1, Y_train1, Y_test1 = train_test_split(X, Y, test_size=1/3, random_state=i, stratify=Y)\n",
    "    Y_pred = svc_model.predict(X_test1)\n",
    "    avg_acc.append(f1_score(Y_test1, Y_pred, average='weighted'))\n",
    "print (\"F1 Score: {}%\".format(np.mean(avg_acc)*100))"
   ]
  },
  {
   "cell_type": "code",
   "execution_count": 160,
   "metadata": {},
   "outputs": [
    {
     "name": "stdout",
     "output_type": "stream",
     "text": [
      "F1 Score:  0.617867462269\n",
      "\n"
     ]
    },
    {
     "data": {
      "image/png": "[encoded data removed]",
      "text/plain": [
       "<matplotlib.figure.Figure at 0x21ce6684d30>"
      ]
     },
     "metadata": {},
     "output_type": "display_data"
    }
   ],
   "source": [
    "Y_pred = svc_model.predict(X_test)\n",
    "cnf_matrix = confusion_matrix(Y_test, Y_pred)\n",
    "classes = ['H', 'M', 'NM']\n",
    "print ('F1 Score: ',f1_score(Y_test, Y_pred, average='weighted'))\n",
    "plot_confusion_matrix(cnf_matrix, classes, normalize=True, title='Test Dataset')"
   ]
  },
  {
   "cell_type": "markdown",
   "metadata": {},
   "source": [
    "##### Logistic Regression"
   ]
  },
  {
   "cell_type": "code",
   "execution_count": 162,
   "metadata": {},
   "outputs": [
    {
     "name": "stdout",
     "output_type": "stream",
     "text": [
      "{'C': 100, 'penalty': 'l1'}\n"
     ]
    }
   ],
   "source": [
    "# Find optimal max depth parameter\n",
    "param_grid = {'penalty': ['l1','l2'], 'C': [0.001,0.01,0.1,1,10,100,1000]}\n",
    "mnl = linear_model.LogisticRegression(random_state=123)\n",
    "mnl_model = GridSearchCV(mnl, param_grid, scoring=f1_scorer)\n",
    "mnl_model.fit(X_train_res, Y_train_res)\n",
    "print (mnl_model.best_params_)"
   ]
  },
  {
   "cell_type": "code",
   "execution_count": 163,
   "metadata": {},
   "outputs": [
    {
     "name": "stdout",
     "output_type": "stream",
     "text": [
      "F1 Score: 74.77155019550798%\n"
     ]
    }
   ],
   "source": [
    "# Cross validate using best parameters\n",
    "avg_acc = []\n",
    "for i in range(100,125):\n",
    "    X_train1, X_test1, Y_train1, Y_test1 = train_test_split(X, Y, test_size=1/3, random_state=i, stratify=Y)\n",
    "    Y_pred = mnl_model.predict(X_test1)\n",
    "    avg_acc.append(f1_score(Y_test1, Y_pred, average='weighted'))\n",
    "print (\"F1 Score: {}%\".format(np.mean(avg_acc)*100))"
   ]
  },
  {
   "cell_type": "code",
   "execution_count": 164,
   "metadata": {},
   "outputs": [
    {
     "name": "stdout",
     "output_type": "stream",
     "text": [
      "F1 Score:  0.742201103714\n",
      "\n"
     ]
    },
    {
     "data": {
      "image/png": "[encoded data removed]",
      "text/plain": [
       "<matplotlib.figure.Figure at 0x21ce516a748>"
      ]
     },
     "metadata": {},
     "output_type": "display_data"
    }
   ],
   "source": [
    "Y_pred = mnl_model.predict(X_test)\n",
    "cnf_matrix = confusion_matrix(Y_test, Y_pred)\n",
    "classes = ['H', 'M', 'NM']\n",
    "print ('F1 Score: ',f1_score(Y_test, Y_pred, average='weighted'))\n",
    "plot_confusion_matrix(cnf_matrix, classes, normalize=True, title='Test Dataset')"
   ]
  },
  {
   "cell_type": "markdown",
   "metadata": {},
   "source": [
    "#### Compare All Classifiers on Entire Dataset"
   ]
  },
  {
   "cell_type": "code",
   "execution_count": 19,
   "metadata": {},
   "outputs": [
    {
     "ename": "KeyError",
     "evalue": "'dt_model'",
     "output_type": "error",
     "traceback": [
      "\u001b[1;31m---------------------------------------------------------------------------\u001b[0m",
      "\u001b[1;31mKeyError\u001b[0m                                  Traceback (most recent call last)",
      "\u001b[1;32m<ipython-input-19-23ed7b721dd8>\u001b[0m in \u001b[0;36m<module>\u001b[1;34m()\u001b[0m\n\u001b[0;32m      7\u001b[0m \u001b[1;33m\u001b[0m\u001b[0m\n\u001b[0;32m      8\u001b[0m \u001b[1;32mfor\u001b[0m \u001b[0mmodel\u001b[0m\u001b[1;33m,\u001b[0m \u001b[0max\u001b[0m \u001b[1;32min\u001b[0m \u001b[0mzip\u001b[0m\u001b[1;33m(\u001b[0m\u001b[0mmodels\u001b[0m\u001b[1;33m,\u001b[0m \u001b[0maxes\u001b[0m\u001b[1;33m)\u001b[0m\u001b[1;33m:\u001b[0m\u001b[1;33m\u001b[0m\u001b[0m\n\u001b[1;32m----> 9\u001b[1;33m     \u001b[0mY_pred\u001b[0m \u001b[1;33m=\u001b[0m \u001b[0mglobals\u001b[0m\u001b[1;33m(\u001b[0m\u001b[1;33m)\u001b[0m\u001b[1;33m[\u001b[0m\u001b[1;34m'%s_model'\u001b[0m \u001b[1;33m%\u001b[0m \u001b[0mmodel\u001b[0m\u001b[1;33m]\u001b[0m\u001b[1;33m.\u001b[0m\u001b[0mpredict\u001b[0m\u001b[1;33m(\u001b[0m\u001b[0mX_test\u001b[0m\u001b[1;33m)\u001b[0m\u001b[1;33m\u001b[0m\u001b[0m\n\u001b[0m\u001b[0;32m     10\u001b[0m     \u001b[0mcm\u001b[0m \u001b[1;33m=\u001b[0m \u001b[0mconfusion_matrix\u001b[0m\u001b[1;33m(\u001b[0m\u001b[0mY_test\u001b[0m\u001b[1;33m,\u001b[0m \u001b[0mY_pred\u001b[0m\u001b[1;33m)\u001b[0m\u001b[1;33m\u001b[0m\u001b[0m\n\u001b[0;32m     11\u001b[0m     \u001b[0mnp\u001b[0m\u001b[1;33m.\u001b[0m\u001b[0mset_printoptions\u001b[0m\u001b[1;33m(\u001b[0m\u001b[0mprecision\u001b[0m\u001b[1;33m=\u001b[0m\u001b[1;36m2\u001b[0m\u001b[1;33m)\u001b[0m\u001b[1;33m\u001b[0m\u001b[0m\n",
      "\u001b[1;31mKeyError\u001b[0m: 'dt_model'"
     ]
    },
    {
     "data": {
      "image/png": "[encoded data removed]",
      "text/plain": [
       "<matplotlib.figure.Figure at 0x2e8309f5780>"
      ]
     },
     "metadata": {},
     "output_type": "display_data"
    }
   ],
   "source": [
    "fig, axes = plt.subplots(nrows=2, ncols=3, figsize=(14,14))\n",
    "ax0, ax1, ax2, ax3, ax4, ax5 = axes.flatten()\n",
    "cmap = plt.cm.Blues\n",
    "classes = ['H', 'M', 'NM']\n",
    "models = ['dt', 'rfc', 'mlp', 'gbc', 'svc', 'mnl']\n",
    "axes = [ax0, ax1, ax2, ax3, ax4, ax5]\n",
    "\n",
    "for model, ax in zip(models, axes):\n",
    "    Y_pred = globals()['%s_model' % model].predict(X_test)\n",
    "    cm = confusion_matrix(Y_test, Y_pred)\n",
    "    np.set_printoptions(precision=2)\n",
    "    cm = cm.astype('float') / cm.sum(axis=1)[:, np.newaxis]\n",
    "    ax.imshow(cm, interpolation='nearest', cmap=cmap)\n",
    "    ax.set_title(model + ' {0}'.format(\"F1 Score: {0:.4g}%\".format(f1_score(Y_test, Y_pred, average='weighted')*100)))\n",
    "    tick_marks = np.arange(len(classes))\n",
    "    ax.set_xticks(tick_marks)\n",
    "    ax.set_yticks(tick_marks)\n",
    "    ax.set_xticklabels(classes)\n",
    "    ax.set_yticklabels(classes)\n",
    "    \n",
    "    thresh = cm.max() / 1.5\n",
    "    for i, j in itertools.product(range(cm.shape[0]), range(cm.shape[1])):\n",
    "        ax.text(j, i, round(cm[i, j],2),\n",
    "                 horizontalalignment=\"center\",\n",
    "                 color=\"white\" if cm[i, j] > thresh else \"black\")\n",
    "\n",
    "    plt.tight_layout()\n",
    "    ax.set_ylabel('True label')\n",
    "    ax.set_xlabel('Predicted label')"
   ]
  },
  {
   "cell_type": "markdown",
   "metadata": {},
   "source": [
    "#### Save Model"
   ]
  },
  {
   "cell_type": "code",
   "execution_count": 173,
   "metadata": {
    "collapsed": true
   },
   "outputs": [],
   "source": [
    "# Save Classifiers\n",
    "for model in models:\n",
    "    joblib.dump(globals()['%s_model' % model], 'processed_data/{}_model.pkl'.format(model))"
   ]
  },
  {
   "cell_type": "markdown",
   "metadata": {
    "collapsed": true
   },
   "source": [
    "#### Load Model"
   ]
  },
  {
   "cell_type": "code",
   "execution_count": 22,
   "metadata": {},
   "outputs": [],
   "source": [
    "# Load Classifiers \n",
    "models = ['dt', 'rfc', 'mlp', 'gbc', 'svc', 'mnl']\n",
    "for model in models:\n",
    "    globals()['%s_model' % model] = joblib.load('processed_data/{}_model.pkl'.format(model))"
   ]
  },
  {
   "cell_type": "markdown",
   "metadata": {},
   "source": [
    "#### Predict Probabilities For Each Record"
   ]
  },
  {
   "cell_type": "code",
   "execution_count": 23,
   "metadata": {},
   "outputs": [
    {
     "data": {
      "text/html": [
       "<div>\n",
       "<style>\n",
       "    .dataframe thead tr:only-child th {\n",
       "        text-align: right;\n",
       "    }\n",
       "\n",
       "    .dataframe thead th {\n",
       "        text-align: left;\n",
       "    }\n",
       "\n",
       "    .dataframe tbody tr th {\n",
       "        vertical-align: top;\n",
       "    }\n",
       "</style>\n",
       "<table border=\"1\" class=\"dataframe\">\n",
       "  <thead>\n",
       "    <tr style=\"text-align: right;\">\n",
       "      <th></th>\n",
       "      <th>AGE</th>\n",
       "      <th>ACCESSIBILITY</th>\n",
       "      <th>DIST</th>\n",
       "      <th>Retiree_NM</th>\n",
       "      <th>Retiree_M</th>\n",
       "      <th>Retiree_H</th>\n",
       "      <th>FT_Worker_NM</th>\n",
       "      <th>FT_Worker_M</th>\n",
       "      <th>FT_Worker_H</th>\n",
       "      <th>PT_Worker_NM</th>\n",
       "      <th>PT_Worker_M</th>\n",
       "      <th>PT_Worker_H</th>\n",
       "      <th>DA_Stud_NM</th>\n",
       "      <th>DA_Stud_M</th>\n",
       "      <th>DA_Stud_H</th>\n",
       "      <th>PreSch_Child_NM</th>\n",
       "      <th>PreSch_Child_M</th>\n",
       "      <th>PreSch_Child_H</th>\n",
       "      <th>PDA_Stud_NM</th>\n",
       "      <th>PDA_Stud_M</th>\n",
       "      <th>PDA_Stud_H</th>\n",
       "      <th>Non_Worker_NM</th>\n",
       "      <th>Non_Worker_M</th>\n",
       "      <th>Non_Worker_H</th>\n",
       "      <th>Univ_Stud_NM</th>\n",
       "      <th>...</th>\n",
       "      <th>CAR_SUFF_Fewer Cars than Workers</th>\n",
       "      <th>CAR_SUFF_More Cars than Workers</th>\n",
       "      <th>CAR_SUFF_Zero Cars</th>\n",
       "      <th>HINCCAT1_$49,999 or less</th>\n",
       "      <th>HINCCAT1_$50,000 to $74,999</th>\n",
       "      <th>HINCCAT1_$75,000 or more</th>\n",
       "      <th>HINCCAT1_DK/RF</th>\n",
       "      <th>EDUCA_Bachelors or Higher Degree</th>\n",
       "      <th>EDUCA_DK/RF</th>\n",
       "      <th>EDUCA_Less than Bachelors</th>\n",
       "      <th>JOBS_DK/RF</th>\n",
       "      <th>JOBS_More than One Job</th>\n",
       "      <th>JOBS_No Job</th>\n",
       "      <th>JOBS_One Job</th>\n",
       "      <th>JOBTYPE_Agriculture and Mining</th>\n",
       "      <th>JOBTYPE_Education</th>\n",
       "      <th>JOBTYPE_Finance &amp; Real Estate</th>\n",
       "      <th>JOBTYPE_Health</th>\n",
       "      <th>JOBTYPE_Information, Professor/Scientist, Management, Admin</th>\n",
       "      <th>JOBTYPE_MORPC INDUS=80</th>\n",
       "      <th>JOBTYPE_Manufacturing and Wholesale Trade</th>\n",
       "      <th>JOBTYPE_No Job Type</th>\n",
       "      <th>JOBTYPE_Public Admin</th>\n",
       "      <th>JOBTYPE_Retail</th>\n",
       "      <th>JOBTYPE_Transportation, Utilities and Warehousing</th>\n",
       "    </tr>\n",
       "  </thead>\n",
       "  <tbody>\n",
       "    <tr>\n",
       "      <th>0</th>\n",
       "      <td>42.0</td>\n",
       "      <td>12.243009</td>\n",
       "      <td>10.29</td>\n",
       "      <td>0.0</td>\n",
       "      <td>0.0</td>\n",
       "      <td>0.0</td>\n",
       "      <td>0.0</td>\n",
       "      <td>0.0</td>\n",
       "      <td>0.0</td>\n",
       "      <td>0.0</td>\n",
       "      <td>1.0</td>\n",
       "      <td>0.0</td>\n",
       "      <td>0.0</td>\n",
       "      <td>0.0</td>\n",
       "      <td>0.0</td>\n",
       "      <td>0.0</td>\n",
       "      <td>0.0</td>\n",
       "      <td>0.0</td>\n",
       "      <td>1.0</td>\n",
       "      <td>1.0</td>\n",
       "      <td>0.0</td>\n",
       "      <td>0.0</td>\n",
       "      <td>0.0</td>\n",
       "      <td>0.0</td>\n",
       "      <td>0.0</td>\n",
       "      <td>...</td>\n",
       "      <td>0.0</td>\n",
       "      <td>1.0</td>\n",
       "      <td>0.0</td>\n",
       "      <td>0.0</td>\n",
       "      <td>1.0</td>\n",
       "      <td>0.0</td>\n",
       "      <td>0.0</td>\n",
       "      <td>0.0</td>\n",
       "      <td>0.0</td>\n",
       "      <td>1.0</td>\n",
       "      <td>0.0</td>\n",
       "      <td>0.0</td>\n",
       "      <td>0.0</td>\n",
       "      <td>1.0</td>\n",
       "      <td>0.0</td>\n",
       "      <td>0.0</td>\n",
       "      <td>0.0</td>\n",
       "      <td>1.0</td>\n",
       "      <td>0.0</td>\n",
       "      <td>0.0</td>\n",
       "      <td>0.0</td>\n",
       "      <td>0.0</td>\n",
       "      <td>0.0</td>\n",
       "      <td>0.0</td>\n",
       "      <td>0.0</td>\n",
       "    </tr>\n",
       "    <tr>\n",
       "      <th>1</th>\n",
       "      <td>19.0</td>\n",
       "      <td>13.322936</td>\n",
       "      <td>6.56</td>\n",
       "      <td>0.0</td>\n",
       "      <td>0.0</td>\n",
       "      <td>0.0</td>\n",
       "      <td>0.0</td>\n",
       "      <td>1.0</td>\n",
       "      <td>0.0</td>\n",
       "      <td>0.0</td>\n",
       "      <td>0.0</td>\n",
       "      <td>1.0</td>\n",
       "      <td>0.0</td>\n",
       "      <td>0.0</td>\n",
       "      <td>0.0</td>\n",
       "      <td>0.0</td>\n",
       "      <td>0.0</td>\n",
       "      <td>0.0</td>\n",
       "      <td>0.0</td>\n",
       "      <td>0.0</td>\n",
       "      <td>0.0</td>\n",
       "      <td>0.0</td>\n",
       "      <td>0.0</td>\n",
       "      <td>0.0</td>\n",
       "      <td>0.0</td>\n",
       "      <td>...</td>\n",
       "      <td>0.0</td>\n",
       "      <td>0.0</td>\n",
       "      <td>0.0</td>\n",
       "      <td>0.0</td>\n",
       "      <td>1.0</td>\n",
       "      <td>0.0</td>\n",
       "      <td>0.0</td>\n",
       "      <td>0.0</td>\n",
       "      <td>0.0</td>\n",
       "      <td>1.0</td>\n",
       "      <td>0.0</td>\n",
       "      <td>0.0</td>\n",
       "      <td>0.0</td>\n",
       "      <td>1.0</td>\n",
       "      <td>0.0</td>\n",
       "      <td>0.0</td>\n",
       "      <td>0.0</td>\n",
       "      <td>0.0</td>\n",
       "      <td>0.0</td>\n",
       "      <td>0.0</td>\n",
       "      <td>0.0</td>\n",
       "      <td>0.0</td>\n",
       "      <td>0.0</td>\n",
       "      <td>1.0</td>\n",
       "      <td>0.0</td>\n",
       "    </tr>\n",
       "    <tr>\n",
       "      <th>2</th>\n",
       "      <td>5.0</td>\n",
       "      <td>13.529260</td>\n",
       "      <td>5.16</td>\n",
       "      <td>0.0</td>\n",
       "      <td>0.0</td>\n",
       "      <td>0.0</td>\n",
       "      <td>0.0</td>\n",
       "      <td>2.0</td>\n",
       "      <td>0.0</td>\n",
       "      <td>0.0</td>\n",
       "      <td>0.0</td>\n",
       "      <td>0.0</td>\n",
       "      <td>0.0</td>\n",
       "      <td>0.0</td>\n",
       "      <td>0.0</td>\n",
       "      <td>0.0</td>\n",
       "      <td>1.0</td>\n",
       "      <td>0.0</td>\n",
       "      <td>0.0</td>\n",
       "      <td>0.0</td>\n",
       "      <td>0.0</td>\n",
       "      <td>0.0</td>\n",
       "      <td>0.0</td>\n",
       "      <td>0.0</td>\n",
       "      <td>0.0</td>\n",
       "      <td>...</td>\n",
       "      <td>0.0</td>\n",
       "      <td>0.0</td>\n",
       "      <td>0.0</td>\n",
       "      <td>0.0</td>\n",
       "      <td>1.0</td>\n",
       "      <td>0.0</td>\n",
       "      <td>0.0</td>\n",
       "      <td>0.0</td>\n",
       "      <td>0.0</td>\n",
       "      <td>1.0</td>\n",
       "      <td>0.0</td>\n",
       "      <td>0.0</td>\n",
       "      <td>1.0</td>\n",
       "      <td>0.0</td>\n",
       "      <td>0.0</td>\n",
       "      <td>0.0</td>\n",
       "      <td>0.0</td>\n",
       "      <td>0.0</td>\n",
       "      <td>0.0</td>\n",
       "      <td>0.0</td>\n",
       "      <td>0.0</td>\n",
       "      <td>1.0</td>\n",
       "      <td>0.0</td>\n",
       "      <td>0.0</td>\n",
       "      <td>0.0</td>\n",
       "    </tr>\n",
       "    <tr>\n",
       "      <th>3</th>\n",
       "      <td>2.0</td>\n",
       "      <td>12.770386</td>\n",
       "      <td>0.00</td>\n",
       "      <td>0.0</td>\n",
       "      <td>0.0</td>\n",
       "      <td>0.0</td>\n",
       "      <td>0.0</td>\n",
       "      <td>2.0</td>\n",
       "      <td>0.0</td>\n",
       "      <td>0.0</td>\n",
       "      <td>0.0</td>\n",
       "      <td>0.0</td>\n",
       "      <td>0.0</td>\n",
       "      <td>0.0</td>\n",
       "      <td>0.0</td>\n",
       "      <td>0.0</td>\n",
       "      <td>1.0</td>\n",
       "      <td>0.0</td>\n",
       "      <td>0.0</td>\n",
       "      <td>0.0</td>\n",
       "      <td>0.0</td>\n",
       "      <td>0.0</td>\n",
       "      <td>0.0</td>\n",
       "      <td>0.0</td>\n",
       "      <td>0.0</td>\n",
       "      <td>...</td>\n",
       "      <td>0.0</td>\n",
       "      <td>0.0</td>\n",
       "      <td>0.0</td>\n",
       "      <td>0.0</td>\n",
       "      <td>0.0</td>\n",
       "      <td>1.0</td>\n",
       "      <td>0.0</td>\n",
       "      <td>0.0</td>\n",
       "      <td>0.0</td>\n",
       "      <td>1.0</td>\n",
       "      <td>0.0</td>\n",
       "      <td>0.0</td>\n",
       "      <td>1.0</td>\n",
       "      <td>0.0</td>\n",
       "      <td>0.0</td>\n",
       "      <td>0.0</td>\n",
       "      <td>0.0</td>\n",
       "      <td>0.0</td>\n",
       "      <td>0.0</td>\n",
       "      <td>0.0</td>\n",
       "      <td>0.0</td>\n",
       "      <td>1.0</td>\n",
       "      <td>0.0</td>\n",
       "      <td>0.0</td>\n",
       "      <td>0.0</td>\n",
       "    </tr>\n",
       "    <tr>\n",
       "      <th>4</th>\n",
       "      <td>27.0</td>\n",
       "      <td>13.616191</td>\n",
       "      <td>0.00</td>\n",
       "      <td>0.0</td>\n",
       "      <td>0.0</td>\n",
       "      <td>0.0</td>\n",
       "      <td>1.0</td>\n",
       "      <td>0.0</td>\n",
       "      <td>0.0</td>\n",
       "      <td>0.0</td>\n",
       "      <td>0.0</td>\n",
       "      <td>0.0</td>\n",
       "      <td>0.0</td>\n",
       "      <td>0.0</td>\n",
       "      <td>0.0</td>\n",
       "      <td>0.0</td>\n",
       "      <td>0.0</td>\n",
       "      <td>0.0</td>\n",
       "      <td>0.0</td>\n",
       "      <td>0.0</td>\n",
       "      <td>0.0</td>\n",
       "      <td>0.0</td>\n",
       "      <td>0.0</td>\n",
       "      <td>0.0</td>\n",
       "      <td>0.0</td>\n",
       "      <td>...</td>\n",
       "      <td>1.0</td>\n",
       "      <td>0.0</td>\n",
       "      <td>0.0</td>\n",
       "      <td>0.0</td>\n",
       "      <td>0.0</td>\n",
       "      <td>1.0</td>\n",
       "      <td>0.0</td>\n",
       "      <td>1.0</td>\n",
       "      <td>0.0</td>\n",
       "      <td>0.0</td>\n",
       "      <td>0.0</td>\n",
       "      <td>1.0</td>\n",
       "      <td>0.0</td>\n",
       "      <td>0.0</td>\n",
       "      <td>0.0</td>\n",
       "      <td>0.0</td>\n",
       "      <td>0.0</td>\n",
       "      <td>0.0</td>\n",
       "      <td>1.0</td>\n",
       "      <td>0.0</td>\n",
       "      <td>0.0</td>\n",
       "      <td>0.0</td>\n",
       "      <td>0.0</td>\n",
       "      <td>0.0</td>\n",
       "      <td>0.0</td>\n",
       "    </tr>\n",
       "  </tbody>\n",
       "</table>\n",
       "<p>5 rows × 63 columns</p>\n",
       "</div>"
      ],
      "text/plain": [
       "    AGE  ACCESSIBILITY   DIST  Retiree_NM  Retiree_M  Retiree_H  FT_Worker_NM  \\\n",
       "0  42.0      12.243009  10.29         0.0        0.0        0.0           0.0   \n",
       "1  19.0      13.322936   6.56         0.0        0.0        0.0           0.0   \n",
       "2   5.0      13.529260   5.16         0.0        0.0        0.0           0.0   \n",
       "3   2.0      12.770386   0.00         0.0        0.0        0.0           0.0   \n",
       "4  27.0      13.616191   0.00         0.0        0.0        0.0           1.0   \n",
       "\n",
       "   FT_Worker_M  FT_Worker_H  PT_Worker_NM  PT_Worker_M  PT_Worker_H  \\\n",
       "0          0.0          0.0           0.0          1.0          0.0   \n",
       "1          1.0          0.0           0.0          0.0          1.0   \n",
       "2          2.0          0.0           0.0          0.0          0.0   \n",
       "3          2.0          0.0           0.0          0.0          0.0   \n",
       "4          0.0          0.0           0.0          0.0          0.0   \n",
       "\n",
       "   DA_Stud_NM  DA_Stud_M  DA_Stud_H  PreSch_Child_NM  PreSch_Child_M  \\\n",
       "0         0.0        0.0        0.0              0.0             0.0   \n",
       "1         0.0        0.0        0.0              0.0             0.0   \n",
       "2         0.0        0.0        0.0              0.0             1.0   \n",
       "3         0.0        0.0        0.0              0.0             1.0   \n",
       "4         0.0        0.0        0.0              0.0             0.0   \n",
       "\n",
       "   PreSch_Child_H  PDA_Stud_NM  PDA_Stud_M  PDA_Stud_H  Non_Worker_NM  \\\n",
       "0             0.0          1.0         1.0         0.0            0.0   \n",
       "1             0.0          0.0         0.0         0.0            0.0   \n",
       "2             0.0          0.0         0.0         0.0            0.0   \n",
       "3             0.0          0.0         0.0         0.0            0.0   \n",
       "4             0.0          0.0         0.0         0.0            0.0   \n",
       "\n",
       "   Non_Worker_M  Non_Worker_H  Univ_Stud_NM  \\\n",
       "0           0.0           0.0           0.0   \n",
       "1           0.0           0.0           0.0   \n",
       "2           0.0           0.0           0.0   \n",
       "3           0.0           0.0           0.0   \n",
       "4           0.0           0.0           0.0   \n",
       "\n",
       "                         ...                          \\\n",
       "0                        ...                           \n",
       "1                        ...                           \n",
       "2                        ...                           \n",
       "3                        ...                           \n",
       "4                        ...                           \n",
       "\n",
       "   CAR_SUFF_Fewer Cars than Workers  CAR_SUFF_More Cars than Workers  \\\n",
       "0                               0.0                              1.0   \n",
       "1                               0.0                              0.0   \n",
       "2                               0.0                              0.0   \n",
       "3                               0.0                              0.0   \n",
       "4                               1.0                              0.0   \n",
       "\n",
       "   CAR_SUFF_Zero Cars  HINCCAT1_$49,999 or less  HINCCAT1_$50,000 to $74,999  \\\n",
       "0                 0.0                       0.0                          1.0   \n",
       "1                 0.0                       0.0                          1.0   \n",
       "2                 0.0                       0.0                          1.0   \n",
       "3                 0.0                       0.0                          0.0   \n",
       "4                 0.0                       0.0                          0.0   \n",
       "\n",
       "   HINCCAT1_$75,000 or more  HINCCAT1_DK/RF  EDUCA_Bachelors or Higher Degree  \\\n",
       "0                       0.0             0.0                               0.0   \n",
       "1                       0.0             0.0                               0.0   \n",
       "2                       0.0             0.0                               0.0   \n",
       "3                       1.0             0.0                               0.0   \n",
       "4                       1.0             0.0                               1.0   \n",
       "\n",
       "   EDUCA_DK/RF  EDUCA_Less than Bachelors  JOBS_DK/RF  JOBS_More than One Job  \\\n",
       "0          0.0                        1.0         0.0                     0.0   \n",
       "1          0.0                        1.0         0.0                     0.0   \n",
       "2          0.0                        1.0         0.0                     0.0   \n",
       "3          0.0                        1.0         0.0                     0.0   \n",
       "4          0.0                        0.0         0.0                     1.0   \n",
       "\n",
       "   JOBS_No Job  JOBS_One Job  JOBTYPE_Agriculture and Mining  \\\n",
       "0          0.0           1.0                             0.0   \n",
       "1          0.0           1.0                             0.0   \n",
       "2          1.0           0.0                             0.0   \n",
       "3          1.0           0.0                             0.0   \n",
       "4          0.0           0.0                             0.0   \n",
       "\n",
       "   JOBTYPE_Education  JOBTYPE_Finance & Real Estate  JOBTYPE_Health  \\\n",
       "0                0.0                            0.0             1.0   \n",
       "1                0.0                            0.0             0.0   \n",
       "2                0.0                            0.0             0.0   \n",
       "3                0.0                            0.0             0.0   \n",
       "4                0.0                            0.0             0.0   \n",
       "\n",
       "   JOBTYPE_Information, Professor/Scientist, Management, Admin  \\\n",
       "0                                                0.0             \n",
       "1                                                0.0             \n",
       "2                                                0.0             \n",
       "3                                                0.0             \n",
       "4                                                1.0             \n",
       "\n",
       "   JOBTYPE_MORPC INDUS=80  JOBTYPE_Manufacturing and Wholesale Trade  \\\n",
       "0                     0.0                                        0.0   \n",
       "1                     0.0                                        0.0   \n",
       "2                     0.0                                        0.0   \n",
       "3                     0.0                                        0.0   \n",
       "4                     0.0                                        0.0   \n",
       "\n",
       "   JOBTYPE_No Job Type  JOBTYPE_Public Admin  JOBTYPE_Retail  \\\n",
       "0                  0.0                   0.0             0.0   \n",
       "1                  0.0                   0.0             1.0   \n",
       "2                  1.0                   0.0             0.0   \n",
       "3                  1.0                   0.0             0.0   \n",
       "4                  0.0                   0.0             0.0   \n",
       "\n",
       "   JOBTYPE_Transportation, Utilities and Warehousing  \n",
       "0                                                0.0  \n",
       "1                                                0.0  \n",
       "2                                                0.0  \n",
       "3                                                0.0  \n",
       "4                                                0.0  \n",
       "\n",
       "[5 rows x 63 columns]"
      ]
     },
     "execution_count": 23,
     "metadata": {},
     "output_type": "execute_result"
    }
   ],
   "source": [
    "X_train_res.head()"
   ]
  },
  {
   "cell_type": "code",
   "execution_count": 24,
   "metadata": {
    "collapsed": true
   },
   "outputs": [],
   "source": [
    "idap_processed = features.copy()\n",
    "probabilities = rfc_model.predict_proba(X)\n",
    "idap_processed['H'] = [i[0] for i in probabilities]\n",
    "idap_processed['M'] = [i[1] for i in probabilities]\n",
    "idap_processed['NM'] = [i[2] for i in probabilities]\n",
    "\n",
    "predictions = rfc_model.predict(X)\n",
    "idap_processed['PREDICTION'] = predictions"
   ]
  },
  {
   "cell_type": "code",
   "execution_count": 25,
   "metadata": {
    "collapsed": true
   },
   "outputs": [],
   "source": [
    "idap_processed.sort_index(inplace=True)\n",
    "idap_processed.rename(columns={'SAMPN_x': 'SAMPN', 'PERNO_x': 'PERNO'}, inplace=True)\n",
    "idap_processed.set_index(['SAMPN'], inplace=True)"
   ]
  },
  {
   "cell_type": "code",
   "execution_count": 26,
   "metadata": {},
   "outputs": [
    {
     "name": "stdout",
     "output_type": "stream",
     "text": [
      "F1 Score:  0.92287209606\n",
      "\n"
     ]
    },
    {
     "data": {
      "image/png": "[encoded data removed]",
      "text/plain": [
       "<matplotlib.figure.Figure at 0x2e82ed01b38>"
      ]
     },
     "metadata": {},
     "output_type": "display_data"
    }
   ],
   "source": [
    "cnf_matrix = confusion_matrix(idap_processed['IDAP'], idap_processed['PREDICTION'])\n",
    "classes = ['H', 'M', 'NM']\n",
    "print ('F1 Score: ',f1_score(idap_processed['IDAP'], idap_processed['PREDICTION'], average='weighted'))\n",
    "plot_confusion_matrix(cnf_matrix, classes, normalize=True, title='Entire Dataset')"
   ]
  },
  {
   "cell_type": "code",
   "execution_count": 162,
   "metadata": {
    "collapsed": true
   },
   "outputs": [],
   "source": [
    "test1 = [.45,.25,.30]\n",
    "test2 = [.11,.79,.11]\n",
    "test3 = [.22, .30, .48]"
   ]
  },
  {
   "cell_type": "code",
   "execution_count": 163,
   "metadata": {},
   "outputs": [],
   "source": [
    "test = pd.DataFrame(pd.DataFrame(test1).T)\n",
    "test = test.append(pd.DataFrame(test2).T)\n",
    "test = test.append(pd.DataFrame(test3).T)"
   ]
  },
  {
   "cell_type": "code",
   "execution_count": 168,
   "metadata": {},
   "outputs": [],
   "source": [
    "cnf_matrix = np.array(test)"
   ]
  },
  {
   "cell_type": "code",
   "execution_count": 169,
   "metadata": {},
   "outputs": [
    {
     "data": {
      "text/plain": [
       "array([[ 0.45,  0.25,  0.3 ],\n",
       "       [ 0.11,  0.79,  0.11],\n",
       "       [ 0.22,  0.3 ,  0.48]])"
      ]
     },
     "execution_count": 169,
     "metadata": {},
     "output_type": "execute_result"
    }
   ],
   "source": [
    "cnf_matrix"
   ]
  },
  {
   "cell_type": "code",
   "execution_count": 171,
   "metadata": {},
   "outputs": [
    {
     "name": "stdout",
     "output_type": "stream",
     "text": [
      "\n"
     ]
    },
    {
     "data": {
      "image/png": "[encoded data removed]",
      "text/plain": [
       "<matplotlib.figure.Figure at 0x2e828d5af98>"
      ]
     },
     "metadata": {},
     "output_type": "display_data"
    }
   ],
   "source": [
    "classes = ['H', 'M', 'NM']\n",
    "plot_confusion_matrix(cnf_matrix, classes, normalize=True, title='Test Dataset')"
   ]
  },
  {
   "cell_type": "code",
   "execution_count": 191,
   "metadata": {
    "collapsed": true
   },
   "outputs": [],
   "source": [
    "# Output processed IDAP data to csv\n",
    "idap_processed.to_csv('processed_data/IDAP_processed.csv')"
   ]
  },
  {
   "cell_type": "code",
   "execution_count": 28,
   "metadata": {},
   "outputs": [
    {
     "data": {
      "text/html": [
       "<div>\n",
       "<style>\n",
       "    .dataframe thead tr:only-child th {\n",
       "        text-align: right;\n",
       "    }\n",
       "\n",
       "    .dataframe thead th {\n",
       "        text-align: left;\n",
       "    }\n",
       "\n",
       "    .dataframe tbody tr th {\n",
       "        vertical-align: top;\n",
       "    }\n",
       "</style>\n",
       "<table border=\"1\" class=\"dataframe\">\n",
       "  <thead>\n",
       "    <tr style=\"text-align: right;\">\n",
       "      <th></th>\n",
       "      <th>score</th>\n",
       "    </tr>\n",
       "    <tr>\n",
       "      <th>name</th>\n",
       "      <th></th>\n",
       "    </tr>\n",
       "  </thead>\n",
       "  <tbody>\n",
       "    <tr>\n",
       "      <th>AGE</th>\n",
       "      <td>0.096858</td>\n",
       "    </tr>\n",
       "    <tr>\n",
       "      <th>DIST</th>\n",
       "      <td>0.090130</td>\n",
       "    </tr>\n",
       "    <tr>\n",
       "      <th>ACCESSIBILITY</th>\n",
       "      <td>0.084902</td>\n",
       "    </tr>\n",
       "    <tr>\n",
       "      <th>PreSch_Child_H</th>\n",
       "      <td>0.040832</td>\n",
       "    </tr>\n",
       "    <tr>\n",
       "      <th>FT_Worker_H</th>\n",
       "      <td>0.033422</td>\n",
       "    </tr>\n",
       "    <tr>\n",
       "      <th>FT_Worker_M</th>\n",
       "      <td>0.032258</td>\n",
       "    </tr>\n",
       "    <tr>\n",
       "      <th>PDA_Stud_M</th>\n",
       "      <td>0.031394</td>\n",
       "    </tr>\n",
       "    <tr>\n",
       "      <th>PERTYPE_FT_Worker</th>\n",
       "      <td>0.028287</td>\n",
       "    </tr>\n",
       "    <tr>\n",
       "      <th>Non_Worker_H</th>\n",
       "      <td>0.026714</td>\n",
       "    </tr>\n",
       "    <tr>\n",
       "      <th>CAR_SUFF_Cars Equals to Workers</th>\n",
       "      <td>0.023977</td>\n",
       "    </tr>\n",
       "    <tr>\n",
       "      <th>JOBTYPE_No Job Type</th>\n",
       "      <td>0.023184</td>\n",
       "    </tr>\n",
       "    <tr>\n",
       "      <th>HINCCAT1_$75,000 or more</th>\n",
       "      <td>0.022442</td>\n",
       "    </tr>\n",
       "    <tr>\n",
       "      <th>JOBS_No Job</th>\n",
       "      <td>0.021060</td>\n",
       "    </tr>\n",
       "    <tr>\n",
       "      <th>Retiree_H</th>\n",
       "      <td>0.021005</td>\n",
       "    </tr>\n",
       "    <tr>\n",
       "      <th>CAR_SUFF_More Cars than Workers</th>\n",
       "      <td>0.019404</td>\n",
       "    </tr>\n",
       "    <tr>\n",
       "      <th>HINCCAT1_$49,999 or less</th>\n",
       "      <td>0.018860</td>\n",
       "    </tr>\n",
       "    <tr>\n",
       "      <th>PreSch_Child_NM</th>\n",
       "      <td>0.018664</td>\n",
       "    </tr>\n",
       "    <tr>\n",
       "      <th>PDA_Stud_H</th>\n",
       "      <td>0.018334</td>\n",
       "    </tr>\n",
       "    <tr>\n",
       "      <th>EDUCA_Bachelors or Higher Degree</th>\n",
       "      <td>0.018062</td>\n",
       "    </tr>\n",
       "    <tr>\n",
       "      <th>JOBS_One Job</th>\n",
       "      <td>0.017304</td>\n",
       "    </tr>\n",
       "    <tr>\n",
       "      <th>GENDER_Female</th>\n",
       "      <td>0.016991</td>\n",
       "    </tr>\n",
       "    <tr>\n",
       "      <th>Retiree_NM</th>\n",
       "      <td>0.016975</td>\n",
       "    </tr>\n",
       "    <tr>\n",
       "      <th>GENDER_Male</th>\n",
       "      <td>0.016941</td>\n",
       "    </tr>\n",
       "    <tr>\n",
       "      <th>PERTYPE_Non_Worker</th>\n",
       "      <td>0.016900</td>\n",
       "    </tr>\n",
       "    <tr>\n",
       "      <th>PDA_Stud_NM</th>\n",
       "      <td>0.016194</td>\n",
       "    </tr>\n",
       "    <tr>\n",
       "      <th>HINCCAT1_$50,000 to $74,999</th>\n",
       "      <td>0.015610</td>\n",
       "    </tr>\n",
       "    <tr>\n",
       "      <th>EDUCA_Less than Bachelors</th>\n",
       "      <td>0.015062</td>\n",
       "    </tr>\n",
       "    <tr>\n",
       "      <th>Non_Worker_NM</th>\n",
       "      <td>0.014566</td>\n",
       "    </tr>\n",
       "    <tr>\n",
       "      <th>PERTYPE_PDA_Stud</th>\n",
       "      <td>0.013908</td>\n",
       "    </tr>\n",
       "    <tr>\n",
       "      <th>PT_Worker_M</th>\n",
       "      <td>0.013266</td>\n",
       "    </tr>\n",
       "    <tr>\n",
       "      <th>...</th>\n",
       "      <td>...</td>\n",
       "    </tr>\n",
       "    <tr>\n",
       "      <th>JOBTYPE_MORPC INDUS=80</th>\n",
       "      <td>0.009734</td>\n",
       "    </tr>\n",
       "    <tr>\n",
       "      <th>PERTYPE_PT_Worker</th>\n",
       "      <td>0.009658</td>\n",
       "    </tr>\n",
       "    <tr>\n",
       "      <th>PreSch_Child_M</th>\n",
       "      <td>0.008357</td>\n",
       "    </tr>\n",
       "    <tr>\n",
       "      <th>DA_Stud_M</th>\n",
       "      <td>0.006819</td>\n",
       "    </tr>\n",
       "    <tr>\n",
       "      <th>PT_Worker_NM</th>\n",
       "      <td>0.005860</td>\n",
       "    </tr>\n",
       "    <tr>\n",
       "      <th>JOBTYPE_Retail</th>\n",
       "      <td>0.005677</td>\n",
       "    </tr>\n",
       "    <tr>\n",
       "      <th>JOBTYPE_Transportation, Utilities and Warehousing</th>\n",
       "      <td>0.005210</td>\n",
       "    </tr>\n",
       "    <tr>\n",
       "      <th>PERTYPE_PreSch_Child</th>\n",
       "      <td>0.004815</td>\n",
       "    </tr>\n",
       "    <tr>\n",
       "      <th>CAR_SUFF_Zero Cars</th>\n",
       "      <td>0.004750</td>\n",
       "    </tr>\n",
       "    <tr>\n",
       "      <th>CAR_SUFF_Fewer Cars than Workers</th>\n",
       "      <td>0.004587</td>\n",
       "    </tr>\n",
       "    <tr>\n",
       "      <th>Univ_Stud_M</th>\n",
       "      <td>0.004561</td>\n",
       "    </tr>\n",
       "    <tr>\n",
       "      <th>JOBTYPE_Information, Professor/Scientist, Management, Admin</th>\n",
       "      <td>0.004492</td>\n",
       "    </tr>\n",
       "    <tr>\n",
       "      <th>Univ_Stud_H</th>\n",
       "      <td>0.004287</td>\n",
       "    </tr>\n",
       "    <tr>\n",
       "      <th>JOBTYPE_Manufacturing and Wholesale Trade</th>\n",
       "      <td>0.004142</td>\n",
       "    </tr>\n",
       "    <tr>\n",
       "      <th>PERTYPE_Univ_Stud</th>\n",
       "      <td>0.004098</td>\n",
       "    </tr>\n",
       "    <tr>\n",
       "      <th>JOBTYPE_Public Admin</th>\n",
       "      <td>0.003857</td>\n",
       "    </tr>\n",
       "    <tr>\n",
       "      <th>JOBTYPE_Finance &amp; Real Estate</th>\n",
       "      <td>0.003775</td>\n",
       "    </tr>\n",
       "    <tr>\n",
       "      <th>JOBS_More than One Job</th>\n",
       "      <td>0.003463</td>\n",
       "    </tr>\n",
       "    <tr>\n",
       "      <th>Univ_Stud_NM</th>\n",
       "      <td>0.003178</td>\n",
       "    </tr>\n",
       "    <tr>\n",
       "      <th>DA_Stud_NM</th>\n",
       "      <td>0.003149</td>\n",
       "    </tr>\n",
       "    <tr>\n",
       "      <th>DA_Stud_H</th>\n",
       "      <td>0.002973</td>\n",
       "    </tr>\n",
       "    <tr>\n",
       "      <th>EDUCA_DK/RF</th>\n",
       "      <td>0.002961</td>\n",
       "    </tr>\n",
       "    <tr>\n",
       "      <th>JOBTYPE_Health</th>\n",
       "      <td>0.002930</td>\n",
       "    </tr>\n",
       "    <tr>\n",
       "      <th>JOBTYPE_Education</th>\n",
       "      <td>0.002652</td>\n",
       "    </tr>\n",
       "    <tr>\n",
       "      <th>PERTYPE_DA_Stud</th>\n",
       "      <td>0.002338</td>\n",
       "    </tr>\n",
       "    <tr>\n",
       "      <th>Non_Worker_M</th>\n",
       "      <td>0.001419</td>\n",
       "    </tr>\n",
       "    <tr>\n",
       "      <th>JOBTYPE_Agriculture and Mining</th>\n",
       "      <td>0.001139</td>\n",
       "    </tr>\n",
       "    <tr>\n",
       "      <th>HINCCAT1_DK/RF</th>\n",
       "      <td>0.000913</td>\n",
       "    </tr>\n",
       "    <tr>\n",
       "      <th>Retiree_M</th>\n",
       "      <td>0.000713</td>\n",
       "    </tr>\n",
       "    <tr>\n",
       "      <th>JOBS_DK/RF</th>\n",
       "      <td>0.000122</td>\n",
       "    </tr>\n",
       "  </tbody>\n",
       "</table>\n",
       "<p>63 rows × 1 columns</p>\n",
       "</div>"
      ],
      "text/plain": [
       "                                                       score\n",
       "name                                                        \n",
       "AGE                                                 0.096858\n",
       "DIST                                                0.090130\n",
       "ACCESSIBILITY                                       0.084902\n",
       "PreSch_Child_H                                      0.040832\n",
       "FT_Worker_H                                         0.033422\n",
       "FT_Worker_M                                         0.032258\n",
       "PDA_Stud_M                                          0.031394\n",
       "PERTYPE_FT_Worker                                   0.028287\n",
       "Non_Worker_H                                        0.026714\n",
       "CAR_SUFF_Cars Equals to Workers                     0.023977\n",
       "JOBTYPE_No Job Type                                 0.023184\n",
       "HINCCAT1_$75,000 or more                            0.022442\n",
       "JOBS_No Job                                         0.021060\n",
       "Retiree_H                                           0.021005\n",
       "CAR_SUFF_More Cars than Workers                     0.019404\n",
       "HINCCAT1_$49,999 or less                            0.018860\n",
       "PreSch_Child_NM                                     0.018664\n",
       "PDA_Stud_H                                          0.018334\n",
       "EDUCA_Bachelors or Higher Degree                    0.018062\n",
       "JOBS_One Job                                        0.017304\n",
       "GENDER_Female                                       0.016991\n",
       "Retiree_NM                                          0.016975\n",
       "GENDER_Male                                         0.016941\n",
       "PERTYPE_Non_Worker                                  0.016900\n",
       "PDA_Stud_NM                                         0.016194\n",
       "HINCCAT1_$50,000 to $74,999                         0.015610\n",
       "EDUCA_Less than Bachelors                           0.015062\n",
       "Non_Worker_NM                                       0.014566\n",
       "PERTYPE_PDA_Stud                                    0.013908\n",
       "PT_Worker_M                                         0.013266\n",
       "...                                                      ...\n",
       "JOBTYPE_MORPC INDUS=80                              0.009734\n",
       "PERTYPE_PT_Worker                                   0.009658\n",
       "PreSch_Child_M                                      0.008357\n",
       "DA_Stud_M                                           0.006819\n",
       "PT_Worker_NM                                        0.005860\n",
       "JOBTYPE_Retail                                      0.005677\n",
       "JOBTYPE_Transportation, Utilities and Warehousing   0.005210\n",
       "PERTYPE_PreSch_Child                                0.004815\n",
       "CAR_SUFF_Zero Cars                                  0.004750\n",
       "CAR_SUFF_Fewer Cars than Workers                    0.004587\n",
       "Univ_Stud_M                                         0.004561\n",
       "JOBTYPE_Information, Professor/Scientist, Manag...  0.004492\n",
       "Univ_Stud_H                                         0.004287\n",
       "JOBTYPE_Manufacturing and Wholesale Trade           0.004142\n",
       "PERTYPE_Univ_Stud                                   0.004098\n",
       "JOBTYPE_Public Admin                                0.003857\n",
       "JOBTYPE_Finance & Real Estate                       0.003775\n",
       "JOBS_More than One Job                              0.003463\n",
       "Univ_Stud_NM                                        0.003178\n",
       "DA_Stud_NM                                          0.003149\n",
       "DA_Stud_H                                           0.002973\n",
       "EDUCA_DK/RF                                         0.002961\n",
       "JOBTYPE_Health                                      0.002930\n",
       "JOBTYPE_Education                                   0.002652\n",
       "PERTYPE_DA_Stud                                     0.002338\n",
       "Non_Worker_M                                        0.001419\n",
       "JOBTYPE_Agriculture and Mining                      0.001139\n",
       "HINCCAT1_DK/RF                                      0.000913\n",
       "Retiree_M                                           0.000713\n",
       "JOBS_DK/RF                                          0.000122\n",
       "\n",
       "[63 rows x 1 columns]"
      ]
     },
     "execution_count": 28,
     "metadata": {},
     "output_type": "execute_result"
    }
   ],
   "source": [
    "# Find most important features\n",
    "rfc =  RFC(random_state=123, n_jobs=-1, n_estimators=50, max_depth=40, criterion='gini')\n",
    "rfc_model = rfc.fit(X_train_res, Y_train_res)\n",
    "values = sorted(zip(X_train_res.columns, rfc_model.feature_importances_), key=lambda x: x[1] * -1)\n",
    "feature_importance = pd.DataFrame(values)\n",
    "feature_importance.columns = [\"name\", \"score\"]\n",
    "feature_importance.set_index('name', inplace=True)\n",
    "feature_importance"
   ]
  },
  {
   "cell_type": "code",
   "execution_count": 29,
   "metadata": {
    "collapsed": true
   },
   "outputs": [],
   "source": [
    "feature_importance.to_csv('random_forest_feature_importance.csv')"
   ]
  },
  {
   "cell_type": "code",
   "execution_count": 132,
   "metadata": {
    "collapsed": true
   },
   "outputs": [],
   "source": [
    "# Split data into train and test\n",
    "X_train, X_test, Y_train, Y_test = train_test_split(X, Y, test_size=1/3, stratify=Y, random_state=16)"
   ]
  },
  {
   "cell_type": "code",
   "execution_count": 133,
   "metadata": {
    "collapsed": true
   },
   "outputs": [],
   "source": [
    "# Upsample to balance out classes\n",
    "sm = SMOTE(random_state=12, ratio = 1.0)\n",
    "X_train_res, Y_train_res = sm.fit_sample(X_train, Y_train)\n",
    "X_train_res = pd.DataFrame(X_train_res, columns=X_train.columns)"
   ]
  },
  {
   "cell_type": "code",
   "execution_count": 134,
   "metadata": {
    "collapsed": true
   },
   "outputs": [],
   "source": [
    "dtc =  DTC(random_state=123, max_leaf_nodes=15)\n",
    "dt_model = dtc.fit(X_train_res, Y_train_res)"
   ]
  },
  {
   "cell_type": "code",
   "execution_count": 135,
   "metadata": {
    "collapsed": true
   },
   "outputs": [],
   "source": [
    "with open(\"processed_data/dt_model.txt\", \"w\") as f:\n",
    "    f = tree.export_graphviz(dt_model, out_file=f)"
   ]
  },
  {
   "cell_type": "code",
   "execution_count": 131,
   "metadata": {},
   "outputs": [
    {
     "name": "stdout",
     "output_type": "stream",
     "text": [
      "16\n",
      "70\n",
      "90\n"
     ]
    }
   ],
   "source": [
    "for i in range(1,100):\n",
    "    # Split data into train and test\n",
    "    X_train, X_test, Y_train, Y_test = train_test_split(X, Y, test_size=1/3, stratify=Y, random_state=i)\n",
    "    # Upsample to balance out classes\n",
    "    sm = SMOTE(random_state=12, ratio = 1.0)\n",
    "    X_train_res, Y_train_res = sm.fit_sample(X_train, Y_train)\n",
    "    X_train_res = pd.DataFrame(X_train_res, columns=X_train.columns)\n",
    "    dtc =  DTC(random_state=123, max_leaf_nodes=13)\n",
    "    dt_model = dtc.fit(X_train_res, Y_train_res)\n",
    "    with open(\"processed_data/dt_model.txt\", \"w\") as f:\n",
    "        f = tree.export_graphviz(dt_model, out_file=f)\n",
    "    if 'X[0]' in open(\"processed_data/dt_model.txt\").read():\n",
    "        print (i)"
   ]
  },
  {
   "cell_type": "code",
   "execution_count": 98,
   "metadata": {},
   "outputs": [
    {
     "data": {
      "text/html": [
       "<div>\n",
       "<style>\n",
       "    .dataframe thead tr:only-child th {\n",
       "        text-align: right;\n",
       "    }\n",
       "\n",
       "    .dataframe thead th {\n",
       "        text-align: left;\n",
       "    }\n",
       "\n",
       "    .dataframe tbody tr th {\n",
       "        vertical-align: top;\n",
       "    }\n",
       "</style>\n",
       "<table border=\"1\" class=\"dataframe\">\n",
       "  <thead>\n",
       "    <tr style=\"text-align: right;\">\n",
       "      <th></th>\n",
       "      <th>0</th>\n",
       "    </tr>\n",
       "  </thead>\n",
       "  <tbody>\n",
       "    <tr>\n",
       "      <th>0</th>\n",
       "      <td>AGE</td>\n",
       "    </tr>\n",
       "    <tr>\n",
       "      <th>1</th>\n",
       "      <td>ACCESSIBILITY</td>\n",
       "    </tr>\n",
       "    <tr>\n",
       "      <th>2</th>\n",
       "      <td>DIST</td>\n",
       "    </tr>\n",
       "    <tr>\n",
       "      <th>3</th>\n",
       "      <td>Retiree_NM</td>\n",
       "    </tr>\n",
       "    <tr>\n",
       "      <th>4</th>\n",
       "      <td>Retiree_M</td>\n",
       "    </tr>\n",
       "    <tr>\n",
       "      <th>5</th>\n",
       "      <td>Retiree_H</td>\n",
       "    </tr>\n",
       "    <tr>\n",
       "      <th>6</th>\n",
       "      <td>FT_Worker_NM</td>\n",
       "    </tr>\n",
       "    <tr>\n",
       "      <th>7</th>\n",
       "      <td>FT_Worker_M</td>\n",
       "    </tr>\n",
       "    <tr>\n",
       "      <th>8</th>\n",
       "      <td>FT_Worker_H</td>\n",
       "    </tr>\n",
       "    <tr>\n",
       "      <th>9</th>\n",
       "      <td>PT_Worker_NM</td>\n",
       "    </tr>\n",
       "    <tr>\n",
       "      <th>10</th>\n",
       "      <td>PT_Worker_M</td>\n",
       "    </tr>\n",
       "    <tr>\n",
       "      <th>11</th>\n",
       "      <td>PT_Worker_H</td>\n",
       "    </tr>\n",
       "    <tr>\n",
       "      <th>12</th>\n",
       "      <td>DA_Stud_NM</td>\n",
       "    </tr>\n",
       "    <tr>\n",
       "      <th>13</th>\n",
       "      <td>DA_Stud_M</td>\n",
       "    </tr>\n",
       "    <tr>\n",
       "      <th>14</th>\n",
       "      <td>DA_Stud_H</td>\n",
       "    </tr>\n",
       "    <tr>\n",
       "      <th>15</th>\n",
       "      <td>PreSch_Child_NM</td>\n",
       "    </tr>\n",
       "    <tr>\n",
       "      <th>16</th>\n",
       "      <td>PreSch_Child_M</td>\n",
       "    </tr>\n",
       "    <tr>\n",
       "      <th>17</th>\n",
       "      <td>PreSch_Child_H</td>\n",
       "    </tr>\n",
       "    <tr>\n",
       "      <th>18</th>\n",
       "      <td>PDA_Stud_NM</td>\n",
       "    </tr>\n",
       "    <tr>\n",
       "      <th>19</th>\n",
       "      <td>PDA_Stud_M</td>\n",
       "    </tr>\n",
       "    <tr>\n",
       "      <th>20</th>\n",
       "      <td>PDA_Stud_H</td>\n",
       "    </tr>\n",
       "    <tr>\n",
       "      <th>21</th>\n",
       "      <td>Non_Worker_NM</td>\n",
       "    </tr>\n",
       "    <tr>\n",
       "      <th>22</th>\n",
       "      <td>Non_Worker_M</td>\n",
       "    </tr>\n",
       "    <tr>\n",
       "      <th>23</th>\n",
       "      <td>Non_Worker_H</td>\n",
       "    </tr>\n",
       "    <tr>\n",
       "      <th>24</th>\n",
       "      <td>Univ_Stud_NM</td>\n",
       "    </tr>\n",
       "    <tr>\n",
       "      <th>25</th>\n",
       "      <td>Univ_Stud_M</td>\n",
       "    </tr>\n",
       "    <tr>\n",
       "      <th>26</th>\n",
       "      <td>Univ_Stud_H</td>\n",
       "    </tr>\n",
       "    <tr>\n",
       "      <th>27</th>\n",
       "      <td>GENDER_Female</td>\n",
       "    </tr>\n",
       "    <tr>\n",
       "      <th>28</th>\n",
       "      <td>GENDER_Male</td>\n",
       "    </tr>\n",
       "    <tr>\n",
       "      <th>29</th>\n",
       "      <td>PERTYPE_DA_Stud</td>\n",
       "    </tr>\n",
       "    <tr>\n",
       "      <th>...</th>\n",
       "      <td>...</td>\n",
       "    </tr>\n",
       "    <tr>\n",
       "      <th>33</th>\n",
       "      <td>PERTYPE_PT_Worker</td>\n",
       "    </tr>\n",
       "    <tr>\n",
       "      <th>34</th>\n",
       "      <td>PERTYPE_PreSch_Child</td>\n",
       "    </tr>\n",
       "    <tr>\n",
       "      <th>35</th>\n",
       "      <td>PERTYPE_Retiree</td>\n",
       "    </tr>\n",
       "    <tr>\n",
       "      <th>36</th>\n",
       "      <td>PERTYPE_Univ_Stud</td>\n",
       "    </tr>\n",
       "    <tr>\n",
       "      <th>37</th>\n",
       "      <td>CAR_SUFF_Cars Equals to Workers</td>\n",
       "    </tr>\n",
       "    <tr>\n",
       "      <th>38</th>\n",
       "      <td>CAR_SUFF_Fewer Cars than Workers</td>\n",
       "    </tr>\n",
       "    <tr>\n",
       "      <th>39</th>\n",
       "      <td>CAR_SUFF_More Cars than Workers</td>\n",
       "    </tr>\n",
       "    <tr>\n",
       "      <th>40</th>\n",
       "      <td>CAR_SUFF_Zero Cars</td>\n",
       "    </tr>\n",
       "    <tr>\n",
       "      <th>41</th>\n",
       "      <td>HINCCAT1_$49,999 or less</td>\n",
       "    </tr>\n",
       "    <tr>\n",
       "      <th>42</th>\n",
       "      <td>HINCCAT1_$50,000 to $74,999</td>\n",
       "    </tr>\n",
       "    <tr>\n",
       "      <th>43</th>\n",
       "      <td>HINCCAT1_$75,000 or more</td>\n",
       "    </tr>\n",
       "    <tr>\n",
       "      <th>44</th>\n",
       "      <td>HINCCAT1_DK/RF</td>\n",
       "    </tr>\n",
       "    <tr>\n",
       "      <th>45</th>\n",
       "      <td>EDUCA_Bachelors or Higher Degree</td>\n",
       "    </tr>\n",
       "    <tr>\n",
       "      <th>46</th>\n",
       "      <td>EDUCA_DK/RF</td>\n",
       "    </tr>\n",
       "    <tr>\n",
       "      <th>47</th>\n",
       "      <td>EDUCA_Less than Bachelors</td>\n",
       "    </tr>\n",
       "    <tr>\n",
       "      <th>48</th>\n",
       "      <td>JOBS_DK/RF</td>\n",
       "    </tr>\n",
       "    <tr>\n",
       "      <th>49</th>\n",
       "      <td>JOBS_More than One Job</td>\n",
       "    </tr>\n",
       "    <tr>\n",
       "      <th>50</th>\n",
       "      <td>JOBS_No Job</td>\n",
       "    </tr>\n",
       "    <tr>\n",
       "      <th>51</th>\n",
       "      <td>JOBS_One Job</td>\n",
       "    </tr>\n",
       "    <tr>\n",
       "      <th>52</th>\n",
       "      <td>JOBTYPE_Agriculture and Mining</td>\n",
       "    </tr>\n",
       "    <tr>\n",
       "      <th>53</th>\n",
       "      <td>JOBTYPE_Education</td>\n",
       "    </tr>\n",
       "    <tr>\n",
       "      <th>54</th>\n",
       "      <td>JOBTYPE_Finance &amp; Real Estate</td>\n",
       "    </tr>\n",
       "    <tr>\n",
       "      <th>55</th>\n",
       "      <td>JOBTYPE_Health</td>\n",
       "    </tr>\n",
       "    <tr>\n",
       "      <th>56</th>\n",
       "      <td>JOBTYPE_Information, Professor/Scientist, Mana...</td>\n",
       "    </tr>\n",
       "    <tr>\n",
       "      <th>57</th>\n",
       "      <td>JOBTYPE_MORPC INDUS=80</td>\n",
       "    </tr>\n",
       "    <tr>\n",
       "      <th>58</th>\n",
       "      <td>JOBTYPE_Manufacturing and Wholesale Trade</td>\n",
       "    </tr>\n",
       "    <tr>\n",
       "      <th>59</th>\n",
       "      <td>JOBTYPE_No Job Type</td>\n",
       "    </tr>\n",
       "    <tr>\n",
       "      <th>60</th>\n",
       "      <td>JOBTYPE_Public Admin</td>\n",
       "    </tr>\n",
       "    <tr>\n",
       "      <th>61</th>\n",
       "      <td>JOBTYPE_Retail</td>\n",
       "    </tr>\n",
       "    <tr>\n",
       "      <th>62</th>\n",
       "      <td>JOBTYPE_Transportation, Utilities and Warehousing</td>\n",
       "    </tr>\n",
       "  </tbody>\n",
       "</table>\n",
       "<p>63 rows × 1 columns</p>\n",
       "</div>"
      ],
      "text/plain": [
       "                                                    0\n",
       "0                                                 AGE\n",
       "1                                       ACCESSIBILITY\n",
       "2                                                DIST\n",
       "3                                          Retiree_NM\n",
       "4                                           Retiree_M\n",
       "5                                           Retiree_H\n",
       "6                                        FT_Worker_NM\n",
       "7                                         FT_Worker_M\n",
       "8                                         FT_Worker_H\n",
       "9                                        PT_Worker_NM\n",
       "10                                        PT_Worker_M\n",
       "11                                        PT_Worker_H\n",
       "12                                         DA_Stud_NM\n",
       "13                                          DA_Stud_M\n",
       "14                                          DA_Stud_H\n",
       "15                                    PreSch_Child_NM\n",
       "16                                     PreSch_Child_M\n",
       "17                                     PreSch_Child_H\n",
       "18                                        PDA_Stud_NM\n",
       "19                                         PDA_Stud_M\n",
       "20                                         PDA_Stud_H\n",
       "21                                      Non_Worker_NM\n",
       "22                                       Non_Worker_M\n",
       "23                                       Non_Worker_H\n",
       "24                                       Univ_Stud_NM\n",
       "25                                        Univ_Stud_M\n",
       "26                                        Univ_Stud_H\n",
       "27                                      GENDER_Female\n",
       "28                                        GENDER_Male\n",
       "29                                    PERTYPE_DA_Stud\n",
       "..                                                ...\n",
       "33                                  PERTYPE_PT_Worker\n",
       "34                               PERTYPE_PreSch_Child\n",
       "35                                    PERTYPE_Retiree\n",
       "36                                  PERTYPE_Univ_Stud\n",
       "37                    CAR_SUFF_Cars Equals to Workers\n",
       "38                   CAR_SUFF_Fewer Cars than Workers\n",
       "39                    CAR_SUFF_More Cars than Workers\n",
       "40                                 CAR_SUFF_Zero Cars\n",
       "41                           HINCCAT1_$49,999 or less\n",
       "42                        HINCCAT1_$50,000 to $74,999\n",
       "43                           HINCCAT1_$75,000 or more\n",
       "44                                     HINCCAT1_DK/RF\n",
       "45                   EDUCA_Bachelors or Higher Degree\n",
       "46                                        EDUCA_DK/RF\n",
       "47                          EDUCA_Less than Bachelors\n",
       "48                                         JOBS_DK/RF\n",
       "49                             JOBS_More than One Job\n",
       "50                                        JOBS_No Job\n",
       "51                                       JOBS_One Job\n",
       "52                     JOBTYPE_Agriculture and Mining\n",
       "53                                  JOBTYPE_Education\n",
       "54                      JOBTYPE_Finance & Real Estate\n",
       "55                                     JOBTYPE_Health\n",
       "56  JOBTYPE_Information, Professor/Scientist, Mana...\n",
       "57                             JOBTYPE_MORPC INDUS=80\n",
       "58          JOBTYPE_Manufacturing and Wholesale Trade\n",
       "59                                JOBTYPE_No Job Type\n",
       "60                               JOBTYPE_Public Admin\n",
       "61                                     JOBTYPE_Retail\n",
       "62  JOBTYPE_Transportation, Utilities and Warehousing\n",
       "\n",
       "[63 rows x 1 columns]"
      ]
     },
     "execution_count": 98,
     "metadata": {},
     "output_type": "execute_result"
    }
   ],
   "source": [
    "pd.DataFrame(X_train_res.columns)"
   ]
  },
  {
   "cell_type": "code",
   "execution_count": null,
   "metadata": {
    "collapsed": true
   },
   "outputs": [],
   "source": []
  },
  {
   "cell_type": "code",
   "execution_count": null,
   "metadata": {
    "collapsed": true
   },
   "outputs": [],
   "source": []
  },
  {
   "cell_type": "code",
   "execution_count": null,
   "metadata": {
    "collapsed": true
   },
   "outputs": [],
   "source": []
  }
 ],
 "metadata": {
  "kernelspec": {
   "display_name": "Python 3",
   "language": "python",
   "name": "python3"
  },
  "language_info": {
   "codemirror_mode": {
    "name": "ipython",
    "version": 3
   },
   "file_extension": ".py",
   "mimetype": "text/x-python",
   "name": "python",
   "nbconvert_exporter": "python",
   "pygments_lexer": "ipython3",
   "version": "3.6.3"
  }
 },
 "nbformat": 4,
 "nbformat_minor": 2
}
