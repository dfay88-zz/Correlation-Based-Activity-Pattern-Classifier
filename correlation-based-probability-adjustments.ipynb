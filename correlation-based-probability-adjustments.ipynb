{
 "cells": [
  {
   "cell_type": "markdown",
   "metadata": {},
   "source": [
    "### Correlation Based Probability Adjustments\n",
    "#### Daniel Fay"
   ]
  },
  {
   "cell_type": "code",
   "execution_count": 1,
   "metadata": {},
   "outputs": [
    {
     "ename": "ModuleNotFoundError",
     "evalue": "No module named 'plotly'",
     "output_type": "error",
     "traceback": [
      "\u001b[0;31m---------------------------------------------------------------------------\u001b[0m",
      "\u001b[0;31mModuleNotFoundError\u001b[0m                       Traceback (most recent call last)",
      "\u001b[0;32m<ipython-input-1-6bae289b4d99>\u001b[0m in \u001b[0;36m<module>\u001b[0;34m\u001b[0m\n\u001b[1;32m      7\u001b[0m \u001b[0;32mfrom\u001b[0m \u001b[0msklearn\u001b[0m\u001b[0;34m.\u001b[0m\u001b[0mmetrics\u001b[0m \u001b[0;32mimport\u001b[0m \u001b[0mconfusion_matrix\u001b[0m\u001b[0;34m,\u001b[0m \u001b[0mf1_score\u001b[0m\u001b[0;34m\u001b[0m\u001b[0;34m\u001b[0m\u001b[0m\n\u001b[1;32m      8\u001b[0m \u001b[0;32mfrom\u001b[0m \u001b[0msklearn\u001b[0m\u001b[0;34m.\u001b[0m\u001b[0mpreprocessing\u001b[0m \u001b[0;32mimport\u001b[0m \u001b[0mnormalize\u001b[0m\u001b[0;34m\u001b[0m\u001b[0;34m\u001b[0m\u001b[0m\n\u001b[0;32m----> 9\u001b[0;31m \u001b[0;32mimport\u001b[0m \u001b[0mplotly\u001b[0m\u001b[0;34m.\u001b[0m\u001b[0mplotly\u001b[0m \u001b[0;32mas\u001b[0m \u001b[0mpy\u001b[0m\u001b[0;34m\u001b[0m\u001b[0;34m\u001b[0m\u001b[0m\n\u001b[0m\u001b[1;32m     10\u001b[0m \u001b[0;32mimport\u001b[0m \u001b[0mplotly\u001b[0m\u001b[0;34m\u001b[0m\u001b[0;34m\u001b[0m\u001b[0m\n\u001b[1;32m     11\u001b[0m \u001b[0;32mimport\u001b[0m \u001b[0mplotly\u001b[0m\u001b[0;34m.\u001b[0m\u001b[0mgraph_objs\u001b[0m \u001b[0;32mas\u001b[0m \u001b[0mgo\u001b[0m\u001b[0;34m\u001b[0m\u001b[0;34m\u001b[0m\u001b[0m\n",
      "\u001b[0;31mModuleNotFoundError\u001b[0m: No module named 'plotly'"
     ]
    }
   ],
   "source": [
    "# Import necessary packages\n",
    "import pandas as pd\n",
    "from pandas import DataFrame\n",
    "import numpy as np\n",
    "import pickle\n",
    "import itertools\n",
    "from sklearn.metrics import confusion_matrix, f1_score\n",
    "from sklearn.preprocessing import normalize\n",
    "import plotly.plotly as py\n",
    "import plotly\n",
    "import plotly.graph_objs as go\n",
    "from plotly.offline import download_plotlyjs, init_notebook_mode, plot, iplot\n",
    "import matplotlib.pyplot as plt\n",
    "import random\n",
    "%matplotlib inline"
   ]
  },
  {
   "cell_type": "code",
   "execution_count": 31,
   "metadata": {
    "collapsed": true,
    "jupyter": {
     "outputs_hidden": true
    }
   },
   "outputs": [],
   "source": [
    "# Load Data\n",
    "idap = pd.read_csv('processed_data/IDAP_processed.csv', index_col=0)"
   ]
  },
  {
   "cell_type": "markdown",
   "metadata": {},
   "source": [
    "### Calculate Correlation Matrices"
   ]
  },
  {
   "cell_type": "code",
   "execution_count": 32,
   "metadata": {
    "collapsed": true,
    "jupyter": {
     "outputs_hidden": true
    }
   },
   "outputs": [],
   "source": [
    "# Create empty correlation matrices for every per type pair\n",
    "corr_matrices = {}\n",
    "for combination in list(itertools.product(idap.PERTYPE.unique(), repeat=2)):\n",
    "    corr_matrices['{0}_{1}'.format(combination[0], combination[1])] = \\\n",
    "    pd.DataFrame(index=['M', 'NM', 'H'], columns=['M', 'NM', 'H'])\n",
    "    corr_matrices['{0}_{1}'.format(combination[0], combination[1])].fillna(0, inplace=True)"
   ]
  },
  {
   "cell_type": "code",
   "execution_count": 33,
   "metadata": {
    "collapsed": true,
    "jupyter": {
     "outputs_hidden": true
    }
   },
   "outputs": [],
   "source": [
    "# Fill in correlation matrices\n",
    "for ix, row in idap.iterrows():\n",
    "    household = idap.loc[ix]\n",
    "    for per_type, idaps in zip(list(itertools.combinations(household.PERTYPE, 2)), \\\n",
    "                             list(itertools.combinations(household.IDAP, 2))):\n",
    "        if idaps == ('M', 'M'):\n",
    "            corr_matrices['{0}_{1}'.format(per_type[0], per_type[1])].iloc[0,0] += 1\n",
    "            \n",
    "        elif idaps == ('M', 'NM'):\n",
    "            corr_matrices['{0}_{1}'.format(per_type[0], per_type[1])].iloc[0,1] += 1\n",
    "            corr_matrices['{0}_{1}'.format(per_type[0], per_type[1])].iloc[1,0] += 1\n",
    "            \n",
    "        elif idaps == ('M', 'H'):\n",
    "            corr_matrices['{0}_{1}'.format(per_type[0], per_type[1])].iloc[0,2] += 1\n",
    "            corr_matrices['{0}_{1}'.format(per_type[0], per_type[1])].iloc[2,0] += 1\n",
    "\n",
    "        elif idaps == ('NM', 'M'):\n",
    "            corr_matrices['{0}_{1}'.format(per_type[0], per_type[1])].iloc[1,0] += 1\n",
    "            corr_matrices['{0}_{1}'.format(per_type[0], per_type[1])].iloc[0,1] += 1\n",
    "            \n",
    "        elif idaps == ('NM', 'NM'):\n",
    "            corr_matrices['{0}_{1}'.format(per_type[0], per_type[1])].iloc[1,1] += 1\n",
    "            \n",
    "        elif idaps == ('NM', 'H'):\n",
    "            corr_matrices['{0}_{1}'.format(per_type[0], per_type[1])].iloc[1,2] += 1\n",
    "            corr_matrices['{0}_{1}'.format(per_type[0], per_type[1])].iloc[2,1] += 1\n",
    "            \n",
    "        elif idaps == ('H', 'M'):\n",
    "            corr_matrices['{0}_{1}'.format(per_type[0], per_type[1])].iloc[2,0] += 1\n",
    "            corr_matrices['{0}_{1}'.format(per_type[0], per_type[1])].iloc[0,2] += 1\n",
    "            \n",
    "        elif idaps == ('H', 'NM'):\n",
    "            corr_matrices['{0}_{1}'.format(per_type[0], per_type[1])].iloc[2,1] += 1\n",
    "            corr_matrices['{0}_{1}'.format(per_type[0], per_type[1])].iloc[1,2] += 1\n",
    "            \n",
    "        elif idaps == ('H', 'H'):\n",
    "            corr_matrices['{0}_{1}'.format(per_type[0], per_type[1])].iloc[2,2] += 1"
   ]
  },
  {
   "cell_type": "code",
   "execution_count": 34,
   "metadata": {
    "collapsed": true,
    "jupyter": {
     "outputs_hidden": true
    }
   },
   "outputs": [],
   "source": [
    "# Combine same correlation matrices\n",
    "for combinations in list(itertools.combinations_with_replacement(idap.PERTYPE.unique(), 2)):\n",
    "    corr_matrices['{0}_{1}'.format(combinations[0], combinations[1])] = corr_matrices['{0}_{1}'.format(combinations[0], combinations[1])] +\\\n",
    "                                                                        corr_matrices['{1}_{0}'.format(combinations[0], combinations[1])]\n",
    "    corr_matrices['{1}_{0}'.format(combinations[0], combinations[1])] = corr_matrices['{0}_{1}'.format(combinations[0], combinations[1])]"
   ]
  },
  {
   "cell_type": "code",
   "execution_count": 35,
   "metadata": {
    "collapsed": true,
    "jupyter": {
     "outputs_hidden": true
    }
   },
   "outputs": [],
   "source": [
    "# # Row Normalize correlation matrices\n",
    "# for matrix in corr_matrices:\n",
    "#     corr_matrices[matrix] = pd.DataFrame(normalize(corr_matrices[matrix], norm='l1', axis=1), index=['M', 'NM', 'H'], columns=['M', 'NM', 'H'])"
   ]
  },
  {
   "cell_type": "code",
   "execution_count": 36,
   "metadata": {
    "collapsed": true,
    "jupyter": {
     "outputs_hidden": true
    }
   },
   "outputs": [],
   "source": [
    "# Symmetrical Normalize correlation matrices \n",
    "for combinations in list(itertools.product(idap.PERTYPE.unique(), repeat=2)):\n",
    "    corr_matrices['{0}_{1}'.format(combinations[0], combinations[1])] = corr_matrices['{0}_{1}'.format(combinations[0], combinations[1])] \\\n",
    "                                                                        /sum(corr_matrices['{0}_{1}'.format(combinations[0], combinations[1])].sum(0))"
   ]
  },
  {
   "cell_type": "code",
   "execution_count": 37,
   "metadata": {
    "collapsed": true,
    "jupyter": {
     "outputs_hidden": true
    }
   },
   "outputs": [],
   "source": [
    "# Output correlation matrix to csv\n",
    "with open('processed_data/correlation_matrices.pkl', 'wb') as handle:\n",
    "    pickle.dump(corr_matrices, handle, protocol=pickle.HIGHEST_PROTOCOL)"
   ]
  },
  {
   "cell_type": "markdown",
   "metadata": {},
   "source": [
    "### Find Most Frequent Activity Pattern for each Per Type"
   ]
  },
  {
   "cell_type": "code",
   "execution_count": 38,
   "metadata": {
    "collapsed": true,
    "jupyter": {
     "outputs_hidden": true
    }
   },
   "outputs": [],
   "source": [
    "dap_count = idap.groupby(['PERTYPE', 'IDAP']).count()\n",
    "dap_count.reset_index(inplace=True)\n",
    "max_dap_pertype = pd.DataFrame()\n",
    "for pertype in idap.PERTYPE.unique():\n",
    "    df = dap_count[dap_count['PERTYPE'] == pertype]\n",
    "    max_dap = pd.DataFrame([df.loc[df['PERNO'].argmax()]['PERTYPE'], df.loc[df['PERNO'].argmax()]['IDAP']])\n",
    "    max_dap_pertype = max_dap_pertype.append(max_dap.T)\n",
    "    \n",
    "max_dap_pertype.columns = ['PERTYPE', 'MAX_IDAP']"
   ]
  },
  {
   "cell_type": "code",
   "execution_count": 39,
   "metadata": {},
   "outputs": [
    {
     "data": {
      "text/html": [
       "<div>\n",
       "<style>\n",
       "    .dataframe thead tr:only-child th {\n",
       "        text-align: right;\n",
       "    }\n",
       "\n",
       "    .dataframe thead th {\n",
       "        text-align: left;\n",
       "    }\n",
       "\n",
       "    .dataframe tbody tr th {\n",
       "        vertical-align: top;\n",
       "    }\n",
       "</style>\n",
       "<table border=\"1\" class=\"dataframe\">\n",
       "  <thead>\n",
       "    <tr style=\"text-align: right;\">\n",
       "      <th></th>\n",
       "      <th>PERTYPE</th>\n",
       "      <th>MAX_IDAP</th>\n",
       "    </tr>\n",
       "  </thead>\n",
       "  <tbody>\n",
       "    <tr>\n",
       "      <th>0</th>\n",
       "      <td>Retiree</td>\n",
       "      <td>NM</td>\n",
       "    </tr>\n",
       "    <tr>\n",
       "      <th>0</th>\n",
       "      <td>FT_Worker</td>\n",
       "      <td>M</td>\n",
       "    </tr>\n",
       "    <tr>\n",
       "      <th>0</th>\n",
       "      <td>PT_Worker</td>\n",
       "      <td>M</td>\n",
       "    </tr>\n",
       "    <tr>\n",
       "      <th>0</th>\n",
       "      <td>DA_Stud</td>\n",
       "      <td>M</td>\n",
       "    </tr>\n",
       "    <tr>\n",
       "      <th>0</th>\n",
       "      <td>PreSch_Child</td>\n",
       "      <td>NM</td>\n",
       "    </tr>\n",
       "    <tr>\n",
       "      <th>0</th>\n",
       "      <td>PDA_Stud</td>\n",
       "      <td>M</td>\n",
       "    </tr>\n",
       "    <tr>\n",
       "      <th>0</th>\n",
       "      <td>Non_Worker</td>\n",
       "      <td>NM</td>\n",
       "    </tr>\n",
       "    <tr>\n",
       "      <th>0</th>\n",
       "      <td>Univ_Stud</td>\n",
       "      <td>M</td>\n",
       "    </tr>\n",
       "  </tbody>\n",
       "</table>\n",
       "</div>"
      ],
      "text/plain": [
       "        PERTYPE MAX_IDAP\n",
       "0       Retiree       NM\n",
       "0     FT_Worker        M\n",
       "0     PT_Worker        M\n",
       "0       DA_Stud        M\n",
       "0  PreSch_Child       NM\n",
       "0      PDA_Stud        M\n",
       "0    Non_Worker       NM\n",
       "0     Univ_Stud        M"
      ]
     },
     "execution_count": 39,
     "metadata": {},
     "output_type": "execute_result"
    }
   ],
   "source": [
    "max_dap_pertype"
   ]
  },
  {
   "cell_type": "markdown",
   "metadata": {},
   "source": [
    "### Define Correlation Adjustment Algorithm"
   ]
  },
  {
   "cell_type": "code",
   "execution_count": 40,
   "metadata": {
    "collapsed": true,
    "jupyter": {
     "outputs_hidden": true
    }
   },
   "outputs": [],
   "source": [
    "def correlation_probability_adjustments(alpha):\n",
    "    # 1st iteration\n",
    "    adjusted_probs = []\n",
    "    mandatory_pertypes = ['FT_Worker', 'PT_Worker', 'DA_Stud', 'PDA_Stud', 'Univ_Stud']\n",
    "    nonmandatory_pertypes = ['Retiree', 'PreSch_Child', 'Non_Worker']\n",
    "    for index in idap.index.unique():\n",
    "        df = pd.DataFrame(idap.loc[index])\n",
    "        if len(df.T) == 1:\n",
    "            adjusted_probs.append([df.T['H'].values[0], df.T['M'].values[0], df.T['NM'].values[0]])\n",
    "            pass\n",
    "        else:\n",
    "#             df['perno'] = random.sample(range(1,len(df)+1),len(df))\n",
    "#             df.sort_values('perno', inplace=True)\n",
    "            for idx, row in df.iterrows():\n",
    "                if row['PERNO'] == 1:\n",
    "                    prev_dap = row['PREDICTION']\n",
    "                    prev_pertype = row['PERTYPE']\n",
    "                    prev_prob = row[prev_dap]\n",
    "                    adjusted_probs.append([row['H'], row['M'], row['NM']])\n",
    "                else:\n",
    "                    if row['PERTYPE'] in mandatory_pertypes:\n",
    "                        joint_prob_M = 0.001\n",
    "                        #joint_prob_M = corr_matrices['{0}_{1}'.format(prev_pertype, row['PERTYPE'])][prev_dap][0]\n",
    "                        joint_prob_NM = corr_matrices['{0}_{1}'.format(prev_pertype, row['PERTYPE'])][prev_dap][1]\n",
    "                        joint_prob_H = corr_matrices['{0}_{1}'.format(prev_pertype, row['PERTYPE'])][prev_dap][2]\n",
    "                        prob_M = prev_prob * row['M'] * joint_prob_M**alpha\n",
    "                        prob_NM = prev_prob * row['NM'] * joint_prob_NM**alpha\n",
    "                        prob_H = prev_prob * row['H'] * joint_prob_H**alpha\n",
    "                        prev_dap = row['PREDICTION']\n",
    "                        prev_pertype = row['PERTYPE']\n",
    "                        prev_prob = row[prev_dap]\n",
    "                        norm = [float(i)/sum([prob_H, prob_M, prob_NM]) for i in [prob_H, prob_M, prob_NM]]\n",
    "                        adjusted_probs.append(norm)\n",
    "                    elif row['PERTYPE'] in nonmandatory_pertypes:\n",
    "                        joint_prob_NM = 0.001\n",
    "                        joint_prob_M = corr_matrices['{0}_{1}'.format(prev_pertype, row['PERTYPE'])][prev_dap][0]\n",
    "                        #joint_prob_NM = corr_matrices['{0}_{1}'.format(prev_pertype, row['PERTYPE'])][prev_dap][1]\n",
    "                        joint_prob_H = corr_matrices['{0}_{1}'.format(prev_pertype, row['PERTYPE'])][prev_dap][2]\n",
    "                        prob_M = prev_prob * row['M'] * joint_prob_M**alpha\n",
    "                        prob_NM = prev_prob * row['NM'] * joint_prob_NM**alpha\n",
    "                        prob_H = prev_prob * row['H'] * joint_prob_H**alpha\n",
    "                        prev_dap = row['PREDICTION']\n",
    "                        prev_pertype = row['PERTYPE']\n",
    "                        prev_prob = row[prev_dap]\n",
    "                        norm = [float(i)/sum([prob_H, prob_M, prob_NM]) for i in [prob_H, prob_M, prob_NM]]\n",
    "                        adjusted_probs.append(norm)\n",
    "                        \n",
    "    idap['H_ADJ'] = [i[0] for i in adjusted_probs]\n",
    "    idap['M_ADJ'] = [i[1] for i in adjusted_probs]\n",
    "    idap['NM_ADJ'] = [i[2] for i in adjusted_probs]\n",
    "    \n",
    "    adj_predictions = []\n",
    "    for ix, row in idap.iterrows():\n",
    "        if row['H_ADJ'] > row['M_ADJ'] and row['H_ADJ'] > row['NM_ADJ']:\n",
    "            adj_predictions.append('H')\n",
    "        elif row['M_ADJ'] > row['H_ADJ'] and row['M_ADJ'] > row['NM_ADJ']:\n",
    "            adj_predictions.append('M')\n",
    "        else:\n",
    "            adj_predictions.append('NM')\n",
    "\n",
    "    idap['PREDICTION_ADJ'] = adj_predictions\n",
    "    \n",
    "    # 2nd iteration\n",
    "    adjusted_probs_2 = []               \n",
    "    for index in idap.index.unique():\n",
    "        df = pd.DataFrame(idap.loc[index])\n",
    "        if len(df.T) == 1:\n",
    "            adjusted_probs_2.append([df.T['H_ADJ'].values[0], df.T['M_ADJ'].values[0], df.T['NM_ADJ'].values[0]])\n",
    "            pass\n",
    "        else:\n",
    "            prev_dap = df.tail(1)['PREDICTION_ADJ'].iloc[0]\n",
    "            prev_pertype = df.tail(1)['PERTYPE'].iloc[0]\n",
    "            prev_prob = df.tail(1)[prev_dap + '_ADJ'].iloc[0]\n",
    "            for idx, row in df.iterrows():\n",
    "                if row['PERTYPE'] in mandatory_pertypes:\n",
    "                    joint_prob_M = 0.001\n",
    "                    #joint_prob_M = corr_matrices['{0}_{1}'.format(prev_pertype, row['PERTYPE'])][prev_dap][0]\n",
    "                    joint_prob_NM = corr_matrices['{0}_{1}'.format(prev_pertype, row['PERTYPE'])][prev_dap][1]\n",
    "                    joint_prob_H = corr_matrices['{0}_{1}'.format(prev_pertype, row['PERTYPE'])][prev_dap][2]\n",
    "                    prob_M = prev_prob * row['M'] * joint_prob_M**alpha\n",
    "                    prob_NM = prev_prob * row['NM'] * joint_prob_NM**alpha\n",
    "                    prob_H = prev_prob * row['H'] * joint_prob_H**alpha\n",
    "                    prev_dap = row['PREDICTION_ADJ']\n",
    "                    prev_pertype = row['PERTYPE']\n",
    "                    prev_prob = row[prev_dap]\n",
    "                    norm = [float(i)/sum([prob_H, prob_M, prob_NM]) for i in [prob_H, prob_M, prob_NM]]\n",
    "                    adjusted_probs_2.append(norm)\n",
    "                    \n",
    "                elif row['PERTYPE'] in nonmandatory_pertypes:\n",
    "                    joint_prob_M = corr_matrices['{0}_{1}'.format(prev_pertype, row['PERTYPE'])][prev_dap][0]\n",
    "                    joint_prob_NM = 0.001\n",
    "                    #joint_prob_NM = corr_matrices['{0}_{1}'.format(prev_pertype, row['PERTYPE'])][prev_dap][1]\n",
    "                    joint_prob_H = corr_matrices['{0}_{1}'.format(prev_pertype, row['PERTYPE'])][prev_dap][2]\n",
    "                    prob_M = prev_prob * row['M'] * joint_prob_M**alpha\n",
    "                    prob_NM = prev_prob * row['NM'] * joint_prob_NM**alpha\n",
    "                    prob_H = prev_prob * row['H'] * joint_prob_H**alpha\n",
    "                    prev_dap = row['PREDICTION_ADJ']\n",
    "                    prev_pertype = row['PERTYPE']\n",
    "                    prev_prob = row[prev_dap]\n",
    "                    norm = [float(i)/sum([prob_H, prob_M, prob_NM]) for i in [prob_H, prob_M, prob_NM]]\n",
    "                    adjusted_probs_2.append(norm)\n",
    "                    \n",
    "    idap['H_ADJ_2'] = [i[0] for i in adjusted_probs_2]\n",
    "    idap['M_ADJ_2'] = [i[1] for i in adjusted_probs_2]\n",
    "    idap['NM_ADJ_2'] = [i[2] for i in adjusted_probs_2]\n",
    "\n",
    "    adj_predictions_2 = []\n",
    "    for ix, row in idap.iterrows():\n",
    "        if row['H_ADJ_2'] > row['M_ADJ_2'] and row['H_ADJ_2'] > row['NM_ADJ_2']:\n",
    "            adj_predictions_2.append('H')\n",
    "        elif row['M_ADJ_2'] > row['H_ADJ_2'] and row['M_ADJ_2'] > row['NM_ADJ_2']:\n",
    "            adj_predictions_2.append('M')\n",
    "        else:\n",
    "            adj_predictions_2.append('NM')\n",
    "\n",
    "    idap['PREDICTION_ADJ_2'] = adj_predictions_2\n",
    "    \n",
    "    # 3rd iteration\n",
    "    adjusted_probs_3 = []               \n",
    "    for index in idap.index.unique():\n",
    "        df = pd.DataFrame(idap.loc[index])\n",
    "        if len(df.T) == 1:\n",
    "            adjusted_probs_3.append([df.T['H_ADJ_2'].values[0], df.T['M_ADJ_2'].values[0], df.T['NM_ADJ_2'].values[0]])\n",
    "            pass\n",
    "        else:\n",
    "            prev_dap = df.tail(1)['PREDICTION_ADJ_2'].iloc[0]\n",
    "            prev_pertype = df.tail(1)['PERTYPE'].iloc[0]\n",
    "            prev_prob = df.tail(1)[prev_dap + '_ADJ_2'].iloc[0]\n",
    "            for idx, row in df.iterrows():\n",
    "                if row['PERTYPE'] in mandatory_pertypes:\n",
    "                    joint_prob_M = 0.001\n",
    "                    #joint_prob_M = corr_matrices['{0}_{1}'.format(prev_pertype, row['PERTYPE'])][prev_dap][0]\n",
    "                    joint_prob_NM = corr_matrices['{0}_{1}'.format(prev_pertype, row['PERTYPE'])][prev_dap][1]\n",
    "                    joint_prob_H = corr_matrices['{0}_{1}'.format(prev_pertype, row['PERTYPE'])][prev_dap][2]\n",
    "                    prob_M = prev_prob * row['M'] * joint_prob_M**alpha\n",
    "                    prob_NM = prev_prob * row['NM'] * joint_prob_NM**alpha\n",
    "                    prob_H = prev_prob * row['H'] * joint_prob_H**alpha\n",
    "                    prev_dap = row['PREDICTION_ADJ_2']\n",
    "                    prev_pertype = row['PERTYPE']\n",
    "                    prev_prob = row[prev_dap]\n",
    "                    norm = [float(i)/sum([prob_H, prob_M, prob_NM]) for i in [prob_H, prob_M, prob_NM]]\n",
    "                    adjusted_probs_3.append(norm)\n",
    "                    \n",
    "                elif row['PERTYPE'] in nonmandatory_pertypes:\n",
    "                    joint_prob_M = corr_matrices['{0}_{1}'.format(prev_pertype, row['PERTYPE'])][prev_dap][0]\n",
    "                    joint_prob_NM = 0.001\n",
    "                    #joint_prob_NM = corr_matrices['{0}_{1}'.format(prev_pertype, row['PERTYPE'])][prev_dap][1]\n",
    "                    joint_prob_H = corr_matrices['{0}_{1}'.format(prev_pertype, row['PERTYPE'])][prev_dap][2]\n",
    "                    prob_M = prev_prob * row['M'] * joint_prob_M**alpha\n",
    "                    prob_NM = prev_prob * row['NM'] * joint_prob_NM**alpha\n",
    "                    prob_H = prev_prob * row['H'] * joint_prob_H**alpha\n",
    "                    prev_dap = row['PREDICTION_ADJ_2']\n",
    "                    prev_pertype = row['PERTYPE']\n",
    "                    prev_prob = row[prev_dap]\n",
    "                    norm = [float(i)/sum([prob_H, prob_M, prob_NM]) for i in [prob_H, prob_M, prob_NM]]\n",
    "                    adjusted_probs_3.append(norm)\n",
    "                    \n",
    "    idap['H_ADJ_3'] = [i[0] for i in adjusted_probs_3]\n",
    "    idap['M_ADJ_3'] = [i[1] for i in adjusted_probs_3]\n",
    "    idap['NM_ADJ_3'] = [i[2] for i in adjusted_probs_3]\n",
    "\n",
    "    adj_predictions_3 = []\n",
    "    for ix, row in idap.iterrows():\n",
    "        if row['H_ADJ_3'] > row['M_ADJ_3'] and row['H_ADJ_3'] > row['NM_ADJ_3']:\n",
    "            adj_predictions_3.append('H')\n",
    "        elif row['M_ADJ_3'] > row['H_ADJ_3'] and row['M_ADJ_3'] > row['NM_ADJ_3']:\n",
    "            adj_predictions_3.append('M')\n",
    "        else:\n",
    "            adj_predictions_3.append('NM')\n",
    "\n",
    "    idap['PREDICTION_ADJ_3'] = adj_predictions_3\n",
    "    \n",
    "  # 4th iteration\n",
    "    adjusted_probs_4 = []               \n",
    "    for index in idap.index.unique():\n",
    "        df = pd.DataFrame(idap.loc[index])\n",
    "        if len(df.T) == 1:\n",
    "            adjusted_probs_4.append([df.T['H_ADJ_3'].values[0], df.T['M_ADJ_3'].values[0], df.T['NM_ADJ_3'].values[0]])\n",
    "            pass\n",
    "        else:\n",
    "            prev_dap = df.tail(1)['PREDICTION_ADJ_3'].iloc[0]\n",
    "            prev_pertype = df.tail(1)['PERTYPE'].iloc[0]\n",
    "            prev_prob = df.tail(1)[prev_dap + '_ADJ_3'].iloc[0]\n",
    "            for idx, row in df.iterrows():\n",
    "                if row['PERTYPE'] in mandatory_pertypes:\n",
    "                    joint_prob_M = 0.001\n",
    "                    #joint_prob_M = corr_matrices['{0}_{1}'.format(prev_pertype, row['PERTYPE'])][prev_dap][0]\n",
    "                    joint_prob_NM = corr_matrices['{0}_{1}'.format(prev_pertype, row['PERTYPE'])][prev_dap][1]\n",
    "                    joint_prob_H = corr_matrices['{0}_{1}'.format(prev_pertype, row['PERTYPE'])][prev_dap][2]\n",
    "                    prob_M = prev_prob * row['M'] * joint_prob_M**alpha\n",
    "                    prob_NM = prev_prob * row['NM'] * joint_prob_NM**alpha\n",
    "                    prob_H = prev_prob * row['H'] * joint_prob_H**alpha\n",
    "                    prev_dap = row['PREDICTION_ADJ_3']\n",
    "                    prev_pertype = row['PERTYPE']\n",
    "                    prev_prob = row[prev_dap]\n",
    "                    norm = [float(i)/sum([prob_H, prob_M, prob_NM]) for i in [prob_H, prob_M, prob_NM]]\n",
    "                    adjusted_probs_4.append(norm)\n",
    "                    \n",
    "                elif row['PERTYPE'] in nonmandatory_pertypes:\n",
    "                    joint_prob_M = corr_matrices['{0}_{1}'.format(prev_pertype, row['PERTYPE'])][prev_dap][0]\n",
    "                    joint_prob_NM = 0.001\n",
    "                    #joint_prob_NM = corr_matrices['{0}_{1}'.format(prev_pertype, row['PERTYPE'])][prev_dap][1]\n",
    "                    joint_prob_H = corr_matrices['{0}_{1}'.format(prev_pertype, row['PERTYPE'])][prev_dap][2]\n",
    "                    prob_M = prev_prob * row['M'] * joint_prob_M**alpha\n",
    "                    prob_NM = prev_prob * row['NM'] * joint_prob_NM**alpha\n",
    "                    prob_H = prev_prob * row['H'] * joint_prob_H**alpha\n",
    "                    prev_dap = row['PREDICTION_ADJ_3']\n",
    "                    prev_pertype = row['PERTYPE']\n",
    "                    prev_prob = row[prev_dap]\n",
    "                    norm = [float(i)/sum([prob_H, prob_M, prob_NM]) for i in [prob_H, prob_M, prob_NM]]\n",
    "                    adjusted_probs_4.append(norm)\n",
    "                    \n",
    "    idap['H_ADJ_4'] = [i[0] for i in adjusted_probs_4]\n",
    "    idap['M_ADJ_4'] = [i[1] for i in adjusted_probs_4]\n",
    "    idap['NM_ADJ_4'] = [i[2] for i in adjusted_probs_4]\n",
    "\n",
    "    adj_predictions_4 = []\n",
    "    for ix, row in idap.iterrows():\n",
    "        if row['H_ADJ_4'] > row['M_ADJ_4'] and row['H_ADJ_4'] > row['NM_ADJ_4']:\n",
    "            adj_predictions_4.append('H')\n",
    "        elif row['M_ADJ_4'] > row['H_ADJ_4'] and row['M_ADJ_4'] > row['NM_ADJ_4']:\n",
    "            adj_predictions_4.append('M')\n",
    "        else:\n",
    "            adj_predictions_4.append('NM')\n",
    "\n",
    "    idap['PREDICTION_ADJ_4'] = adj_predictions_4\n",
    "    \n",
    "  # 5th iteration\n",
    "    adjusted_probs_5 = []               \n",
    "    for index in idap.index.unique():\n",
    "        df = pd.DataFrame(idap.loc[index])\n",
    "        if len(df.T) == 1:\n",
    "            adjusted_probs_5.append([df.T['H_ADJ_4'].values[0], df.T['M_ADJ_4'].values[0], df.T['NM_ADJ_4'].values[0]])\n",
    "            pass\n",
    "        else:\n",
    "            prev_dap = df.tail(1)['PREDICTION_ADJ_4'].iloc[0]\n",
    "            prev_pertype = df.tail(1)['PERTYPE'].iloc[0]\n",
    "            prev_prob = df.tail(1)[prev_dap + '_ADJ_4'].iloc[0]\n",
    "            for idx, row in df.iterrows():\n",
    "                if row['PERTYPE'] in mandatory_pertypes:\n",
    "                    joint_prob_M = 0.001\n",
    "                    #joint_prob_M = corr_matrices['{0}_{1}'.format(prev_pertype, row['PERTYPE'])][prev_dap][0]\n",
    "                    joint_prob_NM = corr_matrices['{0}_{1}'.format(prev_pertype, row['PERTYPE'])][prev_dap][1]\n",
    "                    joint_prob_H = corr_matrices['{0}_{1}'.format(prev_pertype, row['PERTYPE'])][prev_dap][2]\n",
    "                    prob_M = prev_prob * row['M'] * joint_prob_M**alpha\n",
    "                    prob_NM = prev_prob * row['NM'] * joint_prob_NM**alpha\n",
    "                    prob_H = prev_prob * row['H'] * joint_prob_H**alpha\n",
    "                    prev_dap = row['PREDICTION_ADJ_4']\n",
    "                    prev_pertype = row['PERTYPE']\n",
    "                    prev_prob = row[prev_dap]\n",
    "                    norm = [float(i)/sum([prob_H, prob_M, prob_NM]) for i in [prob_H, prob_M, prob_NM]]\n",
    "                    adjusted_probs_5.append(norm)\n",
    "                    \n",
    "                elif row['PERTYPE'] in nonmandatory_pertypes:\n",
    "                    joint_prob_M = corr_matrices['{0}_{1}'.format(prev_pertype, row['PERTYPE'])][prev_dap][0]\n",
    "                    joint_prob_NM = 0.001\n",
    "                    #joint_prob_NM = corr_matrices['{0}_{1}'.format(prev_pertype, row['PERTYPE'])][prev_dap][1]\n",
    "                    joint_prob_H = corr_matrices['{0}_{1}'.format(prev_pertype, row['PERTYPE'])][prev_dap][2]\n",
    "                    prob_M = prev_prob * row['M'] * joint_prob_M**alpha\n",
    "                    prob_NM = prev_prob * row['NM'] * joint_prob_NM**alpha\n",
    "                    prob_H = prev_prob * row['H'] * joint_prob_H**alpha\n",
    "                    prev_dap = row['PREDICTION_ADJ_4']\n",
    "                    prev_pertype = row['PERTYPE']\n",
    "                    prev_prob = row[prev_dap]\n",
    "                    norm = [float(i)/sum([prob_H, prob_M, prob_NM]) for i in [prob_H, prob_M, prob_NM]]\n",
    "                    adjusted_probs_5.append(norm)\n",
    "                    \n",
    "    idap['H_ADJ_5'] = [i[0] for i in adjusted_probs_5]\n",
    "    idap['M_ADJ_5'] = [i[1] for i in adjusted_probs_5]\n",
    "    idap['NM_ADJ_5'] = [i[2] for i in adjusted_probs_5]\n",
    "\n",
    "    adj_predictions_5 = []\n",
    "    for ix, row in idap.iterrows():\n",
    "        if row['H_ADJ_5'] > row['M_ADJ_5'] and row['H_ADJ_5'] > row['NM_ADJ_5']:\n",
    "            adj_predictions_5.append('H')\n",
    "        elif row['M_ADJ_5'] > row['H_ADJ_5'] and row['M_ADJ_5'] > row['NM_ADJ_5']:\n",
    "            adj_predictions_5.append('M')\n",
    "        else:\n",
    "            adj_predictions_5.append('NM')\n",
    "\n",
    "    idap['PREDICTION_ADJ_5'] = adj_predictions_5"
   ]
  },
  {
   "cell_type": "code",
   "execution_count": 142,
   "metadata": {},
   "outputs": [
    {
     "name": "stderr",
     "output_type": "stream",
     "text": [
      "C:\\Users\\fayd\\AppData\\Local\\Continuum\\anaconda3\\lib\\site-packages\\ipykernel_launcher.py:84: RuntimeWarning:\n",
      "\n",
      "invalid value encountered in double_scalars\n",
      "\n",
      "C:\\Users\\fayd\\AppData\\Local\\Continuum\\anaconda3\\lib\\site-packages\\ipykernel_launcher.py:123: RuntimeWarning:\n",
      "\n",
      "invalid value encountered in double_scalars\n",
      "\n"
     ]
    }
   ],
   "source": [
    "# Tune Alpha Parameter\n",
    "alphas = np.arange(0.1,1,.05)\n",
    "f1 = []\n",
    "prob_results = pd.DataFrame()\n",
    "\n",
    "for alpha in alphas:\n",
    "    correlation_probability_adjustments(alpha)\n",
    "    f1.append(f1_score(idap['IDAP'], idap['PREDICTION_ADJ_3'], average='weighted')*100)\n",
    "    \n",
    "results = [f1, alphas]\n",
    "max_index = results[0].index(max(results[0]))"
   ]
  },
  {
   "cell_type": "code",
   "execution_count": 143,
   "metadata": {},
   "outputs": [
    {
     "data": {
      "text/plain": [
       "Text(0.75,0.5,'Optimal Alpha: 0.10')"
      ]
     },
     "execution_count": 143,
     "metadata": {},
     "output_type": "execute_result"
    },
    {
     "data": {
      "image/png": "[encoded data removed]",
      "text/plain": [
       "<matplotlib.figure.Figure at 0x2013086ef98>"
      ]
     },
     "metadata": {},
     "output_type": "display_data"
    }
   ],
   "source": [
    "fig = plt.figure(figsize=(10,6))\n",
    "ax = fig.add_subplot(111)\n",
    "plt.plot(alphas, f1)\n",
    "plt.xlabel('Alpha', fontsize=15)\n",
    "plt.ylabel('F1 Score', fontsize=15)\n",
    "plt.axvline(results[1][max_index], color='r', linestyle='--')\n",
    "plt.text(.75, .5, 'Optimal Alpha: {0:.2f}'.format(results[1][max_index]), verticalalignment='bottom', transform=ax.transAxes, \\\n",
    "        horizontalalignment='right', fontsize=12)"
   ]
  },
  {
   "cell_type": "code",
   "execution_count": 41,
   "metadata": {},
   "outputs": [
    {
     "name": "stderr",
     "output_type": "stream",
     "text": [
      "C:\\Users\\fayd\\AppData\\Local\\Continuum\\anaconda3\\lib\\site-packages\\ipykernel_launcher.py:86: RuntimeWarning:\n",
      "\n",
      "invalid value encountered in double_scalars\n",
      "\n",
      "C:\\Users\\fayd\\AppData\\Local\\Continuum\\anaconda3\\lib\\site-packages\\ipykernel_launcher.py:155: RuntimeWarning:\n",
      "\n",
      "invalid value encountered in double_scalars\n",
      "\n",
      "C:\\Users\\fayd\\AppData\\Local\\Continuum\\anaconda3\\lib\\site-packages\\ipykernel_launcher.py:196: RuntimeWarning:\n",
      "\n",
      "invalid value encountered in double_scalars\n",
      "\n",
      "C:\\Users\\fayd\\AppData\\Local\\Continuum\\anaconda3\\lib\\site-packages\\ipykernel_launcher.py:251: RuntimeWarning:\n",
      "\n",
      "invalid value encountered in double_scalars\n",
      "\n"
     ]
    }
   ],
   "source": [
    "correlation_probability_adjustments(.10)"
   ]
  },
  {
   "cell_type": "code",
   "execution_count": 42,
   "metadata": {},
   "outputs": [
    {
     "data": {
      "text/html": [
       "<script>requirejs.config({paths: { 'plotly': ['https://cdn.plot.ly/plotly-latest.min']},});if(!window.Plotly) {{require(['plotly'],function(plotly) {window.Plotly=plotly;});}}</script>"
      ],
      "text/vnd.plotly.v1+html": [
       "<script>requirejs.config({paths: { 'plotly': ['https://cdn.plot.ly/plotly-latest.min']},});if(!window.Plotly) {{require(['plotly'],function(plotly) {window.Plotly=plotly;});}}</script>"
      ]
     },
     "metadata": {},
     "output_type": "display_data"
    },
    {
     "data": {
      "application/vnd.plotly.v1+json": {
       "data": [
        {
         "type": "bar",
         "x": [
          "Initial to Adj 1",
          "Adj 1 to Adj 2",
          "Adj 2 to Adj 3",
          "Adj 3 to Adj 4",
          "Adj 4 to Adj 5"
         ],
         "y": [
          0.014658828781903416,
          0.007217798943373763,
          0.0002976411935411861,
          0.0002976411935411861,
          0.0002976411935411861
         ]
        }
       ],
       "layout": {
        "title": "Percentage of Changed Daily Activity Patterns"
       }
      },
      "text/html": [
       "<div id=\"7da3f948-f8d0-44f0-9ca2-85e841c71c78\" style=\"height: 525px; width: 100%;\" class=\"plotly-graph-div\"></div><script type=\"text/javascript\">require([\"plotly\"], function(Plotly) { window.PLOTLYENV=window.PLOTLYENV || {};window.PLOTLYENV.BASE_URL=\"https://plot.ly\";Plotly.newPlot(\"7da3f948-f8d0-44f0-9ca2-85e841c71c78\", [{\"type\": \"bar\", \"x\": [\"Initial to Adj 1\", \"Adj 1 to Adj 2\", \"Adj 2 to Adj 3\", \"Adj 3 to Adj 4\", \"Adj 4 to Adj 5\"], \"y\": [0.014658828781903416, 0.007217798943373763, 0.0002976411935411861, 0.0002976411935411861, 0.0002976411935411861]}], {\"title\": \"Percentage of Changed Daily Activity Patterns\"}, {\"showLink\": true, \"linkText\": \"Export to plot.ly\"})});</script>"
      ],
      "text/vnd.plotly.v1+html": [
       "<div id=\"7da3f948-f8d0-44f0-9ca2-85e841c71c78\" style=\"height: 525px; width: 100%;\" class=\"plotly-graph-div\"></div><script type=\"text/javascript\">require([\"plotly\"], function(Plotly) { window.PLOTLYENV=window.PLOTLYENV || {};window.PLOTLYENV.BASE_URL=\"https://plot.ly\";Plotly.newPlot(\"7da3f948-f8d0-44f0-9ca2-85e841c71c78\", [{\"type\": \"bar\", \"x\": [\"Initial to Adj 1\", \"Adj 1 to Adj 2\", \"Adj 2 to Adj 3\", \"Adj 3 to Adj 4\", \"Adj 4 to Adj 5\"], \"y\": [0.014658828781903416, 0.007217798943373763, 0.0002976411935411861, 0.0002976411935411861, 0.0002976411935411861]}], {\"title\": \"Percentage of Changed Daily Activity Patterns\"}, {\"showLink\": true, \"linkText\": \"Export to plot.ly\"})});</script>"
      ]
     },
     "metadata": {},
     "output_type": "display_data"
    }
   ],
   "source": [
    "dap_changes = pd.DataFrame()\n",
    "total = len(idap)\n",
    "\n",
    "counter = 0\n",
    "for ix, row in idap.iterrows():\n",
    "    if row['PREDICTION'] != row['PREDICTION_ADJ']:\n",
    "        counter += 1\n",
    "dap_changes = dap_changes.append(pd.DataFrame(['Initial to Adj 1', counter/total]).T)\n",
    "\n",
    "counter = 0\n",
    "for ix, row in idap.iterrows():\n",
    "    if row['PREDICTION_ADJ'] != row['PREDICTION_ADJ_2']:\n",
    "        counter += 1\n",
    "dap_changes = dap_changes.append(pd.DataFrame(['Adj 1 to Adj 2', counter/total]).T)\n",
    "\n",
    "counter = 0\n",
    "for ix, row in idap.iterrows():\n",
    "    if row['PREDICTION_ADJ_2'] != row['PREDICTION_ADJ_3']:\n",
    "        counter += 1\n",
    "dap_changes = dap_changes.append(pd.DataFrame(['Adj 2 to Adj 3', counter/total]).T)\n",
    "\n",
    "counter = 0\n",
    "for ix, row in idap.iterrows():\n",
    "    if row['PREDICTION_ADJ_3'] != row['PREDICTION_ADJ_4']:\n",
    "        counter += 1\n",
    "dap_changes = dap_changes.append(pd.DataFrame(['Adj 3 to Adj 4', counter/total]).T)\n",
    "\n",
    "counter = 0\n",
    "for ix, row in idap.iterrows():\n",
    "    if row['PREDICTION_ADJ_4'] != row['PREDICTION_ADJ_5']:\n",
    "        counter += 1\n",
    "dap_changes = dap_changes.append(pd.DataFrame(['Adj 4 to Adj 5', counter/total]).T)\n",
    "\n",
    "dap_changes.columns = ['Phase', 'Change Count']\n",
    "dap_changes.reset_index(inplace=True)\n",
    "init_notebook_mode(connected=True)\n",
    "trace1 = go.Bar(\n",
    "            x=dap_changes['Phase'],\n",
    "            y=dap_changes['Change Count']\n",
    ") \n",
    "\n",
    "data = [trace1]\n",
    "layout = go.Layout(\n",
    "    title='Percentage of Changed Daily Activity Patterns'\n",
    ")\n",
    "\n",
    "fig = go.Figure(data=data, layout=layout)\n",
    "iplot(fig)"
   ]
  },
  {
   "cell_type": "code",
   "execution_count": 43,
   "metadata": {},
   "outputs": [
    {
     "data": {
      "image/png": "[encoded data removed]",
      "text/plain": [
       "<matplotlib.figure.Figure at 0x2b39e0962b0>"
      ]
     },
     "metadata": {},
     "output_type": "display_data"
    }
   ],
   "source": [
    "fig, axes = plt.subplots(nrows=2, ncols=3, figsize=(13,13))\n",
    "ax0, ax1, ax2, ax3, ax4, ax5 = axes.flatten()\n",
    "cmap = plt.cm.Blues\n",
    "classes = ['H', 'M', 'NM']\n",
    "cm1 = confusion_matrix(idap['IDAP'], idap['PREDICTION'])\n",
    "cm2 = confusion_matrix(idap['IDAP'], idap['PREDICTION_ADJ'])\n",
    "cm3 = confusion_matrix(idap['IDAP'], idap['PREDICTION_ADJ_2'])\n",
    "cm4 = confusion_matrix(idap['IDAP'], idap['PREDICTION_ADJ_3'])\n",
    "cm5 = confusion_matrix(idap['IDAP'], idap['PREDICTION_ADJ_4'])\n",
    "cm6 = confusion_matrix(idap['IDAP'], idap['PREDICTION_ADJ_5'])\n",
    "cms = [cm1, cm2, cm3, cm4, cm5, cm6]\n",
    "axes = [ax0, ax1, ax2, ax3, ax4, ax5]\n",
    "names = ['Original', 'Adjustment 1', 'Adjustment 2', 'Adjustment 3', 'Adjustment 4', 'Adjustment 5']\n",
    "predictions = [idap['PREDICTION'], idap['PREDICTION_ADJ'], idap['PREDICTION_ADJ_2'], \\\n",
    "               idap['PREDICTION_ADJ_3'], idap['PREDICTION_ADJ_4'], idap['PREDICTION_ADJ_5']]\n",
    "\n",
    "for ax, cm, name, prediction in zip(axes, cms, names, predictions):\n",
    "    np.set_printoptions(precision=2)\n",
    "\n",
    "    cm = cm.astype('float') / cm.sum(axis=1)[:, np.newaxis]\n",
    "    ax.imshow(cm, interpolation='nearest', cmap=cmap)\n",
    "    ax.set_title(name + ' - {0}'.format(\"F1 Score: {0:.4g}%\".format(f1_score(idap['IDAP'], prediction, average='weighted')*100)))\n",
    "    tick_marks = np.arange(len(classes))\n",
    "    ax.set_xticks(tick_marks)\n",
    "    ax.set_yticks(tick_marks)\n",
    "    ax.set_xticklabels(classes)\n",
    "    ax.set_yticklabels(classes)\n",
    "\n",
    "    thresh = cm.max() / 1.5\n",
    "    for i, j in itertools.product(range(cm.shape[0]), range(cm.shape[1])):\n",
    "        ax.text(j, i, round(cm[i, j],2),\n",
    "                 horizontalalignment=\"center\",\n",
    "                 color=\"white\" if cm[i, j] > thresh else \"black\")\n",
    "\n",
    "    plt.tight_layout()\n",
    "    ax.set_ylabel('True label')\n",
    "    ax.set_xlabel('Predicted label')\n"
   ]
  },
  {
   "cell_type": "code",
   "execution_count": 188,
   "metadata": {
    "collapsed": true,
    "jupyter": {
     "outputs_hidden": true
    }
   },
   "outputs": [],
   "source": [
    "prediction_adj_count_raw = idap.groupby(['PERTYPE', 'PREDICTION']).count()\n",
    "prediction_adj_count_raw.reset_index(inplace=True)\n",
    "prediction_adj_count_raw = prediction_adj_count_raw[['PERTYPE', 'PREDICTION', 'PERNO']]\n",
    "prediction_adj_count_raw.columns = ['PERTYPE', 'PREDICTION', 'COUNT']\n",
    "\n",
    "prediction_adj_count = idap.groupby(['PERTYPE', 'PREDICTION_ADJ']).count()\n",
    "prediction_adj_count.reset_index(inplace=True)\n",
    "prediction_adj_count = prediction_adj_count[['PERTYPE', 'PREDICTION_ADJ', 'PERNO']]\n",
    "prediction_adj_count.columns = ['PERTYPE', 'PREDICTION_ADJ', 'COUNT']\n",
    "\n",
    "prediction_adj_count_2 = idap.groupby(['PERTYPE', 'PREDICTION_ADJ_2']).count()\n",
    "prediction_adj_count_2.reset_index(inplace=True)\n",
    "prediction_adj_count_2 = prediction_adj_count_2[['PERTYPE', 'PREDICTION_ADJ_2', 'PERNO']]\n",
    "prediction_adj_count_2.columns = ['PERTYPE', 'PREDICTION_ADJ_2', 'COUNT']\n",
    "\n",
    "prediction_adj_count_3 = idap.groupby(['PERTYPE', 'PREDICTION_ADJ_3']).count()\n",
    "prediction_adj_count_3.reset_index(inplace=True)\n",
    "prediction_adj_count_3 = prediction_adj_count_3[['PERTYPE', 'PREDICTION_ADJ_3', 'PERNO']]\n",
    "prediction_adj_count_3.columns = ['PERTYPE', 'PREDICTION_ADJ_3', 'COUNT']\n",
    "\n",
    "prediction_adj_count_4 = idap.groupby(['PERTYPE', 'PREDICTION_ADJ_4']).count()\n",
    "prediction_adj_count_4.reset_index(inplace=True)\n",
    "prediction_adj_count_4 = prediction_adj_count_4[['PERTYPE', 'PREDICTION_ADJ_4', 'PERNO']]\n",
    "prediction_adj_count_4.columns = ['PERTYPE', 'PREDICTION_ADJ_4', 'COUNT']\n",
    "\n",
    "prediction_adj_count_5 = idap.groupby(['PERTYPE', 'PREDICTION_ADJ_5']).count()\n",
    "prediction_adj_count_5.reset_index(inplace=True)\n",
    "prediction_adj_count_5 = prediction_adj_count_5[['PERTYPE', 'PREDICTION_ADJ_5', 'PERNO']]\n",
    "prediction_adj_count_5.columns = ['PERTYPE', 'PREDICTION_ADJ_5', 'COUNT']"
   ]
  },
  {
   "cell_type": "code",
   "execution_count": 189,
   "metadata": {
    "collapsed": true,
    "jupyter": {
     "outputs_hidden": true
    }
   },
   "outputs": [],
   "source": [
    "survey_count = idap.groupby(['PERTYPE', 'IDAP']).count()\n",
    "survey_count.reset_index(inplace=True)\n",
    "survey_count = survey_count[['PERTYPE', 'IDAP', 'PERNO']]\n",
    "survey_count.columns = ['PERTYPE', 'IDAP', 'COUNT']"
   ]
  },
  {
   "cell_type": "code",
   "execution_count": 190,
   "metadata": {},
   "outputs": [
    {
     "data": {
      "text/html": [
       "<script>requirejs.config({paths: { 'plotly': ['https://cdn.plot.ly/plotly-latest.min']},});if(!window.Plotly) {{require(['plotly'],function(plotly) {window.Plotly=plotly;});}}</script>"
      ],
      "text/vnd.plotly.v1+html": [
       "<script>requirejs.config({paths: { 'plotly': ['https://cdn.plot.ly/plotly-latest.min']},});if(!window.Plotly) {{require(['plotly'],function(plotly) {window.Plotly=plotly;});}}</script>"
      ]
     },
     "metadata": {},
     "output_type": "display_data"
    },
    {
     "data": {
      "application/vnd.plotly.v1+json": {
       "data": [
        {
         "name": "Survey",
         "type": "bar",
         "x": [
          "H",
          "M",
          "NM"
         ],
         "y": [
          38,
          293,
          33
         ]
        },
        {
         "name": "Initial Model",
         "type": "bar",
         "x": [
          "H",
          "M",
          "NM"
         ],
         "y": [
          31,
          303,
          30
         ]
        },
        {
         "name": "Adjustment 1",
         "type": "bar",
         "x": [
          "H",
          "M",
          "NM"
         ],
         "y": [
          36,
          297,
          31
         ]
        },
        {
         "name": "Adjustment 2",
         "type": "bar",
         "x": [
          "H",
          "M",
          "NM"
         ],
         "y": [
          36,
          297,
          31
         ]
        },
        {
         "name": "Adjustment 3",
         "type": "bar",
         "x": [
          "H",
          "M",
          "NM"
         ],
         "y": [
          36,
          297,
          31
         ]
        },
        {
         "name": "Adjustment 4",
         "type": "bar",
         "x": [
          "H",
          "M",
          "NM"
         ],
         "y": [
          36,
          297,
          31
         ]
        },
        {
         "name": "Adjustment 5",
         "type": "bar",
         "x": [
          "H",
          "M",
          "NM"
         ],
         "y": [
          36,
          297,
          31
         ]
        }
       ],
       "layout": {
        "barmode": "group",
        "title": "DA_Stud"
       }
      },
      "text/html": [
       "<div id=\"d02ffe77-d6b4-4895-996a-195fe8b48161\" style=\"height: 525px; width: 100%;\" class=\"plotly-graph-div\"></div><script type=\"text/javascript\">require([\"plotly\"], function(Plotly) { window.PLOTLYENV=window.PLOTLYENV || {};window.PLOTLYENV.BASE_URL=\"https://plot.ly\";Plotly.newPlot(\"d02ffe77-d6b4-4895-996a-195fe8b48161\", [{\"type\": \"bar\", \"x\": [\"H\", \"M\", \"NM\"], \"y\": [38, 293, 33], \"name\": \"Survey\"}, {\"type\": \"bar\", \"x\": [\"H\", \"M\", \"NM\"], \"y\": [31, 303, 30], \"name\": \"Initial Model\"}, {\"type\": \"bar\", \"x\": [\"H\", \"M\", \"NM\"], \"y\": [36, 297, 31], \"name\": \"Adjustment 1\"}, {\"type\": \"bar\", \"x\": [\"H\", \"M\", \"NM\"], \"y\": [36, 297, 31], \"name\": \"Adjustment 2\"}, {\"type\": \"bar\", \"x\": [\"H\", \"M\", \"NM\"], \"y\": [36, 297, 31], \"name\": \"Adjustment 3\"}, {\"type\": \"bar\", \"x\": [\"H\", \"M\", \"NM\"], \"y\": [36, 297, 31], \"name\": \"Adjustment 4\"}, {\"type\": \"bar\", \"x\": [\"H\", \"M\", \"NM\"], \"y\": [36, 297, 31], \"name\": \"Adjustment 5\"}], {\"barmode\": \"group\", \"title\": \"DA_Stud\"}, {\"showLink\": true, \"linkText\": \"Export to plot.ly\"})});</script>"
      ],
      "text/vnd.plotly.v1+html": [
       "<div id=\"d02ffe77-d6b4-4895-996a-195fe8b48161\" style=\"height: 525px; width: 100%;\" class=\"plotly-graph-div\"></div><script type=\"text/javascript\">require([\"plotly\"], function(Plotly) { window.PLOTLYENV=window.PLOTLYENV || {};window.PLOTLYENV.BASE_URL=\"https://plot.ly\";Plotly.newPlot(\"d02ffe77-d6b4-4895-996a-195fe8b48161\", [{\"type\": \"bar\", \"x\": [\"H\", \"M\", \"NM\"], \"y\": [38, 293, 33], \"name\": \"Survey\"}, {\"type\": \"bar\", \"x\": [\"H\", \"M\", \"NM\"], \"y\": [31, 303, 30], \"name\": \"Initial Model\"}, {\"type\": \"bar\", \"x\": [\"H\", \"M\", \"NM\"], \"y\": [36, 297, 31], \"name\": \"Adjustment 1\"}, {\"type\": \"bar\", \"x\": [\"H\", \"M\", \"NM\"], \"y\": [36, 297, 31], \"name\": \"Adjustment 2\"}, {\"type\": \"bar\", \"x\": [\"H\", \"M\", \"NM\"], \"y\": [36, 297, 31], \"name\": \"Adjustment 3\"}, {\"type\": \"bar\", \"x\": [\"H\", \"M\", \"NM\"], \"y\": [36, 297, 31], \"name\": \"Adjustment 4\"}, {\"type\": \"bar\", \"x\": [\"H\", \"M\", \"NM\"], \"y\": [36, 297, 31], \"name\": \"Adjustment 5\"}], {\"barmode\": \"group\", \"title\": \"DA_Stud\"}, {\"showLink\": true, \"linkText\": \"Export to plot.ly\"})});</script>"
      ]
     },
     "metadata": {},
     "output_type": "display_data"
    },
    {
     "data": {
      "application/vnd.plotly.v1+json": {
       "data": [
        {
         "name": "Survey",
         "type": "bar",
         "x": [
          "H",
          "M",
          "NM"
         ],
         "y": [
          497,
          4413,
          451
         ]
        },
        {
         "name": "Initial Model",
         "type": "bar",
         "x": [
          "H",
          "M",
          "NM"
         ],
         "y": [
          417,
          4639,
          305
         ]
        },
        {
         "name": "Adjustment 1",
         "type": "bar",
         "x": [
          "H",
          "M",
          "NM"
         ],
         "y": [
          429,
          4615,
          317
         ]
        },
        {
         "name": "Adjustment 2",
         "type": "bar",
         "x": [
          "H",
          "M",
          "NM"
         ],
         "y": [
          446,
          4594,
          321
         ]
        },
        {
         "name": "Adjustment 3",
         "type": "bar",
         "x": [
          "H",
          "M",
          "NM"
         ],
         "y": [
          447,
          4594,
          320
         ]
        },
        {
         "name": "Adjustment 4",
         "type": "bar",
         "x": [
          "H",
          "M",
          "NM"
         ],
         "y": [
          446,
          4594,
          321
         ]
        },
        {
         "name": "Adjustment 5",
         "type": "bar",
         "x": [
          "H",
          "M",
          "NM"
         ],
         "y": [
          446,
          4594,
          321
         ]
        }
       ],
       "layout": {
        "barmode": "group",
        "title": "FT_Worker"
       }
      },
      "text/html": [
       "<div id=\"36fc8764-fbf3-45df-badf-859a542937c4\" style=\"height: 525px; width: 100%;\" class=\"plotly-graph-div\"></div><script type=\"text/javascript\">require([\"plotly\"], function(Plotly) { window.PLOTLYENV=window.PLOTLYENV || {};window.PLOTLYENV.BASE_URL=\"https://plot.ly\";Plotly.newPlot(\"36fc8764-fbf3-45df-badf-859a542937c4\", [{\"type\": \"bar\", \"x\": [\"H\", \"M\", \"NM\"], \"y\": [497, 4413, 451], \"name\": \"Survey\"}, {\"type\": \"bar\", \"x\": [\"H\", \"M\", \"NM\"], \"y\": [417, 4639, 305], \"name\": \"Initial Model\"}, {\"type\": \"bar\", \"x\": [\"H\", \"M\", \"NM\"], \"y\": [429, 4615, 317], \"name\": \"Adjustment 1\"}, {\"type\": \"bar\", \"x\": [\"H\", \"M\", \"NM\"], \"y\": [446, 4594, 321], \"name\": \"Adjustment 2\"}, {\"type\": \"bar\", \"x\": [\"H\", \"M\", \"NM\"], \"y\": [447, 4594, 320], \"name\": \"Adjustment 3\"}, {\"type\": \"bar\", \"x\": [\"H\", \"M\", \"NM\"], \"y\": [446, 4594, 321], \"name\": \"Adjustment 4\"}, {\"type\": \"bar\", \"x\": [\"H\", \"M\", \"NM\"], \"y\": [446, 4594, 321], \"name\": \"Adjustment 5\"}], {\"barmode\": \"group\", \"title\": \"FT_Worker\"}, {\"showLink\": true, \"linkText\": \"Export to plot.ly\"})});</script>"
      ],
      "text/vnd.plotly.v1+html": [
       "<div id=\"36fc8764-fbf3-45df-badf-859a542937c4\" style=\"height: 525px; width: 100%;\" class=\"plotly-graph-div\"></div><script type=\"text/javascript\">require([\"plotly\"], function(Plotly) { window.PLOTLYENV=window.PLOTLYENV || {};window.PLOTLYENV.BASE_URL=\"https://plot.ly\";Plotly.newPlot(\"36fc8764-fbf3-45df-badf-859a542937c4\", [{\"type\": \"bar\", \"x\": [\"H\", \"M\", \"NM\"], \"y\": [497, 4413, 451], \"name\": \"Survey\"}, {\"type\": \"bar\", \"x\": [\"H\", \"M\", \"NM\"], \"y\": [417, 4639, 305], \"name\": \"Initial Model\"}, {\"type\": \"bar\", \"x\": [\"H\", \"M\", \"NM\"], \"y\": [429, 4615, 317], \"name\": \"Adjustment 1\"}, {\"type\": \"bar\", \"x\": [\"H\", \"M\", \"NM\"], \"y\": [446, 4594, 321], \"name\": \"Adjustment 2\"}, {\"type\": \"bar\", \"x\": [\"H\", \"M\", \"NM\"], \"y\": [447, 4594, 320], \"name\": \"Adjustment 3\"}, {\"type\": \"bar\", \"x\": [\"H\", \"M\", \"NM\"], \"y\": [446, 4594, 321], \"name\": \"Adjustment 4\"}, {\"type\": \"bar\", \"x\": [\"H\", \"M\", \"NM\"], \"y\": [446, 4594, 321], \"name\": \"Adjustment 5\"}], {\"barmode\": \"group\", \"title\": \"FT_Worker\"}, {\"showLink\": true, \"linkText\": \"Export to plot.ly\"})});</script>"
      ]
     },
     "metadata": {},
     "output_type": "display_data"
    },
    {
     "data": {
      "application/vnd.plotly.v1+json": {
       "data": [
        {
         "name": "Survey",
         "type": "bar",
         "x": [
          "H",
          "M",
          "NM"
         ],
         "y": [
          499,
          56,
          991
         ]
        },
        {
         "name": "Initial Model",
         "type": "bar",
         "x": [
          "H",
          "M",
          "NM"
         ],
         "y": [
          491,
          32,
          1023
         ]
        },
        {
         "name": "Adjustment 1",
         "type": "bar",
         "x": [
          "H",
          "M",
          "NM"
         ],
         "y": [
          523,
          31,
          992
         ]
        },
        {
         "name": "Adjustment 2",
         "type": "bar",
         "x": [
          "H",
          "M",
          "NM"
         ],
         "y": [
          546,
          32,
          968
         ]
        },
        {
         "name": "Adjustment 3",
         "type": "bar",
         "x": [
          "H",
          "M",
          "NM"
         ],
         "y": [
          546,
          32,
          968
         ]
        },
        {
         "name": "Adjustment 4",
         "type": "bar",
         "x": [
          "H",
          "M",
          "NM"
         ],
         "y": [
          546,
          32,
          968
         ]
        },
        {
         "name": "Adjustment 5",
         "type": "bar",
         "x": [
          "H",
          "M",
          "NM"
         ],
         "y": [
          546,
          32,
          968
         ]
        }
       ],
       "layout": {
        "barmode": "group",
        "title": "Non_Worker"
       }
      },
      "text/html": [
       "<div id=\"a8d6b3ea-1bc6-4a54-9857-bba74950a04b\" style=\"height: 525px; width: 100%;\" class=\"plotly-graph-div\"></div><script type=\"text/javascript\">require([\"plotly\"], function(Plotly) { window.PLOTLYENV=window.PLOTLYENV || {};window.PLOTLYENV.BASE_URL=\"https://plot.ly\";Plotly.newPlot(\"a8d6b3ea-1bc6-4a54-9857-bba74950a04b\", [{\"type\": \"bar\", \"x\": [\"H\", \"M\", \"NM\"], \"y\": [499, 56, 991], \"name\": \"Survey\"}, {\"type\": \"bar\", \"x\": [\"H\", \"M\", \"NM\"], \"y\": [491, 32, 1023], \"name\": \"Initial Model\"}, {\"type\": \"bar\", \"x\": [\"H\", \"M\", \"NM\"], \"y\": [523, 31, 992], \"name\": \"Adjustment 1\"}, {\"type\": \"bar\", \"x\": [\"H\", \"M\", \"NM\"], \"y\": [546, 32, 968], \"name\": \"Adjustment 2\"}, {\"type\": \"bar\", \"x\": [\"H\", \"M\", \"NM\"], \"y\": [546, 32, 968], \"name\": \"Adjustment 3\"}, {\"type\": \"bar\", \"x\": [\"H\", \"M\", \"NM\"], \"y\": [546, 32, 968], \"name\": \"Adjustment 4\"}, {\"type\": \"bar\", \"x\": [\"H\", \"M\", \"NM\"], \"y\": [546, 32, 968], \"name\": \"Adjustment 5\"}], {\"barmode\": \"group\", \"title\": \"Non_Worker\"}, {\"showLink\": true, \"linkText\": \"Export to plot.ly\"})});</script>"
      ],
      "text/vnd.plotly.v1+html": [
       "<div id=\"a8d6b3ea-1bc6-4a54-9857-bba74950a04b\" style=\"height: 525px; width: 100%;\" class=\"plotly-graph-div\"></div><script type=\"text/javascript\">require([\"plotly\"], function(Plotly) { window.PLOTLYENV=window.PLOTLYENV || {};window.PLOTLYENV.BASE_URL=\"https://plot.ly\";Plotly.newPlot(\"a8d6b3ea-1bc6-4a54-9857-bba74950a04b\", [{\"type\": \"bar\", \"x\": [\"H\", \"M\", \"NM\"], \"y\": [499, 56, 991], \"name\": \"Survey\"}, {\"type\": \"bar\", \"x\": [\"H\", \"M\", \"NM\"], \"y\": [491, 32, 1023], \"name\": \"Initial Model\"}, {\"type\": \"bar\", \"x\": [\"H\", \"M\", \"NM\"], \"y\": [523, 31, 992], \"name\": \"Adjustment 1\"}, {\"type\": \"bar\", \"x\": [\"H\", \"M\", \"NM\"], \"y\": [546, 32, 968], \"name\": \"Adjustment 2\"}, {\"type\": \"bar\", \"x\": [\"H\", \"M\", \"NM\"], \"y\": [546, 32, 968], \"name\": \"Adjustment 3\"}, {\"type\": \"bar\", \"x\": [\"H\", \"M\", \"NM\"], \"y\": [546, 32, 968], \"name\": \"Adjustment 4\"}, {\"type\": \"bar\", \"x\": [\"H\", \"M\", \"NM\"], \"y\": [546, 32, 968], \"name\": \"Adjustment 5\"}], {\"barmode\": \"group\", \"title\": \"Non_Worker\"}, {\"showLink\": true, \"linkText\": \"Export to plot.ly\"})});</script>"
      ]
     },
     "metadata": {},
     "output_type": "display_data"
    },
    {
     "data": {
      "application/vnd.plotly.v1+json": {
       "data": [
        {
         "name": "Survey",
         "type": "bar",
         "x": [
          "H",
          "M",
          "NM"
         ],
         "y": [
          161,
          1584,
          217
         ]
        },
        {
         "name": "Initial Model",
         "type": "bar",
         "x": [
          "H",
          "M",
          "NM"
         ],
         "y": [
          142,
          1621,
          199
         ]
        },
        {
         "name": "Adjustment 1",
         "type": "bar",
         "x": [
          "H",
          "M",
          "NM"
         ],
         "y": [
          155,
          1594,
          213
         ]
        },
        {
         "name": "Adjustment 2",
         "type": "bar",
         "x": [
          "H",
          "M",
          "NM"
         ],
         "y": [
          155,
          1594,
          213
         ]
        },
        {
         "name": "Adjustment 3",
         "type": "bar",
         "x": [
          "H",
          "M",
          "NM"
         ],
         "y": [
          155,
          1594,
          213
         ]
        },
        {
         "name": "Adjustment 4",
         "type": "bar",
         "x": [
          "H",
          "M",
          "NM"
         ],
         "y": [
          155,
          1594,
          213
         ]
        },
        {
         "name": "Adjustment 5",
         "type": "bar",
         "x": [
          "H",
          "M",
          "NM"
         ],
         "y": [
          155,
          1594,
          213
         ]
        }
       ],
       "layout": {
        "barmode": "group",
        "title": "PDA_Stud"
       }
      },
      "text/html": [
       "<div id=\"c98e440d-dce1-410b-84e6-48c73b43b9e3\" style=\"height: 525px; width: 100%;\" class=\"plotly-graph-div\"></div><script type=\"text/javascript\">require([\"plotly\"], function(Plotly) { window.PLOTLYENV=window.PLOTLYENV || {};window.PLOTLYENV.BASE_URL=\"https://plot.ly\";Plotly.newPlot(\"c98e440d-dce1-410b-84e6-48c73b43b9e3\", [{\"type\": \"bar\", \"x\": [\"H\", \"M\", \"NM\"], \"y\": [161, 1584, 217], \"name\": \"Survey\"}, {\"type\": \"bar\", \"x\": [\"H\", \"M\", \"NM\"], \"y\": [142, 1621, 199], \"name\": \"Initial Model\"}, {\"type\": \"bar\", \"x\": [\"H\", \"M\", \"NM\"], \"y\": [155, 1594, 213], \"name\": \"Adjustment 1\"}, {\"type\": \"bar\", \"x\": [\"H\", \"M\", \"NM\"], \"y\": [155, 1594, 213], \"name\": \"Adjustment 2\"}, {\"type\": \"bar\", \"x\": [\"H\", \"M\", \"NM\"], \"y\": [155, 1594, 213], \"name\": \"Adjustment 3\"}, {\"type\": \"bar\", \"x\": [\"H\", \"M\", \"NM\"], \"y\": [155, 1594, 213], \"name\": \"Adjustment 4\"}, {\"type\": \"bar\", \"x\": [\"H\", \"M\", \"NM\"], \"y\": [155, 1594, 213], \"name\": \"Adjustment 5\"}], {\"barmode\": \"group\", \"title\": \"PDA_Stud\"}, {\"showLink\": true, \"linkText\": \"Export to plot.ly\"})});</script>"
      ],
      "text/vnd.plotly.v1+html": [
       "<div id=\"c98e440d-dce1-410b-84e6-48c73b43b9e3\" style=\"height: 525px; width: 100%;\" class=\"plotly-graph-div\"></div><script type=\"text/javascript\">require([\"plotly\"], function(Plotly) { window.PLOTLYENV=window.PLOTLYENV || {};window.PLOTLYENV.BASE_URL=\"https://plot.ly\";Plotly.newPlot(\"c98e440d-dce1-410b-84e6-48c73b43b9e3\", [{\"type\": \"bar\", \"x\": [\"H\", \"M\", \"NM\"], \"y\": [161, 1584, 217], \"name\": \"Survey\"}, {\"type\": \"bar\", \"x\": [\"H\", \"M\", \"NM\"], \"y\": [142, 1621, 199], \"name\": \"Initial Model\"}, {\"type\": \"bar\", \"x\": [\"H\", \"M\", \"NM\"], \"y\": [155, 1594, 213], \"name\": \"Adjustment 1\"}, {\"type\": \"bar\", \"x\": [\"H\", \"M\", \"NM\"], \"y\": [155, 1594, 213], \"name\": \"Adjustment 2\"}, {\"type\": \"bar\", \"x\": [\"H\", \"M\", \"NM\"], \"y\": [155, 1594, 213], \"name\": \"Adjustment 3\"}, {\"type\": \"bar\", \"x\": [\"H\", \"M\", \"NM\"], \"y\": [155, 1594, 213], \"name\": \"Adjustment 4\"}, {\"type\": \"bar\", \"x\": [\"H\", \"M\", \"NM\"], \"y\": [155, 1594, 213], \"name\": \"Adjustment 5\"}], {\"barmode\": \"group\", \"title\": \"PDA_Stud\"}, {\"showLink\": true, \"linkText\": \"Export to plot.ly\"})});</script>"
      ]
     },
     "metadata": {},
     "output_type": "display_data"
    },
    {
     "data": {
      "application/vnd.plotly.v1+json": {
       "data": [
        {
         "name": "Survey",
         "type": "bar",
         "x": [
          "H",
          "M",
          "NM"
         ],
         "y": [
          169,
          872,
          261
         ]
        },
        {
         "name": "Initial Model",
         "type": "bar",
         "x": [
          "H",
          "M",
          "NM"
         ],
         "y": [
          123,
          993,
          186
         ]
        },
        {
         "name": "Adjustment 1",
         "type": "bar",
         "x": [
          "H",
          "M",
          "NM"
         ],
         "y": [
          135,
          965,
          202
         ]
        },
        {
         "name": "Adjustment 2",
         "type": "bar",
         "x": [
          "H",
          "M",
          "NM"
         ],
         "y": [
          137,
          942,
          223
         ]
        },
        {
         "name": "Adjustment 3",
         "type": "bar",
         "x": [
          "H",
          "M",
          "NM"
         ],
         "y": [
          137,
          942,
          223
         ]
        },
        {
         "name": "Adjustment 4",
         "type": "bar",
         "x": [
          "H",
          "M",
          "NM"
         ],
         "y": [
          137,
          942,
          223
         ]
        },
        {
         "name": "Adjustment 5",
         "type": "bar",
         "x": [
          "H",
          "M",
          "NM"
         ],
         "y": [
          137,
          942,
          223
         ]
        }
       ],
       "layout": {
        "barmode": "group",
        "title": "PT_Worker"
       }
      },
      "text/html": [
       "<div id=\"93c6a0c1-085c-4a4d-8881-58f91479fe94\" style=\"height: 525px; width: 100%;\" class=\"plotly-graph-div\"></div><script type=\"text/javascript\">require([\"plotly\"], function(Plotly) { window.PLOTLYENV=window.PLOTLYENV || {};window.PLOTLYENV.BASE_URL=\"https://plot.ly\";Plotly.newPlot(\"93c6a0c1-085c-4a4d-8881-58f91479fe94\", [{\"type\": \"bar\", \"x\": [\"H\", \"M\", \"NM\"], \"y\": [169, 872, 261], \"name\": \"Survey\"}, {\"type\": \"bar\", \"x\": [\"H\", \"M\", \"NM\"], \"y\": [123, 993, 186], \"name\": \"Initial Model\"}, {\"type\": \"bar\", \"x\": [\"H\", \"M\", \"NM\"], \"y\": [135, 965, 202], \"name\": \"Adjustment 1\"}, {\"type\": \"bar\", \"x\": [\"H\", \"M\", \"NM\"], \"y\": [137, 942, 223], \"name\": \"Adjustment 2\"}, {\"type\": \"bar\", \"x\": [\"H\", \"M\", \"NM\"], \"y\": [137, 942, 223], \"name\": \"Adjustment 3\"}, {\"type\": \"bar\", \"x\": [\"H\", \"M\", \"NM\"], \"y\": [137, 942, 223], \"name\": \"Adjustment 4\"}, {\"type\": \"bar\", \"x\": [\"H\", \"M\", \"NM\"], \"y\": [137, 942, 223], \"name\": \"Adjustment 5\"}], {\"barmode\": \"group\", \"title\": \"PT_Worker\"}, {\"showLink\": true, \"linkText\": \"Export to plot.ly\"})});</script>"
      ],
      "text/vnd.plotly.v1+html": [
       "<div id=\"93c6a0c1-085c-4a4d-8881-58f91479fe94\" style=\"height: 525px; width: 100%;\" class=\"plotly-graph-div\"></div><script type=\"text/javascript\">require([\"plotly\"], function(Plotly) { window.PLOTLYENV=window.PLOTLYENV || {};window.PLOTLYENV.BASE_URL=\"https://plot.ly\";Plotly.newPlot(\"93c6a0c1-085c-4a4d-8881-58f91479fe94\", [{\"type\": \"bar\", \"x\": [\"H\", \"M\", \"NM\"], \"y\": [169, 872, 261], \"name\": \"Survey\"}, {\"type\": \"bar\", \"x\": [\"H\", \"M\", \"NM\"], \"y\": [123, 993, 186], \"name\": \"Initial Model\"}, {\"type\": \"bar\", \"x\": [\"H\", \"M\", \"NM\"], \"y\": [135, 965, 202], \"name\": \"Adjustment 1\"}, {\"type\": \"bar\", \"x\": [\"H\", \"M\", \"NM\"], \"y\": [137, 942, 223], \"name\": \"Adjustment 2\"}, {\"type\": \"bar\", \"x\": [\"H\", \"M\", \"NM\"], \"y\": [137, 942, 223], \"name\": \"Adjustment 3\"}, {\"type\": \"bar\", \"x\": [\"H\", \"M\", \"NM\"], \"y\": [137, 942, 223], \"name\": \"Adjustment 4\"}, {\"type\": \"bar\", \"x\": [\"H\", \"M\", \"NM\"], \"y\": [137, 942, 223], \"name\": \"Adjustment 5\"}], {\"barmode\": \"group\", \"title\": \"PT_Worker\"}, {\"showLink\": true, \"linkText\": \"Export to plot.ly\"})});</script>"
      ]
     },
     "metadata": {},
     "output_type": "display_data"
    },
    {
     "data": {
      "application/vnd.plotly.v1+json": {
       "data": [
        {
         "name": "Survey",
         "type": "bar",
         "x": [
          "H",
          "M",
          "NM"
         ],
         "y": [
          314,
          349,
          423
         ]
        },
        {
         "name": "Initial Model",
         "type": "bar",
         "x": [
          "H",
          "M",
          "NM"
         ],
         "y": [
          320,
          341,
          425
         ]
        },
        {
         "name": "Adjustment 1",
         "type": "bar",
         "x": [
          "H",
          "M",
          "NM"
         ],
         "y": [
          331,
          365,
          390
         ]
        },
        {
         "name": "Adjustment 2",
         "type": "bar",
         "x": [
          "H",
          "M",
          "NM"
         ],
         "y": [
          332,
          364,
          390
         ]
        },
        {
         "name": "Adjustment 3",
         "type": "bar",
         "x": [
          "H",
          "M",
          "NM"
         ],
         "y": [
          331,
          364,
          391
         ]
        },
        {
         "name": "Adjustment 4",
         "type": "bar",
         "x": [
          "H",
          "M",
          "NM"
         ],
         "y": [
          332,
          364,
          390
         ]
        },
        {
         "name": "Adjustment 5",
         "type": "bar",
         "x": [
          "H",
          "M",
          "NM"
         ],
         "y": [
          332,
          364,
          390
         ]
        }
       ],
       "layout": {
        "barmode": "group",
        "title": "PreSch_Child"
       }
      },
      "text/html": [
       "<div id=\"13188453-5101-4856-9704-37bc7c1e3a99\" style=\"height: 525px; width: 100%;\" class=\"plotly-graph-div\"></div><script type=\"text/javascript\">require([\"plotly\"], function(Plotly) { window.PLOTLYENV=window.PLOTLYENV || {};window.PLOTLYENV.BASE_URL=\"https://plot.ly\";Plotly.newPlot(\"13188453-5101-4856-9704-37bc7c1e3a99\", [{\"type\": \"bar\", \"x\": [\"H\", \"M\", \"NM\"], \"y\": [314, 349, 423], \"name\": \"Survey\"}, {\"type\": \"bar\", \"x\": [\"H\", \"M\", \"NM\"], \"y\": [320, 341, 425], \"name\": \"Initial Model\"}, {\"type\": \"bar\", \"x\": [\"H\", \"M\", \"NM\"], \"y\": [331, 365, 390], \"name\": \"Adjustment 1\"}, {\"type\": \"bar\", \"x\": [\"H\", \"M\", \"NM\"], \"y\": [332, 364, 390], \"name\": \"Adjustment 2\"}, {\"type\": \"bar\", \"x\": [\"H\", \"M\", \"NM\"], \"y\": [331, 364, 391], \"name\": \"Adjustment 3\"}, {\"type\": \"bar\", \"x\": [\"H\", \"M\", \"NM\"], \"y\": [332, 364, 390], \"name\": \"Adjustment 4\"}, {\"type\": \"bar\", \"x\": [\"H\", \"M\", \"NM\"], \"y\": [332, 364, 390], \"name\": \"Adjustment 5\"}], {\"barmode\": \"group\", \"title\": \"PreSch_Child\"}, {\"showLink\": true, \"linkText\": \"Export to plot.ly\"})});</script>"
      ],
      "text/vnd.plotly.v1+html": [
       "<div id=\"13188453-5101-4856-9704-37bc7c1e3a99\" style=\"height: 525px; width: 100%;\" class=\"plotly-graph-div\"></div><script type=\"text/javascript\">require([\"plotly\"], function(Plotly) { window.PLOTLYENV=window.PLOTLYENV || {};window.PLOTLYENV.BASE_URL=\"https://plot.ly\";Plotly.newPlot(\"13188453-5101-4856-9704-37bc7c1e3a99\", [{\"type\": \"bar\", \"x\": [\"H\", \"M\", \"NM\"], \"y\": [314, 349, 423], \"name\": \"Survey\"}, {\"type\": \"bar\", \"x\": [\"H\", \"M\", \"NM\"], \"y\": [320, 341, 425], \"name\": \"Initial Model\"}, {\"type\": \"bar\", \"x\": [\"H\", \"M\", \"NM\"], \"y\": [331, 365, 390], \"name\": \"Adjustment 1\"}, {\"type\": \"bar\", \"x\": [\"H\", \"M\", \"NM\"], \"y\": [332, 364, 390], \"name\": \"Adjustment 2\"}, {\"type\": \"bar\", \"x\": [\"H\", \"M\", \"NM\"], \"y\": [331, 364, 391], \"name\": \"Adjustment 3\"}, {\"type\": \"bar\", \"x\": [\"H\", \"M\", \"NM\"], \"y\": [332, 364, 390], \"name\": \"Adjustment 4\"}, {\"type\": \"bar\", \"x\": [\"H\", \"M\", \"NM\"], \"y\": [332, 364, 390], \"name\": \"Adjustment 5\"}], {\"barmode\": \"group\", \"title\": \"PreSch_Child\"}, {\"showLink\": true, \"linkText\": \"Export to plot.ly\"})});</script>"
      ]
     },
     "metadata": {},
     "output_type": "display_data"
    },
    {
     "data": {
      "application/vnd.plotly.v1+json": {
       "data": [
        {
         "name": "Survey",
         "type": "bar",
         "x": [
          "H",
          "M",
          "NM"
         ],
         "y": [
          520,
          23,
          842
         ]
        },
        {
         "name": "Initial Model",
         "type": "bar",
         "x": [
          "H",
          "M",
          "NM"
         ],
         "y": [
          492,
          14,
          879
         ]
        },
        {
         "name": "Adjustment 1",
         "type": "bar",
         "x": [
          "H",
          "M",
          "NM"
         ],
         "y": [
          516,
          13,
          856
         ]
        },
        {
         "name": "Adjustment 2",
         "type": "bar",
         "x": [
          "H",
          "M",
          "NM"
         ],
         "y": [
          531,
          13,
          841
         ]
        },
        {
         "name": "Adjustment 3",
         "type": "bar",
         "x": [
          "H",
          "M",
          "NM"
         ],
         "y": [
          531,
          13,
          841
         ]
        },
        {
         "name": "Adjustment 4",
         "type": "bar",
         "x": [
          "H",
          "M",
          "NM"
         ],
         "y": [
          531,
          13,
          841
         ]
        },
        {
         "name": "Adjustment 5",
         "type": "bar",
         "x": [
          "H",
          "M",
          "NM"
         ],
         "y": [
          531,
          13,
          841
         ]
        }
       ],
       "layout": {
        "barmode": "group",
        "title": "Retiree"
       }
      },
      "text/html": [
       "<div id=\"88271a5f-89b9-4811-8286-8c440afeee4d\" style=\"height: 525px; width: 100%;\" class=\"plotly-graph-div\"></div><script type=\"text/javascript\">require([\"plotly\"], function(Plotly) { window.PLOTLYENV=window.PLOTLYENV || {};window.PLOTLYENV.BASE_URL=\"https://plot.ly\";Plotly.newPlot(\"88271a5f-89b9-4811-8286-8c440afeee4d\", [{\"type\": \"bar\", \"x\": [\"H\", \"M\", \"NM\"], \"y\": [520, 23, 842], \"name\": \"Survey\"}, {\"type\": \"bar\", \"x\": [\"H\", \"M\", \"NM\"], \"y\": [492, 14, 879], \"name\": \"Initial Model\"}, {\"type\": \"bar\", \"x\": [\"H\", \"M\", \"NM\"], \"y\": [516, 13, 856], \"name\": \"Adjustment 1\"}, {\"type\": \"bar\", \"x\": [\"H\", \"M\", \"NM\"], \"y\": [531, 13, 841], \"name\": \"Adjustment 2\"}, {\"type\": \"bar\", \"x\": [\"H\", \"M\", \"NM\"], \"y\": [531, 13, 841], \"name\": \"Adjustment 3\"}, {\"type\": \"bar\", \"x\": [\"H\", \"M\", \"NM\"], \"y\": [531, 13, 841], \"name\": \"Adjustment 4\"}, {\"type\": \"bar\", \"x\": [\"H\", \"M\", \"NM\"], \"y\": [531, 13, 841], \"name\": \"Adjustment 5\"}], {\"barmode\": \"group\", \"title\": \"Retiree\"}, {\"showLink\": true, \"linkText\": \"Export to plot.ly\"})});</script>"
      ],
      "text/vnd.plotly.v1+html": [
       "<div id=\"88271a5f-89b9-4811-8286-8c440afeee4d\" style=\"height: 525px; width: 100%;\" class=\"plotly-graph-div\"></div><script type=\"text/javascript\">require([\"plotly\"], function(Plotly) { window.PLOTLYENV=window.PLOTLYENV || {};window.PLOTLYENV.BASE_URL=\"https://plot.ly\";Plotly.newPlot(\"88271a5f-89b9-4811-8286-8c440afeee4d\", [{\"type\": \"bar\", \"x\": [\"H\", \"M\", \"NM\"], \"y\": [520, 23, 842], \"name\": \"Survey\"}, {\"type\": \"bar\", \"x\": [\"H\", \"M\", \"NM\"], \"y\": [492, 14, 879], \"name\": \"Initial Model\"}, {\"type\": \"bar\", \"x\": [\"H\", \"M\", \"NM\"], \"y\": [516, 13, 856], \"name\": \"Adjustment 1\"}, {\"type\": \"bar\", \"x\": [\"H\", \"M\", \"NM\"], \"y\": [531, 13, 841], \"name\": \"Adjustment 2\"}, {\"type\": \"bar\", \"x\": [\"H\", \"M\", \"NM\"], \"y\": [531, 13, 841], \"name\": \"Adjustment 3\"}, {\"type\": \"bar\", \"x\": [\"H\", \"M\", \"NM\"], \"y\": [531, 13, 841], \"name\": \"Adjustment 4\"}, {\"type\": \"bar\", \"x\": [\"H\", \"M\", \"NM\"], \"y\": [531, 13, 841], \"name\": \"Adjustment 5\"}], {\"barmode\": \"group\", \"title\": \"Retiree\"}, {\"showLink\": true, \"linkText\": \"Export to plot.ly\"})});</script>"
      ]
     },
     "metadata": {},
     "output_type": "display_data"
    },
    {
     "data": {
      "application/vnd.plotly.v1+json": {
       "data": [
        {
         "name": "Survey",
         "type": "bar",
         "x": [
          "H",
          "M",
          "NM"
         ],
         "y": [
          73,
          273,
          87
         ]
        },
        {
         "name": "Initial Model",
         "type": "bar",
         "x": [
          "H",
          "M",
          "NM"
         ],
         "y": [
          63,
          303,
          67
         ]
        },
        {
         "name": "Adjustment 1",
         "type": "bar",
         "x": [
          "H",
          "M",
          "NM"
         ],
         "y": [
          70,
          289,
          74
         ]
        },
        {
         "name": "Adjustment 2",
         "type": "bar",
         "x": [
          "H",
          "M",
          "NM"
         ],
         "y": [
          75,
          282,
          76
         ]
        },
        {
         "name": "Adjustment 3",
         "type": "bar",
         "x": [
          "H",
          "M",
          "NM"
         ],
         "y": [
          75,
          282,
          76
         ]
        },
        {
         "name": "Adjustment 4",
         "type": "bar",
         "x": [
          "H",
          "M",
          "NM"
         ],
         "y": [
          75,
          282,
          76
         ]
        },
        {
         "name": "Adjustment 5",
         "type": "bar",
         "x": [
          "H",
          "M",
          "NM"
         ],
         "y": [
          75,
          282,
          76
         ]
        }
       ],
       "layout": {
        "barmode": "group",
        "title": "Univ_Stud"
       }
      },
      "text/html": [
       "<div id=\"c5cc9cce-723a-47f8-828e-efd46dd4e0ff\" style=\"height: 525px; width: 100%;\" class=\"plotly-graph-div\"></div><script type=\"text/javascript\">require([\"plotly\"], function(Plotly) { window.PLOTLYENV=window.PLOTLYENV || {};window.PLOTLYENV.BASE_URL=\"https://plot.ly\";Plotly.newPlot(\"c5cc9cce-723a-47f8-828e-efd46dd4e0ff\", [{\"type\": \"bar\", \"x\": [\"H\", \"M\", \"NM\"], \"y\": [73, 273, 87], \"name\": \"Survey\"}, {\"type\": \"bar\", \"x\": [\"H\", \"M\", \"NM\"], \"y\": [63, 303, 67], \"name\": \"Initial Model\"}, {\"type\": \"bar\", \"x\": [\"H\", \"M\", \"NM\"], \"y\": [70, 289, 74], \"name\": \"Adjustment 1\"}, {\"type\": \"bar\", \"x\": [\"H\", \"M\", \"NM\"], \"y\": [75, 282, 76], \"name\": \"Adjustment 2\"}, {\"type\": \"bar\", \"x\": [\"H\", \"M\", \"NM\"], \"y\": [75, 282, 76], \"name\": \"Adjustment 3\"}, {\"type\": \"bar\", \"x\": [\"H\", \"M\", \"NM\"], \"y\": [75, 282, 76], \"name\": \"Adjustment 4\"}, {\"type\": \"bar\", \"x\": [\"H\", \"M\", \"NM\"], \"y\": [75, 282, 76], \"name\": \"Adjustment 5\"}], {\"barmode\": \"group\", \"title\": \"Univ_Stud\"}, {\"showLink\": true, \"linkText\": \"Export to plot.ly\"})});</script>"
      ],
      "text/vnd.plotly.v1+html": [
       "<div id=\"c5cc9cce-723a-47f8-828e-efd46dd4e0ff\" style=\"height: 525px; width: 100%;\" class=\"plotly-graph-div\"></div><script type=\"text/javascript\">require([\"plotly\"], function(Plotly) { window.PLOTLYENV=window.PLOTLYENV || {};window.PLOTLYENV.BASE_URL=\"https://plot.ly\";Plotly.newPlot(\"c5cc9cce-723a-47f8-828e-efd46dd4e0ff\", [{\"type\": \"bar\", \"x\": [\"H\", \"M\", \"NM\"], \"y\": [73, 273, 87], \"name\": \"Survey\"}, {\"type\": \"bar\", \"x\": [\"H\", \"M\", \"NM\"], \"y\": [63, 303, 67], \"name\": \"Initial Model\"}, {\"type\": \"bar\", \"x\": [\"H\", \"M\", \"NM\"], \"y\": [70, 289, 74], \"name\": \"Adjustment 1\"}, {\"type\": \"bar\", \"x\": [\"H\", \"M\", \"NM\"], \"y\": [75, 282, 76], \"name\": \"Adjustment 2\"}, {\"type\": \"bar\", \"x\": [\"H\", \"M\", \"NM\"], \"y\": [75, 282, 76], \"name\": \"Adjustment 3\"}, {\"type\": \"bar\", \"x\": [\"H\", \"M\", \"NM\"], \"y\": [75, 282, 76], \"name\": \"Adjustment 4\"}, {\"type\": \"bar\", \"x\": [\"H\", \"M\", \"NM\"], \"y\": [75, 282, 76], \"name\": \"Adjustment 5\"}], {\"barmode\": \"group\", \"title\": \"Univ_Stud\"}, {\"showLink\": true, \"linkText\": \"Export to plot.ly\"})});</script>"
      ]
     },
     "metadata": {},
     "output_type": "display_data"
    }
   ],
   "source": [
    "init_notebook_mode(connected=True)\n",
    "for pertype in survey_count.PERTYPE.unique():\n",
    "    predictions_raw = prediction_adj_count_raw[prediction_adj_count_raw['PERTYPE'] == pertype]\n",
    "    predictions = prediction_adj_count[prediction_adj_count['PERTYPE'] == pertype]\n",
    "    predictions_2 = prediction_adj_count_2[prediction_adj_count_2['PERTYPE'] == pertype]\n",
    "    predictions_3 = prediction_adj_count_3[prediction_adj_count_3['PERTYPE'] == pertype]\n",
    "    predictions_4 = prediction_adj_count_4[prediction_adj_count_4['PERTYPE'] == pertype]\n",
    "    predictions_5 = prediction_adj_count_5[prediction_adj_count_5['PERTYPE'] == pertype]\n",
    "    survey = survey_count[survey_count['PERTYPE'] == pertype]\n",
    "    trace1 = go.Bar(\n",
    "        x=survey['IDAP'],\n",
    "        y=survey['COUNT'],\n",
    "        name='Survey'\n",
    "    ) \n",
    "    trace2 = go.Bar(\n",
    "        x=predictions_raw['PREDICTION'],\n",
    "        y=predictions_raw['COUNT'],\n",
    "        name='Initial Model'\n",
    "    )\n",
    "    trace3 = go.Bar(\n",
    "        x=predictions['PREDICTION_ADJ'],\n",
    "        y=predictions['COUNT'],\n",
    "        name='Adjustment 1'\n",
    "    )\n",
    "    trace4 = go.Bar(\n",
    "        x=predictions_2['PREDICTION_ADJ_2'],\n",
    "        y=predictions_2['COUNT'],\n",
    "        name='Adjustment 2'\n",
    "    )\n",
    "    trace5 = go.Bar(\n",
    "        x=predictions_3['PREDICTION_ADJ_3'],\n",
    "        y=predictions_3['COUNT'],\n",
    "        name='Adjustment 3'\n",
    "    )\n",
    "    trace6 = go.Bar(\n",
    "        x=predictions_4['PREDICTION_ADJ_4'],\n",
    "        y=predictions_4['COUNT'],\n",
    "        name='Adjustment 4'\n",
    "    )\n",
    "    trace7 = go.Bar(\n",
    "        x=predictions_5['PREDICTION_ADJ_5'],\n",
    "        y=predictions_5['COUNT'],\n",
    "        name='Adjustment 5'\n",
    "    )\n",
    "    data = [trace1, trace2, trace3, trace4, trace5, trace6, trace7]\n",
    "    layout = go.Layout(\n",
    "        barmode='group',\n",
    "        title=pertype\n",
    "    )\n",
    "\n",
    "    fig = go.Figure(data=data, layout=layout)\n",
    "    iplot(fig)"
   ]
  },
  {
   "cell_type": "code",
   "execution_count": null,
   "metadata": {
    "collapsed": true,
    "jupyter": {
     "outputs_hidden": true
    }
   },
   "outputs": [],
   "source": []
  },
  {
   "cell_type": "code",
   "execution_count": null,
   "metadata": {
    "collapsed": true,
    "jupyter": {
     "outputs_hidden": true
    }
   },
   "outputs": [],
   "source": []
  },
  {
   "cell_type": "code",
   "execution_count": null,
   "metadata": {
    "collapsed": true,
    "jupyter": {
     "outputs_hidden": true
    }
   },
   "outputs": [],
   "source": []
  },
  {
   "cell_type": "code",
   "execution_count": null,
   "metadata": {
    "collapsed": true,
    "jupyter": {
     "outputs_hidden": true
    }
   },
   "outputs": [],
   "source": []
  },
  {
   "cell_type": "code",
   "execution_count": null,
   "metadata": {
    "collapsed": true,
    "jupyter": {
     "outputs_hidden": true
    }
   },
   "outputs": [],
   "source": []
  }
 ],
 "metadata": {
  "kernelspec": {
   "display_name": "Python 3",
   "language": "python",
   "name": "python3"
  },
  "language_info": {
   "codemirror_mode": {
    "name": "ipython",
    "version": 3
   },
   "file_extension": ".py",
   "mimetype": "text/x-python",
   "name": "python",
   "nbconvert_exporter": "python",
   "pygments_lexer": "ipython3",
   "version": "3.6.9"
  }
 },
 "nbformat": 4,
 "nbformat_minor": 4
}
